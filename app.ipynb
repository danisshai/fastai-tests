{
  "nbformat": 4,
  "nbformat_minor": 0,
  "metadata": {
    "colab": {
      "provenance": []
    },
    "kernelspec": {
      "name": "python3",
      "display_name": "Python 3"
    },
    "language_info": {
      "name": "python"
    },
    "widgets": {
      "application/vnd.jupyter.widget-state+json": {
        "d0fb8dff52d24fabafeae54a07ceec99": {
          "model_module": "@jupyter-widgets/controls",
          "model_name": "VBoxModel",
          "model_module_version": "1.5.0",
          "state": {
            "_dom_classes": [],
            "_model_module": "@jupyter-widgets/controls",
            "_model_module_version": "1.5.0",
            "_model_name": "VBoxModel",
            "_view_count": null,
            "_view_module": "@jupyter-widgets/controls",
            "_view_module_version": "1.5.0",
            "_view_name": "VBoxView",
            "box_style": "",
            "children": [
              "IPY_MODEL_8be54918e6444f25932065808405f68a",
              "IPY_MODEL_09632aaeddfd4cf48cc7bc8f283b92dd",
              "IPY_MODEL_2ac622faf7d548bfaf7d6fab2a3b1072",
              "IPY_MODEL_5c266a25463a4cedb82e86eff12aa34b",
              "IPY_MODEL_9940299281384f9f8c8c89ec2c97220c"
            ],
            "layout": "IPY_MODEL_821b899d40e6451aadb138579338b520"
          }
        },
        "8be54918e6444f25932065808405f68a": {
          "model_module": "@jupyter-widgets/controls",
          "model_name": "LabelModel",
          "model_module_version": "1.5.0",
          "state": {
            "_dom_classes": [],
            "_model_module": "@jupyter-widgets/controls",
            "_model_module_version": "1.5.0",
            "_model_name": "LabelModel",
            "_view_count": null,
            "_view_module": "@jupyter-widgets/controls",
            "_view_module_version": "1.5.0",
            "_view_name": "LabelView",
            "description": "",
            "description_tooltip": null,
            "layout": "IPY_MODEL_94bf3d05483847e2a9dfd1595a947d54",
            "placeholder": "​",
            "style": "IPY_MODEL_b3f0e0a9796e4a6f8ea05f7d3a4370d2",
            "value": "Select your bear!"
          }
        },
        "09632aaeddfd4cf48cc7bc8f283b92dd": {
          "model_module": "@jupyter-widgets/controls",
          "model_name": "FileUploadModel",
          "model_module_version": "1.5.0",
          "state": {
            "_counter": 1,
            "_dom_classes": [],
            "_model_module": "@jupyter-widgets/controls",
            "_model_module_version": "1.5.0",
            "_model_name": "FileUploadModel",
            "_view_count": null,
            "_view_module": "@jupyter-widgets/controls",
            "_view_module_version": "1.5.0",
            "_view_name": "FileUploadView",
            "accept": "",
            "button_style": "",
            "data": [
              null
            ],
            "description": "Upload",
            "description_tooltip": null,
            "disabled": false,
            "error": "",
            "icon": "upload",
            "layout": "IPY_MODEL_f6edaa264d574d1fa7b81eb7c28aa4a8",
            "metadata": [
              {
                "name": "95585487.png",
                "type": "image/png",
                "size": 96082,
                "lastModified": 1687207780066
              }
            ],
            "multiple": false,
            "style": "IPY_MODEL_419df18f6d314ba79ffabb559f385caf"
          }
        },
        "2ac622faf7d548bfaf7d6fab2a3b1072": {
          "model_module": "@jupyter-widgets/controls",
          "model_name": "ButtonModel",
          "model_module_version": "1.5.0",
          "state": {
            "_dom_classes": [],
            "_model_module": "@jupyter-widgets/controls",
            "_model_module_version": "1.5.0",
            "_model_name": "ButtonModel",
            "_view_count": null,
            "_view_module": "@jupyter-widgets/controls",
            "_view_module_version": "1.5.0",
            "_view_name": "ButtonView",
            "button_style": "",
            "description": "Classify",
            "disabled": false,
            "icon": "",
            "layout": "IPY_MODEL_576b4c413a8b4ea0aa3e62063760edac",
            "style": "IPY_MODEL_c98df1e9d80742f889050ac33b69f58a",
            "tooltip": ""
          }
        },
        "5c266a25463a4cedb82e86eff12aa34b": {
          "model_module": "@jupyter-widgets/output",
          "model_name": "OutputModel",
          "model_module_version": "1.0.0",
          "state": {
            "_dom_classes": [],
            "_model_module": "@jupyter-widgets/output",
            "_model_module_version": "1.0.0",
            "_model_name": "OutputModel",
            "_view_count": null,
            "_view_module": "@jupyter-widgets/output",
            "_view_module_version": "1.0.0",
            "_view_name": "OutputView",
            "layout": "IPY_MODEL_7e94a36022904d7abb5aab26a0488dcd",
            "msg_id": "",
            "outputs": [
              {
                "output_type": "display_data",
                "data": {
                  "text/plain": "<PIL.Image.Image image mode=RGB size=128x128>",
                  "image/png": "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\n"
                },
                "metadata": {}
              }
            ]
          }
        },
        "9940299281384f9f8c8c89ec2c97220c": {
          "model_module": "@jupyter-widgets/controls",
          "model_name": "LabelModel",
          "model_module_version": "1.5.0",
          "state": {
            "_dom_classes": [],
            "_model_module": "@jupyter-widgets/controls",
            "_model_module_version": "1.5.0",
            "_model_name": "LabelModel",
            "_view_count": null,
            "_view_module": "@jupyter-widgets/controls",
            "_view_module_version": "1.5.0",
            "_view_name": "LabelView",
            "description": "",
            "description_tooltip": null,
            "layout": "IPY_MODEL_ed351cbb87524e7a8e61c66f2d8365b3",
            "placeholder": "​",
            "style": "IPY_MODEL_3714d53f1af24a5cb2a4d4c12700fee2",
            "value": "Prediction: young; Probability: 0.8548"
          }
        },
        "821b899d40e6451aadb138579338b520": {
          "model_module": "@jupyter-widgets/base",
          "model_name": "LayoutModel",
          "model_module_version": "1.2.0",
          "state": {
            "_model_module": "@jupyter-widgets/base",
            "_model_module_version": "1.2.0",
            "_model_name": "LayoutModel",
            "_view_count": null,
            "_view_module": "@jupyter-widgets/base",
            "_view_module_version": "1.2.0",
            "_view_name": "LayoutView",
            "align_content": null,
            "align_items": null,
            "align_self": null,
            "border": null,
            "bottom": null,
            "display": null,
            "flex": null,
            "flex_flow": null,
            "grid_area": null,
            "grid_auto_columns": null,
            "grid_auto_flow": null,
            "grid_auto_rows": null,
            "grid_column": null,
            "grid_gap": null,
            "grid_row": null,
            "grid_template_areas": null,
            "grid_template_columns": null,
            "grid_template_rows": null,
            "height": null,
            "justify_content": null,
            "justify_items": null,
            "left": null,
            "margin": null,
            "max_height": null,
            "max_width": null,
            "min_height": null,
            "min_width": null,
            "object_fit": null,
            "object_position": null,
            "order": null,
            "overflow": null,
            "overflow_x": null,
            "overflow_y": null,
            "padding": null,
            "right": null,
            "top": null,
            "visibility": null,
            "width": null
          }
        },
        "94bf3d05483847e2a9dfd1595a947d54": {
          "model_module": "@jupyter-widgets/base",
          "model_name": "LayoutModel",
          "model_module_version": "1.2.0",
          "state": {
            "_model_module": "@jupyter-widgets/base",
            "_model_module_version": "1.2.0",
            "_model_name": "LayoutModel",
            "_view_count": null,
            "_view_module": "@jupyter-widgets/base",
            "_view_module_version": "1.2.0",
            "_view_name": "LayoutView",
            "align_content": null,
            "align_items": null,
            "align_self": null,
            "border": null,
            "bottom": null,
            "display": null,
            "flex": null,
            "flex_flow": null,
            "grid_area": null,
            "grid_auto_columns": null,
            "grid_auto_flow": null,
            "grid_auto_rows": null,
            "grid_column": null,
            "grid_gap": null,
            "grid_row": null,
            "grid_template_areas": null,
            "grid_template_columns": null,
            "grid_template_rows": null,
            "height": null,
            "justify_content": null,
            "justify_items": null,
            "left": null,
            "margin": null,
            "max_height": null,
            "max_width": null,
            "min_height": null,
            "min_width": null,
            "object_fit": null,
            "object_position": null,
            "order": null,
            "overflow": null,
            "overflow_x": null,
            "overflow_y": null,
            "padding": null,
            "right": null,
            "top": null,
            "visibility": null,
            "width": null
          }
        },
        "b3f0e0a9796e4a6f8ea05f7d3a4370d2": {
          "model_module": "@jupyter-widgets/controls",
          "model_name": "DescriptionStyleModel",
          "model_module_version": "1.5.0",
          "state": {
            "_model_module": "@jupyter-widgets/controls",
            "_model_module_version": "1.5.0",
            "_model_name": "DescriptionStyleModel",
            "_view_count": null,
            "_view_module": "@jupyter-widgets/base",
            "_view_module_version": "1.2.0",
            "_view_name": "StyleView",
            "description_width": ""
          }
        },
        "f6edaa264d574d1fa7b81eb7c28aa4a8": {
          "model_module": "@jupyter-widgets/base",
          "model_name": "LayoutModel",
          "model_module_version": "1.2.0",
          "state": {
            "_model_module": "@jupyter-widgets/base",
            "_model_module_version": "1.2.0",
            "_model_name": "LayoutModel",
            "_view_count": null,
            "_view_module": "@jupyter-widgets/base",
            "_view_module_version": "1.2.0",
            "_view_name": "LayoutView",
            "align_content": null,
            "align_items": null,
            "align_self": null,
            "border": null,
            "bottom": null,
            "display": null,
            "flex": null,
            "flex_flow": null,
            "grid_area": null,
            "grid_auto_columns": null,
            "grid_auto_flow": null,
            "grid_auto_rows": null,
            "grid_column": null,
            "grid_gap": null,
            "grid_row": null,
            "grid_template_areas": null,
            "grid_template_columns": null,
            "grid_template_rows": null,
            "height": null,
            "justify_content": null,
            "justify_items": null,
            "left": null,
            "margin": null,
            "max_height": null,
            "max_width": null,
            "min_height": null,
            "min_width": null,
            "object_fit": null,
            "object_position": null,
            "order": null,
            "overflow": null,
            "overflow_x": null,
            "overflow_y": null,
            "padding": null,
            "right": null,
            "top": null,
            "visibility": null,
            "width": null
          }
        },
        "419df18f6d314ba79ffabb559f385caf": {
          "model_module": "@jupyter-widgets/controls",
          "model_name": "ButtonStyleModel",
          "model_module_version": "1.5.0",
          "state": {
            "_model_module": "@jupyter-widgets/controls",
            "_model_module_version": "1.5.0",
            "_model_name": "ButtonStyleModel",
            "_view_count": null,
            "_view_module": "@jupyter-widgets/base",
            "_view_module_version": "1.2.0",
            "_view_name": "StyleView",
            "button_color": null,
            "font_weight": ""
          }
        },
        "576b4c413a8b4ea0aa3e62063760edac": {
          "model_module": "@jupyter-widgets/base",
          "model_name": "LayoutModel",
          "model_module_version": "1.2.0",
          "state": {
            "_model_module": "@jupyter-widgets/base",
            "_model_module_version": "1.2.0",
            "_model_name": "LayoutModel",
            "_view_count": null,
            "_view_module": "@jupyter-widgets/base",
            "_view_module_version": "1.2.0",
            "_view_name": "LayoutView",
            "align_content": null,
            "align_items": null,
            "align_self": null,
            "border": null,
            "bottom": null,
            "display": null,
            "flex": null,
            "flex_flow": null,
            "grid_area": null,
            "grid_auto_columns": null,
            "grid_auto_flow": null,
            "grid_auto_rows": null,
            "grid_column": null,
            "grid_gap": null,
            "grid_row": null,
            "grid_template_areas": null,
            "grid_template_columns": null,
            "grid_template_rows": null,
            "height": null,
            "justify_content": null,
            "justify_items": null,
            "left": null,
            "margin": null,
            "max_height": null,
            "max_width": null,
            "min_height": null,
            "min_width": null,
            "object_fit": null,
            "object_position": null,
            "order": null,
            "overflow": null,
            "overflow_x": null,
            "overflow_y": null,
            "padding": null,
            "right": null,
            "top": null,
            "visibility": null,
            "width": null
          }
        },
        "c98df1e9d80742f889050ac33b69f58a": {
          "model_module": "@jupyter-widgets/controls",
          "model_name": "ButtonStyleModel",
          "model_module_version": "1.5.0",
          "state": {
            "_model_module": "@jupyter-widgets/controls",
            "_model_module_version": "1.5.0",
            "_model_name": "ButtonStyleModel",
            "_view_count": null,
            "_view_module": "@jupyter-widgets/base",
            "_view_module_version": "1.2.0",
            "_view_name": "StyleView",
            "button_color": null,
            "font_weight": ""
          }
        },
        "ed351cbb87524e7a8e61c66f2d8365b3": {
          "model_module": "@jupyter-widgets/base",
          "model_name": "LayoutModel",
          "model_module_version": "1.2.0",
          "state": {
            "_model_module": "@jupyter-widgets/base",
            "_model_module_version": "1.2.0",
            "_model_name": "LayoutModel",
            "_view_count": null,
            "_view_module": "@jupyter-widgets/base",
            "_view_module_version": "1.2.0",
            "_view_name": "LayoutView",
            "align_content": null,
            "align_items": null,
            "align_self": null,
            "border": null,
            "bottom": null,
            "display": null,
            "flex": null,
            "flex_flow": null,
            "grid_area": null,
            "grid_auto_columns": null,
            "grid_auto_flow": null,
            "grid_auto_rows": null,
            "grid_column": null,
            "grid_gap": null,
            "grid_row": null,
            "grid_template_areas": null,
            "grid_template_columns": null,
            "grid_template_rows": null,
            "height": null,
            "justify_content": null,
            "justify_items": null,
            "left": null,
            "margin": null,
            "max_height": null,
            "max_width": null,
            "min_height": null,
            "min_width": null,
            "object_fit": null,
            "object_position": null,
            "order": null,
            "overflow": null,
            "overflow_x": null,
            "overflow_y": null,
            "padding": null,
            "right": null,
            "top": null,
            "visibility": null,
            "width": null
          }
        },
        "3714d53f1af24a5cb2a4d4c12700fee2": {
          "model_module": "@jupyter-widgets/controls",
          "model_name": "DescriptionStyleModel",
          "model_module_version": "1.5.0",
          "state": {
            "_model_module": "@jupyter-widgets/controls",
            "_model_module_version": "1.5.0",
            "_model_name": "DescriptionStyleModel",
            "_view_count": null,
            "_view_module": "@jupyter-widgets/base",
            "_view_module_version": "1.2.0",
            "_view_name": "StyleView",
            "description_width": ""
          }
        },
        "7e94a36022904d7abb5aab26a0488dcd": {
          "model_module": "@jupyter-widgets/base",
          "model_name": "LayoutModel",
          "model_module_version": "1.2.0",
          "state": {
            "_model_module": "@jupyter-widgets/base",
            "_model_module_version": "1.2.0",
            "_model_name": "LayoutModel",
            "_view_count": null,
            "_view_module": "@jupyter-widgets/base",
            "_view_module_version": "1.2.0",
            "_view_name": "LayoutView",
            "align_content": null,
            "align_items": null,
            "align_self": null,
            "border": null,
            "bottom": null,
            "display": null,
            "flex": null,
            "flex_flow": null,
            "grid_area": null,
            "grid_auto_columns": null,
            "grid_auto_flow": null,
            "grid_auto_rows": null,
            "grid_column": null,
            "grid_gap": null,
            "grid_row": null,
            "grid_template_areas": null,
            "grid_template_columns": null,
            "grid_template_rows": null,
            "height": null,
            "justify_content": null,
            "justify_items": null,
            "left": null,
            "margin": null,
            "max_height": null,
            "max_width": null,
            "min_height": null,
            "min_width": null,
            "object_fit": null,
            "object_position": null,
            "order": null,
            "overflow": null,
            "overflow_x": null,
            "overflow_y": null,
            "padding": null,
            "right": null,
            "top": null,
            "visibility": null,
            "width": null
          }
        }
      }
    }
  },
  "cells": [
    {
      "cell_type": "code",
      "execution_count": 4,
      "metadata": {
        "id": "tZ2ce4u_dIGK"
      },
      "outputs": [],
      "source": [
        "from fastai.vision.all import *\n",
        "from fastai.vision.widgets import *"
      ]
    },
    {
      "cell_type": "code",
      "source": [
        "learn_inf = load_learner(\"export.pkl\")"
      ],
      "metadata": {
        "id": "jspZO0NahZLe"
      },
      "execution_count": 5,
      "outputs": []
    },
    {
      "cell_type": "code",
      "source": [
        "btn_upload = widgets.FileUpload()\n",
        "out_pl = widgets.Output()\n",
        "btn_run = widgets.Button(description='Classify')\n",
        "lbl_pred = widgets.Label()"
      ],
      "metadata": {
        "id": "E5Rg_2I3dP2q"
      },
      "execution_count": 6,
      "outputs": []
    },
    {
      "cell_type": "code",
      "source": [
        "def on_click_classify(change):\n",
        "    img = PILImage.create(btn_upload.data[-1])\n",
        "    out_pl.clear_output()\n",
        "    with out_pl: display(img.to_thumb(128,128))\n",
        "    pred,pred_idx,probs = learn_inf.predict(img)\n",
        "    lbl_pred.value = f'Prediction: {pred}; Probability: {probs[pred_idx]:.04f}'\n",
        "btn_run.on_click(on_click_classify)\n"
      ],
      "metadata": {
        "id": "xXraZTrZdQ-p"
      },
      "execution_count": 7,
      "outputs": []
    },
    {
      "cell_type": "code",
      "source": [
        "VBox([widgets.Label('Select your bear!'),\n",
        "      btn_upload, btn_run, out_pl, lbl_pred])"
      ],
      "metadata": {
        "colab": {
          "base_uri": "https://localhost:8080/",
          "height": 273,
          "referenced_widgets": [
            "d0fb8dff52d24fabafeae54a07ceec99",
            "8be54918e6444f25932065808405f68a",
            "09632aaeddfd4cf48cc7bc8f283b92dd",
            "2ac622faf7d548bfaf7d6fab2a3b1072",
            "5c266a25463a4cedb82e86eff12aa34b",
            "9940299281384f9f8c8c89ec2c97220c",
            "821b899d40e6451aadb138579338b520",
            "94bf3d05483847e2a9dfd1595a947d54",
            "b3f0e0a9796e4a6f8ea05f7d3a4370d2",
            "f6edaa264d574d1fa7b81eb7c28aa4a8",
            "419df18f6d314ba79ffabb559f385caf",
            "576b4c413a8b4ea0aa3e62063760edac",
            "c98df1e9d80742f889050ac33b69f58a",
            "ed351cbb87524e7a8e61c66f2d8365b3",
            "3714d53f1af24a5cb2a4d4c12700fee2",
            "7e94a36022904d7abb5aab26a0488dcd"
          ]
        },
        "id": "HRqzKEaljQ6G",
        "outputId": "a5398367-6219-4d2f-cd17-8ba5194fcb1e"
      },
      "execution_count": 8,
      "outputs": [
        {
          "output_type": "display_data",
          "data": {
            "text/plain": [
              "VBox(children=(Label(value='Select your bear!'), FileUpload(value={}, description='Upload'), Button(descriptio…"
            ],
            "application/vnd.jupyter.widget-view+json": {
              "version_major": 2,
              "version_minor": 0,
              "model_id": "d0fb8dff52d24fabafeae54a07ceec99"
            }
          },
          "metadata": {}
        },
        {
          "output_type": "display_data",
          "data": {
            "text/plain": [
              "<IPython.core.display.HTML object>"
            ],
            "text/html": [
              "\n",
              "<style>\n",
              "    /* Turns off some styling */\n",
              "    progress {\n",
              "        /* gets rid of default border in Firefox and Opera. */\n",
              "        border: none;\n",
              "        /* Needs to be in here for Safari polyfill so background images work as expected. */\n",
              "        background-size: auto;\n",
              "    }\n",
              "    progress:not([value]), progress:not([value])::-webkit-progress-bar {\n",
              "        background: repeating-linear-gradient(45deg, #7e7e7e, #7e7e7e 10px, #5c5c5c 10px, #5c5c5c 20px);\n",
              "    }\n",
              "    .progress-bar-interrupted, .progress-bar-interrupted::-webkit-progress-bar {\n",
              "        background: #F44336;\n",
              "    }\n",
              "</style>\n"
            ]
          },
          "metadata": {}
        },
        {
          "output_type": "display_data",
          "data": {
            "text/plain": [
              "<IPython.core.display.HTML object>"
            ],
            "text/html": []
          },
          "metadata": {}
        }
      ]
    },
    {
      "cell_type": "code",
      "source": [],
      "metadata": {
        "id": "tR6XWTDAjRX1"
      },
      "execution_count": null,
      "outputs": []
    }
  ]
}
