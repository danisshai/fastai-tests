{
  "nbformat": 4,
  "nbformat_minor": 0,
  "metadata": {
    "colab": {
      "provenance": [],
      "authorship_tag": "ABX9TyO7HZUYWY3Yl7zFq3wBG4CP",
      "include_colab_link": true
    },
    "kernelspec": {
      "name": "python3",
      "display_name": "Python 3"
    },
    "language_info": {
      "name": "python"
    }
  },
  "cells": [
    {
      "cell_type": "markdown",
      "metadata": {
        "id": "view-in-github",
        "colab_type": "text"
      },
      "source": [
        "<a href=\"https://colab.research.google.com/github/danisshai/fastai-tests/blob/main/notebooks/mnist_basics.ipynb\" target=\"_parent\"><img src=\"https://colab.research.google.com/assets/colab-badge.svg\" alt=\"Open In Colab\"/></a>"
      ]
    },
    {
      "cell_type": "code",
      "source": [
        "! [ -e /content ] && pip install -Uqq fastbook\n"
      ],
      "metadata": {
        "colab": {
          "base_uri": "https://localhost:8080/"
        },
        "id": "6ac6sEMSNtQn",
        "outputId": "acac15ec-bac2-447f-fb32-c660c543be38"
      },
      "execution_count": 2,
      "outputs": [
        {
          "output_type": "stream",
          "name": "stdout",
          "text": [
            "\u001b[2K     \u001b[90m━━━━━━━━━━━━━━━━━━━━━━━━━━━━━━━━━━━━━━━━\u001b[0m \u001b[32m7.8/7.8 MB\u001b[0m \u001b[31m104.3 MB/s\u001b[0m eta \u001b[36m0:00:00\u001b[0m\n",
            "\u001b[2K     \u001b[90m━━━━━━━━━━━━━━━━━━━━━━━━━━━━━━━━━━━━━━━━\u001b[0m \u001b[32m1.3/1.3 MB\u001b[0m \u001b[31m57.5 MB/s\u001b[0m eta \u001b[36m0:00:00\u001b[0m\n",
            "\u001b[2K     \u001b[90m━━━━━━━━━━━━━━━━━━━━━━━━━━━━━━━━━━━━━━\u001b[0m \u001b[32m114.5/114.5 kB\u001b[0m \u001b[31m18.7 MB/s\u001b[0m eta \u001b[36m0:00:00\u001b[0m\n",
            "\u001b[2K     \u001b[90m━━━━━━━━━━━━━━━━━━━━━━━━━━━━━━━━━━━━━━\u001b[0m \u001b[32m268.8/268.8 kB\u001b[0m \u001b[31m37.4 MB/s\u001b[0m eta \u001b[36m0:00:00\u001b[0m\n",
            "\u001b[2K     \u001b[90m━━━━━━━━━━━━━━━━━━━━━━━━━━━━━━━━━━━━━━\u001b[0m \u001b[32m149.6/149.6 kB\u001b[0m \u001b[31m21.2 MB/s\u001b[0m eta \u001b[36m0:00:00\u001b[0m\n",
            "\u001b[2K     \u001b[90m━━━━━━━━━━━━━━━━━━━━━━━━━━━━━━━━━━━━━━━━\u001b[0m \u001b[32m1.6/1.6 MB\u001b[0m \u001b[31m91.1 MB/s\u001b[0m eta \u001b[36m0:00:00\u001b[0m\n",
            "\u001b[?25h"
          ]
        }
      ]
    },
    {
      "cell_type": "code",
      "execution_count": 3,
      "metadata": {
        "id": "IHyntTjxNGJ5"
      },
      "outputs": [],
      "source": [
        "#hide\n",
        "from fastai.vision.all import *\n",
        "from fastbook import *\n",
        "\n",
        "matplotlib.rc('image', cmap='Greys')"
      ]
    },
    {
      "cell_type": "code",
      "source": [
        "path = untar_data(URLs.MNIST_SAMPLE)"
      ],
      "metadata": {
        "colab": {
          "base_uri": "https://localhost:8080/",
          "height": 37
        },
        "id": "uESOIVv4NYvZ",
        "outputId": "56e8881a-e6d7-4be1-86c2-4536a3051691"
      },
      "execution_count": 6,
      "outputs": [
        {
          "output_type": "display_data",
          "data": {
            "text/plain": [
              "<IPython.core.display.HTML object>"
            ],
            "text/html": [
              "\n",
              "<style>\n",
              "    /* Turns off some styling */\n",
              "    progress {\n",
              "        /* gets rid of default border in Firefox and Opera. */\n",
              "        border: none;\n",
              "        /* Needs to be in here for Safari polyfill so background images work as expected. */\n",
              "        background-size: auto;\n",
              "    }\n",
              "    progress:not([value]), progress:not([value])::-webkit-progress-bar {\n",
              "        background: repeating-linear-gradient(45deg, #7e7e7e, #7e7e7e 10px, #5c5c5c 10px, #5c5c5c 20px);\n",
              "    }\n",
              "    .progress-bar-interrupted, .progress-bar-interrupted::-webkit-progress-bar {\n",
              "        background: #F44336;\n",
              "    }\n",
              "</style>\n"
            ]
          },
          "metadata": {}
        },
        {
          "output_type": "display_data",
          "data": {
            "text/plain": [
              "<IPython.core.display.HTML object>"
            ],
            "text/html": [
              "\n",
              "    <div>\n",
              "      <progress value='3219456' class='' max='3214948' style='width:300px; height:20px; vertical-align: middle;'></progress>\n",
              "      100.14% [3219456/3214948 00:00&lt;00:00]\n",
              "    </div>\n",
              "    "
            ]
          },
          "metadata": {}
        }
      ]
    },
    {
      "cell_type": "code",
      "source": [
        "threes = (path/'train'/'3').ls().sorted()\n",
        "sevens = (path/'train'/'7').ls().sorted()\n",
        "threes"
      ],
      "metadata": {
        "colab": {
          "base_uri": "https://localhost:8080/"
        },
        "id": "uZu5Rs5HN1kJ",
        "outputId": "fc7fe20c-a243-4b0c-e008-ab75c48073ee"
      },
      "execution_count": 26,
      "outputs": [
        {
          "output_type": "execute_result",
          "data": {
            "text/plain": [
              "(#6131) [Path('train/3/10.png'),Path('train/3/10000.png'),Path('train/3/10011.png'),Path('train/3/10031.png'),Path('train/3/10034.png'),Path('train/3/10042.png'),Path('train/3/10052.png'),Path('train/3/1007.png'),Path('train/3/10074.png'),Path('train/3/10091.png')...]"
            ]
          },
          "metadata": {},
          "execution_count": 26
        }
      ]
    },
    {
      "cell_type": "code",
      "source": [
        "im3_path = threes[1000]\n",
        "im3 = Image.open(im3_path)\n",
        "im3"
      ],
      "metadata": {
        "colab": {
          "base_uri": "https://localhost:8080/",
          "height": 45
        },
        "id": "eMasvnraONpS",
        "outputId": "219b5367-42e6-408e-d376-2c7288f9d0f9"
      },
      "execution_count": 30,
      "outputs": [
        {
          "output_type": "execute_result",
          "data": {
            "text/plain": [
              "<PIL.PngImagePlugin.PngImageFile image mode=L size=28x28>"
            ],
            "image/png": "[encoded data removed]"
          },
          "metadata": {},
          "execution_count": 30
        }
      ]
    },
    {
      "cell_type": "code",
      "source": [
        "tensor(im3)[:10,10:11]"
      ],
      "metadata": {
        "colab": {
          "base_uri": "https://localhost:8080/"
        },
        "id": "e2IGSvFgOOt9",
        "outputId": "56528168-efe0-4f49-bde0-a502f96c3117"
      },
      "execution_count": 36,
      "outputs": [
        {
          "output_type": "execute_result",
          "data": {
            "text/plain": [
              "tensor([[  0],\n",
              "        [  0],\n",
              "        [  0],\n",
              "        [ 19],\n",
              "        [226],\n",
              "        [253],\n",
              "        [183],\n",
              "        [  0],\n",
              "        [  0],\n",
              "        [  0]], dtype=torch.uint8)"
            ]
          },
          "metadata": {},
          "execution_count": 36
        }
      ]
    },
    {
      "cell_type": "code",
      "source": [
        "#hide_output\n",
        "im3_t = tensor(im3)\n",
        "df = pd.DataFrame(im3_t[4:15,4:22])\n",
        "df.style.set_properties(**{'font-size':'6pt', 'font-style': 'italic'}).background_gradient('Greys')"
      ],
      "metadata": {
        "colab": {
          "base_uri": "https://localhost:8080/",
          "height": 394
        },
        "id": "-Su6v9DNOPxv",
        "outputId": "438c2a30-41b0-46c2-9e09-858c22d5f412"
      },
      "execution_count": 42,
      "outputs": [
        {
          "output_type": "execute_result",
          "data": {
            "text/plain": [
              "<pandas.io.formats.style.Styler at 0x7f6e02996260>"
            ],
            "text/html": [
              "<style type=\"text/css\">\n",
              "#T_ec01f_row0_col0, #T_ec01f_row0_col1, #T_ec01f_row0_col2, #T_ec01f_row0_col3, #T_ec01f_row0_col14, #T_ec01f_row0_col15, #T_ec01f_row0_col16, #T_ec01f_row0_col17, #T_ec01f_row1_col0, #T_ec01f_row1_col1, #T_ec01f_row1_col2, #T_ec01f_row1_col3, #T_ec01f_row1_col15, #T_ec01f_row1_col16, #T_ec01f_row1_col17, #T_ec01f_row2_col0, #T_ec01f_row2_col1, #T_ec01f_row2_col2, #T_ec01f_row2_col3, #T_ec01f_row2_col10, #T_ec01f_row2_col15, #T_ec01f_row2_col16, #T_ec01f_row2_col17, #T_ec01f_row3_col0, #T_ec01f_row3_col1, #T_ec01f_row3_col2, #T_ec01f_row3_col3, #T_ec01f_row3_col6, #T_ec01f_row3_col7, #T_ec01f_row3_col8, #T_ec01f_row3_col9, #T_ec01f_row3_col10, #T_ec01f_row3_col11, #T_ec01f_row3_col15, #T_ec01f_row3_col16, #T_ec01f_row3_col17, #T_ec01f_row4_col0, #T_ec01f_row4_col1, #T_ec01f_row4_col2, #T_ec01f_row4_col3, #T_ec01f_row4_col4, #T_ec01f_row4_col5, #T_ec01f_row4_col6, #T_ec01f_row4_col7, #T_ec01f_row4_col8, #T_ec01f_row4_col9, #T_ec01f_row4_col10, #T_ec01f_row4_col11, #T_ec01f_row4_col15, #T_ec01f_row4_col16, #T_ec01f_row4_col17, #T_ec01f_row5_col0, #T_ec01f_row5_col1, #T_ec01f_row5_col2, #T_ec01f_row5_col3, #T_ec01f_row5_col4, #T_ec01f_row5_col5, #T_ec01f_row5_col6, #T_ec01f_row5_col7, #T_ec01f_row5_col8, #T_ec01f_row5_col9, #T_ec01f_row5_col10, #T_ec01f_row5_col15, #T_ec01f_row5_col16, #T_ec01f_row5_col17, #T_ec01f_row6_col0, #T_ec01f_row6_col1, #T_ec01f_row6_col2, #T_ec01f_row6_col3, #T_ec01f_row6_col4, #T_ec01f_row6_col5, #T_ec01f_row6_col15, #T_ec01f_row6_col16, #T_ec01f_row6_col17, #T_ec01f_row7_col0, #T_ec01f_row7_col1, #T_ec01f_row7_col2, #T_ec01f_row7_col3, #T_ec01f_row7_col15, #T_ec01f_row7_col16, #T_ec01f_row7_col17, #T_ec01f_row8_col0, #T_ec01f_row8_col1, #T_ec01f_row8_col2, #T_ec01f_row8_col3, #T_ec01f_row8_col16, #T_ec01f_row8_col17, #T_ec01f_row9_col0, #T_ec01f_row9_col1, #T_ec01f_row9_col2, #T_ec01f_row9_col3, #T_ec01f_row9_col11, #T_ec01f_row9_col17, #T_ec01f_row10_col0, #T_ec01f_row10_col1, #T_ec01f_row10_col2, #T_ec01f_row10_col3, #T_ec01f_row10_col4, #T_ec01f_row10_col5, #T_ec01f_row10_col6, #T_ec01f_row10_col7, #T_ec01f_row10_col8, #T_ec01f_row10_col9, #T_ec01f_row10_col10, #T_ec01f_row10_col11, #T_ec01f_row10_col12, #T_ec01f_row10_col13 {\n",
              "  font-size: 6pt;\n",
              "  font-style: italic;\n",
              "  background-color: #ffffff;\n",
              "  color: #000000;\n",
              "}\n",
              "#T_ec01f_row0_col4 {\n",
              "  font-size: 6pt;\n",
              "  font-style: italic;\n",
              "  background-color: #878787;\n",
              "  color: #f1f1f1;\n",
              "}\n",
              "#T_ec01f_row0_col5 {\n",
              "  font-size: 6pt;\n",
              "  font-style: italic;\n",
              "  background-color: #5f5f5f;\n",
              "  color: #f1f1f1;\n",
              "}\n",
              "#T_ec01f_row0_col6 {\n",
              "  font-size: 6pt;\n",
              "  font-style: italic;\n",
              "  background-color: #1f1f1f;\n",
              "  color: #f1f1f1;\n",
              "}\n",
              "#T_ec01f_row0_col7, #T_ec01f_row0_col8, #T_ec01f_row0_col9, #T_ec01f_row0_col10, #T_ec01f_row0_col11, #T_ec01f_row1_col4, #T_ec01f_row1_col5, #T_ec01f_row1_col6, #T_ec01f_row1_col7, #T_ec01f_row1_col8, #T_ec01f_row1_col12, #T_ec01f_row4_col13, #T_ec01f_row6_col12, #T_ec01f_row7_col7, #T_ec01f_row7_col8, #T_ec01f_row7_col9, #T_ec01f_row7_col10, #T_ec01f_row7_col11, #T_ec01f_row7_col12, #T_ec01f_row8_col5, #T_ec01f_row8_col6, #T_ec01f_row8_col7, #T_ec01f_row8_col8, #T_ec01f_row8_col9, #T_ec01f_row8_col12, #T_ec01f_row9_col14, #T_ec01f_row10_col15, #T_ec01f_row10_col16, #T_ec01f_row10_col17 {\n",
              "  font-size: 6pt;\n",
              "  font-style: italic;\n",
              "  background-color: #000000;\n",
              "  color: #f1f1f1;\n",
              "}\n",
              "#T_ec01f_row0_col12 {\n",
              "  font-size: 6pt;\n",
              "  font-style: italic;\n",
              "  background-color: #070707;\n",
              "  color: #f1f1f1;\n",
              "}\n",
              "#T_ec01f_row0_col13 {\n",
              "  font-size: 6pt;\n",
              "  font-style: italic;\n",
              "  background-color: #e6e6e6;\n",
              "  color: #000000;\n",
              "}\n",
              "#T_ec01f_row1_col9 {\n",
              "  font-size: 6pt;\n",
              "  font-style: italic;\n",
              "  background-color: #3d3d3d;\n",
              "  color: #f1f1f1;\n",
              "}\n",
              "#T_ec01f_row1_col10 {\n",
              "  font-size: 6pt;\n",
              "  font-style: italic;\n",
              "  background-color: #626262;\n",
              "  color: #f1f1f1;\n",
              "}\n",
              "#T_ec01f_row1_col11, #T_ec01f_row6_col11 {\n",
              "  font-size: 6pt;\n",
              "  font-style: italic;\n",
              "  background-color: #1c1c1c;\n",
              "  color: #f1f1f1;\n",
              "}\n",
              "#T_ec01f_row1_col13, #T_ec01f_row2_col13, #T_ec01f_row3_col13, #T_ec01f_row5_col13, #T_ec01f_row6_col13, #T_ec01f_row7_col13, #T_ec01f_row8_col13 {\n",
              "  font-size: 6pt;\n",
              "  font-style: italic;\n",
              "  background-color: #010101;\n",
              "  color: #f1f1f1;\n",
              "}\n",
              "#T_ec01f_row1_col14, #T_ec01f_row3_col5 {\n",
              "  font-size: 6pt;\n",
              "  font-style: italic;\n",
              "  background-color: #f0f0f0;\n",
              "  color: #000000;\n",
              "}\n",
              "#T_ec01f_row2_col4 {\n",
              "  font-size: 6pt;\n",
              "  font-style: italic;\n",
              "  background-color: #6e6e6e;\n",
              "  color: #f1f1f1;\n",
              "}\n",
              "#T_ec01f_row2_col5, #T_ec01f_row9_col13 {\n",
              "  font-size: 6pt;\n",
              "  font-style: italic;\n",
              "  background-color: #161616;\n",
              "  color: #f1f1f1;\n",
              "}\n",
              "#T_ec01f_row2_col6 {\n",
              "  font-size: 6pt;\n",
              "  font-style: italic;\n",
              "  background-color: #585858;\n",
              "  color: #f1f1f1;\n",
              "}\n",
              "#T_ec01f_row2_col7 {\n",
              "  font-size: 6pt;\n",
              "  font-style: italic;\n",
              "  background-color: #b4b4b4;\n",
              "  color: #000000;\n",
              "}\n",
              "#T_ec01f_row2_col8 {\n",
              "  font-size: 6pt;\n",
              "  font-style: italic;\n",
              "  background-color: #f6f6f6;\n",
              "  color: #000000;\n",
              "}\n",
              "#T_ec01f_row2_col9 {\n",
              "  font-size: 6pt;\n",
              "  font-style: italic;\n",
              "  background-color: #fbfbfb;\n",
              "  color: #000000;\n",
              "}\n",
              "#T_ec01f_row2_col11 {\n",
              "  font-size: 6pt;\n",
              "  font-style: italic;\n",
              "  background-color: #f9f9f9;\n",
              "  color: #000000;\n",
              "}\n",
              "#T_ec01f_row2_col12 {\n",
              "  font-size: 6pt;\n",
              "  font-style: italic;\n",
              "  background-color: #272727;\n",
              "  color: #f1f1f1;\n",
              "}\n",
              "#T_ec01f_row2_col14 {\n",
              "  font-size: 6pt;\n",
              "  font-style: italic;\n",
              "  background-color: #555555;\n",
              "  color: #f1f1f1;\n",
              "}\n",
              "#T_ec01f_row3_col4 {\n",
              "  font-size: 6pt;\n",
              "  font-style: italic;\n",
              "  background-color: #ededed;\n",
              "  color: #000000;\n",
              "}\n",
              "#T_ec01f_row3_col12 {\n",
              "  font-size: 6pt;\n",
              "  font-style: italic;\n",
              "  background-color: #8c8c8c;\n",
              "  color: #f1f1f1;\n",
              "}\n",
              "#T_ec01f_row3_col14, #T_ec01f_row5_col14, #T_ec01f_row8_col14 {\n",
              "  font-size: 6pt;\n",
              "  font-style: italic;\n",
              "  background-color: #4d4d4d;\n",
              "  color: #f1f1f1;\n",
              "}\n",
              "#T_ec01f_row4_col12 {\n",
              "  font-size: 6pt;\n",
              "  font-style: italic;\n",
              "  background-color: #8a8a8a;\n",
              "  color: #f1f1f1;\n",
              "}\n",
              "#T_ec01f_row4_col14 {\n",
              "  font-size: 6pt;\n",
              "  font-style: italic;\n",
              "  background-color: #4b4b4b;\n",
              "  color: #f1f1f1;\n",
              "}\n",
              "#T_ec01f_row5_col11 {\n",
              "  font-size: 6pt;\n",
              "  font-style: italic;\n",
              "  background-color: #e7e7e7;\n",
              "  color: #000000;\n",
              "}\n",
              "#T_ec01f_row5_col12 {\n",
              "  font-size: 6pt;\n",
              "  font-style: italic;\n",
              "  background-color: #1d1d1d;\n",
              "  color: #f1f1f1;\n",
              "}\n",
              "#T_ec01f_row6_col6 {\n",
              "  font-size: 6pt;\n",
              "  font-style: italic;\n",
              "  background-color: #f3f3f3;\n",
              "  color: #000000;\n",
              "}\n",
              "#T_ec01f_row6_col7, #T_ec01f_row6_col8, #T_ec01f_row6_col9 {\n",
              "  font-size: 6pt;\n",
              "  font-style: italic;\n",
              "  background-color: #cccccc;\n",
              "  color: #000000;\n",
              "}\n",
              "#T_ec01f_row6_col10 {\n",
              "  font-size: 6pt;\n",
              "  font-style: italic;\n",
              "  background-color: #999999;\n",
              "  color: #f1f1f1;\n",
              "}\n",
              "#T_ec01f_row6_col14 {\n",
              "  font-size: 6pt;\n",
              "  font-style: italic;\n",
              "  background-color: #959595;\n",
              "  color: #f1f1f1;\n",
              "}\n",
              "#T_ec01f_row7_col4 {\n",
              "  font-size: 6pt;\n",
              "  font-style: italic;\n",
              "  background-color: #e5e5e5;\n",
              "  color: #000000;\n",
              "}\n",
              "#T_ec01f_row7_col5 {\n",
              "  font-size: 6pt;\n",
              "  font-style: italic;\n",
              "  background-color: #5a5a5a;\n",
              "  color: #f1f1f1;\n",
              "}\n",
              "#T_ec01f_row7_col6 {\n",
              "  font-size: 6pt;\n",
              "  font-style: italic;\n",
              "  background-color: #0f0f0f;\n",
              "  color: #f1f1f1;\n",
              "}\n",
              "#T_ec01f_row7_col14 {\n",
              "  font-size: 6pt;\n",
              "  font-style: italic;\n",
              "  background-color: #f4f4f4;\n",
              "  color: #000000;\n",
              "}\n",
              "#T_ec01f_row8_col4 {\n",
              "  font-size: 6pt;\n",
              "  font-style: italic;\n",
              "  background-color: #767676;\n",
              "  color: #f1f1f1;\n",
              "}\n",
              "#T_ec01f_row8_col10 {\n",
              "  font-size: 6pt;\n",
              "  font-style: italic;\n",
              "  background-color: #090909;\n",
              "  color: #f1f1f1;\n",
              "}\n",
              "#T_ec01f_row8_col11 {\n",
              "  font-size: 6pt;\n",
              "  font-style: italic;\n",
              "  background-color: #232323;\n",
              "  color: #f1f1f1;\n",
              "}\n",
              "#T_ec01f_row8_col15 {\n",
              "  font-size: 6pt;\n",
              "  font-style: italic;\n",
              "  background-color: #e1e1e1;\n",
              "  color: #000000;\n",
              "}\n",
              "#T_ec01f_row9_col4 {\n",
              "  font-size: 6pt;\n",
              "  font-style: italic;\n",
              "  background-color: #dbdbdb;\n",
              "  color: #000000;\n",
              "}\n",
              "#T_ec01f_row9_col5 {\n",
              "  font-size: 6pt;\n",
              "  font-style: italic;\n",
              "  background-color: #636363;\n",
              "  color: #f1f1f1;\n",
              "}\n",
              "#T_ec01f_row9_col6, #T_ec01f_row9_col7, #T_ec01f_row9_col8, #T_ec01f_row9_col9 {\n",
              "  font-size: 6pt;\n",
              "  font-style: italic;\n",
              "  background-color: #b9b9b9;\n",
              "  color: #000000;\n",
              "}\n",
              "#T_ec01f_row9_col10 {\n",
              "  font-size: 6pt;\n",
              "  font-style: italic;\n",
              "  background-color: #f8f8f8;\n",
              "  color: #000000;\n",
              "}\n",
              "#T_ec01f_row9_col12 {\n",
              "  font-size: 6pt;\n",
              "  font-style: italic;\n",
              "  background-color: #d5d5d5;\n",
              "  color: #000000;\n",
              "}\n",
              "#T_ec01f_row9_col15 {\n",
              "  font-size: 6pt;\n",
              "  font-style: italic;\n",
              "  background-color: #111111;\n",
              "  color: #f1f1f1;\n",
              "}\n",
              "#T_ec01f_row9_col16 {\n",
              "  font-size: 6pt;\n",
              "  font-style: italic;\n",
              "  background-color: #e4e4e4;\n",
              "  color: #000000;\n",
              "}\n",
              "#T_ec01f_row10_col14 {\n",
              "  font-size: 6pt;\n",
              "  font-style: italic;\n",
              "  background-color: #0a0a0a;\n",
              "  color: #f1f1f1;\n",
              "}\n",
              "</style>\n",
              "<table id=\"T_ec01f\" class=\"dataframe\">\n",
              "  <thead>\n",
              "    <tr>\n",
              "      <th class=\"blank level0\" >&nbsp;</th>\n",
              "      <th id=\"T_ec01f_level0_col0\" class=\"col_heading level0 col0\" >0</th>\n",
              "      <th id=\"T_ec01f_level0_col1\" class=\"col_heading level0 col1\" >1</th>\n",
              "      <th id=\"T_ec01f_level0_col2\" class=\"col_heading level0 col2\" >2</th>\n",
              "      <th id=\"T_ec01f_level0_col3\" class=\"col_heading level0 col3\" >3</th>\n",
              "      <th id=\"T_ec01f_level0_col4\" class=\"col_heading level0 col4\" >4</th>\n",
              "      <th id=\"T_ec01f_level0_col5\" class=\"col_heading level0 col5\" >5</th>\n",
              "      <th id=\"T_ec01f_level0_col6\" class=\"col_heading level0 col6\" >6</th>\n",
              "      <th id=\"T_ec01f_level0_col7\" class=\"col_heading level0 col7\" >7</th>\n",
              "      <th id=\"T_ec01f_level0_col8\" class=\"col_heading level0 col8\" >8</th>\n",
              "      <th id=\"T_ec01f_level0_col9\" class=\"col_heading level0 col9\" >9</th>\n",
              "      <th id=\"T_ec01f_level0_col10\" class=\"col_heading level0 col10\" >10</th>\n",
              "      <th id=\"T_ec01f_level0_col11\" class=\"col_heading level0 col11\" >11</th>\n",
              "      <th id=\"T_ec01f_level0_col12\" class=\"col_heading level0 col12\" >12</th>\n",
              "      <th id=\"T_ec01f_level0_col13\" class=\"col_heading level0 col13\" >13</th>\n",
              "      <th id=\"T_ec01f_level0_col14\" class=\"col_heading level0 col14\" >14</th>\n",
              "      <th id=\"T_ec01f_level0_col15\" class=\"col_heading level0 col15\" >15</th>\n",
              "      <th id=\"T_ec01f_level0_col16\" class=\"col_heading level0 col16\" >16</th>\n",
              "      <th id=\"T_ec01f_level0_col17\" class=\"col_heading level0 col17\" >17</th>\n",
              "    </tr>\n",
              "  </thead>\n",
              "  <tbody>\n",
              "    <tr>\n",
              "      <th id=\"T_ec01f_level0_row0\" class=\"row_heading level0 row0\" >0</th>\n",
              "      <td id=\"T_ec01f_row0_col0\" class=\"data row0 col0\" >0</td>\n",
              "      <td id=\"T_ec01f_row0_col1\" class=\"data row0 col1\" >0</td>\n",
              "      <td id=\"T_ec01f_row0_col2\" class=\"data row0 col2\" >0</td>\n",
              "      <td id=\"T_ec01f_row0_col3\" class=\"data row0 col3\" >0</td>\n",
              "      <td id=\"T_ec01f_row0_col4\" class=\"data row0 col4\" >140</td>\n",
              "      <td id=\"T_ec01f_row0_col5\" class=\"data row0 col5\" >177</td>\n",
              "      <td id=\"T_ec01f_row0_col6\" class=\"data row0 col6\" >226</td>\n",
              "      <td id=\"T_ec01f_row0_col7\" class=\"data row0 col7\" >253</td>\n",
              "      <td id=\"T_ec01f_row0_col8\" class=\"data row0 col8\" >253</td>\n",
              "      <td id=\"T_ec01f_row0_col9\" class=\"data row0 col9\" >254</td>\n",
              "      <td id=\"T_ec01f_row0_col10\" class=\"data row0 col10\" >253</td>\n",
              "      <td id=\"T_ec01f_row0_col11\" class=\"data row0 col11\" >253</td>\n",
              "      <td id=\"T_ec01f_row0_col12\" class=\"data row0 col12\" >247</td>\n",
              "      <td id=\"T_ec01f_row0_col13\" class=\"data row0 col13\" >102</td>\n",
              "      <td id=\"T_ec01f_row0_col14\" class=\"data row0 col14\" >0</td>\n",
              "      <td id=\"T_ec01f_row0_col15\" class=\"data row0 col15\" >0</td>\n",
              "      <td id=\"T_ec01f_row0_col16\" class=\"data row0 col16\" >0</td>\n",
              "      <td id=\"T_ec01f_row0_col17\" class=\"data row0 col17\" >0</td>\n",
              "    </tr>\n",
              "    <tr>\n",
              "      <th id=\"T_ec01f_level0_row1\" class=\"row_heading level0 row1\" >1</th>\n",
              "      <td id=\"T_ec01f_row1_col0\" class=\"data row1 col0\" >0</td>\n",
              "      <td id=\"T_ec01f_row1_col1\" class=\"data row1 col1\" >0</td>\n",
              "      <td id=\"T_ec01f_row1_col2\" class=\"data row1 col2\" >0</td>\n",
              "      <td id=\"T_ec01f_row1_col3\" class=\"data row1 col3\" >0</td>\n",
              "      <td id=\"T_ec01f_row1_col4\" class=\"data row1 col4\" >254</td>\n",
              "      <td id=\"T_ec01f_row1_col5\" class=\"data row1 col5\" >253</td>\n",
              "      <td id=\"T_ec01f_row1_col6\" class=\"data row1 col6\" >253</td>\n",
              "      <td id=\"T_ec01f_row1_col7\" class=\"data row1 col7\" >253</td>\n",
              "      <td id=\"T_ec01f_row1_col8\" class=\"data row1 col8\" >253</td>\n",
              "      <td id=\"T_ec01f_row1_col9\" class=\"data row1 col9\" >205</td>\n",
              "      <td id=\"T_ec01f_row1_col10\" class=\"data row1 col10\" >174</td>\n",
              "      <td id=\"T_ec01f_row1_col11\" class=\"data row1 col11\" >229</td>\n",
              "      <td id=\"T_ec01f_row1_col12\" class=\"data row1 col12\" >253</td>\n",
              "      <td id=\"T_ec01f_row1_col13\" class=\"data row1 col13\" >253</td>\n",
              "      <td id=\"T_ec01f_row1_col14\" class=\"data row1 col14\" >31</td>\n",
              "      <td id=\"T_ec01f_row1_col15\" class=\"data row1 col15\" >0</td>\n",
              "      <td id=\"T_ec01f_row1_col16\" class=\"data row1 col16\" >0</td>\n",
              "      <td id=\"T_ec01f_row1_col17\" class=\"data row1 col17\" >0</td>\n",
              "    </tr>\n",
              "    <tr>\n",
              "      <th id=\"T_ec01f_level0_row2\" class=\"row_heading level0 row2\" >2</th>\n",
              "      <td id=\"T_ec01f_row2_col0\" class=\"data row2 col0\" >0</td>\n",
              "      <td id=\"T_ec01f_row2_col1\" class=\"data row2 col1\" >0</td>\n",
              "      <td id=\"T_ec01f_row2_col2\" class=\"data row2 col2\" >0</td>\n",
              "      <td id=\"T_ec01f_row2_col3\" class=\"data row2 col3\" >0</td>\n",
              "      <td id=\"T_ec01f_row2_col4\" class=\"data row2 col4\" >163</td>\n",
              "      <td id=\"T_ec01f_row2_col5\" class=\"data row2 col5\" >234</td>\n",
              "      <td id=\"T_ec01f_row2_col6\" class=\"data row2 col6\" >183</td>\n",
              "      <td id=\"T_ec01f_row2_col7\" class=\"data row2 col7\" >102</td>\n",
              "      <td id=\"T_ec01f_row2_col8\" class=\"data row2 col8\" >19</td>\n",
              "      <td id=\"T_ec01f_row2_col9\" class=\"data row2 col9\" >8</td>\n",
              "      <td id=\"T_ec01f_row2_col10\" class=\"data row2 col10\" >0</td>\n",
              "      <td id=\"T_ec01f_row2_col11\" class=\"data row2 col11\" >13</td>\n",
              "      <td id=\"T_ec01f_row2_col12\" class=\"data row2 col12\" >220</td>\n",
              "      <td id=\"T_ec01f_row2_col13\" class=\"data row2 col13\" >253</td>\n",
              "      <td id=\"T_ec01f_row2_col14\" class=\"data row2 col14\" >188</td>\n",
              "      <td id=\"T_ec01f_row2_col15\" class=\"data row2 col15\" >0</td>\n",
              "      <td id=\"T_ec01f_row2_col16\" class=\"data row2 col16\" >0</td>\n",
              "      <td id=\"T_ec01f_row2_col17\" class=\"data row2 col17\" >0</td>\n",
              "    </tr>\n",
              "    <tr>\n",
              "      <th id=\"T_ec01f_level0_row3\" class=\"row_heading level0 row3\" >3</th>\n",
              "      <td id=\"T_ec01f_row3_col0\" class=\"data row3 col0\" >0</td>\n",
              "      <td id=\"T_ec01f_row3_col1\" class=\"data row3 col1\" >0</td>\n",
              "      <td id=\"T_ec01f_row3_col2\" class=\"data row3 col2\" >0</td>\n",
              "      <td id=\"T_ec01f_row3_col3\" class=\"data row3 col3\" >0</td>\n",
              "      <td id=\"T_ec01f_row3_col4\" class=\"data row3 col4\" >36</td>\n",
              "      <td id=\"T_ec01f_row3_col5\" class=\"data row3 col5\" >31</td>\n",
              "      <td id=\"T_ec01f_row3_col6\" class=\"data row3 col6\" >0</td>\n",
              "      <td id=\"T_ec01f_row3_col7\" class=\"data row3 col7\" >0</td>\n",
              "      <td id=\"T_ec01f_row3_col8\" class=\"data row3 col8\" >0</td>\n",
              "      <td id=\"T_ec01f_row3_col9\" class=\"data row3 col9\" >0</td>\n",
              "      <td id=\"T_ec01f_row3_col10\" class=\"data row3 col10\" >0</td>\n",
              "      <td id=\"T_ec01f_row3_col11\" class=\"data row3 col11\" >0</td>\n",
              "      <td id=\"T_ec01f_row3_col12\" class=\"data row3 col12\" >136</td>\n",
              "      <td id=\"T_ec01f_row3_col13\" class=\"data row3 col13\" >253</td>\n",
              "      <td id=\"T_ec01f_row3_col14\" class=\"data row3 col14\" >195</td>\n",
              "      <td id=\"T_ec01f_row3_col15\" class=\"data row3 col15\" >0</td>\n",
              "      <td id=\"T_ec01f_row3_col16\" class=\"data row3 col16\" >0</td>\n",
              "      <td id=\"T_ec01f_row3_col17\" class=\"data row3 col17\" >0</td>\n",
              "    </tr>\n",
              "    <tr>\n",
              "      <th id=\"T_ec01f_level0_row4\" class=\"row_heading level0 row4\" >4</th>\n",
              "      <td id=\"T_ec01f_row4_col0\" class=\"data row4 col0\" >0</td>\n",
              "      <td id=\"T_ec01f_row4_col1\" class=\"data row4 col1\" >0</td>\n",
              "      <td id=\"T_ec01f_row4_col2\" class=\"data row4 col2\" >0</td>\n",
              "      <td id=\"T_ec01f_row4_col3\" class=\"data row4 col3\" >0</td>\n",
              "      <td id=\"T_ec01f_row4_col4\" class=\"data row4 col4\" >0</td>\n",
              "      <td id=\"T_ec01f_row4_col5\" class=\"data row4 col5\" >0</td>\n",
              "      <td id=\"T_ec01f_row4_col6\" class=\"data row4 col6\" >0</td>\n",
              "      <td id=\"T_ec01f_row4_col7\" class=\"data row4 col7\" >0</td>\n",
              "      <td id=\"T_ec01f_row4_col8\" class=\"data row4 col8\" >0</td>\n",
              "      <td id=\"T_ec01f_row4_col9\" class=\"data row4 col9\" >0</td>\n",
              "      <td id=\"T_ec01f_row4_col10\" class=\"data row4 col10\" >0</td>\n",
              "      <td id=\"T_ec01f_row4_col11\" class=\"data row4 col11\" >0</td>\n",
              "      <td id=\"T_ec01f_row4_col12\" class=\"data row4 col12\" >137</td>\n",
              "      <td id=\"T_ec01f_row4_col13\" class=\"data row4 col13\" >254</td>\n",
              "      <td id=\"T_ec01f_row4_col14\" class=\"data row4 col14\" >196</td>\n",
              "      <td id=\"T_ec01f_row4_col15\" class=\"data row4 col15\" >0</td>\n",
              "      <td id=\"T_ec01f_row4_col16\" class=\"data row4 col16\" >0</td>\n",
              "      <td id=\"T_ec01f_row4_col17\" class=\"data row4 col17\" >0</td>\n",
              "    </tr>\n",
              "    <tr>\n",
              "      <th id=\"T_ec01f_level0_row5\" class=\"row_heading level0 row5\" >5</th>\n",
              "      <td id=\"T_ec01f_row5_col0\" class=\"data row5 col0\" >0</td>\n",
              "      <td id=\"T_ec01f_row5_col1\" class=\"data row5 col1\" >0</td>\n",
              "      <td id=\"T_ec01f_row5_col2\" class=\"data row5 col2\" >0</td>\n",
              "      <td id=\"T_ec01f_row5_col3\" class=\"data row5 col3\" >0</td>\n",
              "      <td id=\"T_ec01f_row5_col4\" class=\"data row5 col4\" >0</td>\n",
              "      <td id=\"T_ec01f_row5_col5\" class=\"data row5 col5\" >0</td>\n",
              "      <td id=\"T_ec01f_row5_col6\" class=\"data row5 col6\" >0</td>\n",
              "      <td id=\"T_ec01f_row5_col7\" class=\"data row5 col7\" >0</td>\n",
              "      <td id=\"T_ec01f_row5_col8\" class=\"data row5 col8\" >0</td>\n",
              "      <td id=\"T_ec01f_row5_col9\" class=\"data row5 col9\" >0</td>\n",
              "      <td id=\"T_ec01f_row5_col10\" class=\"data row5 col10\" >0</td>\n",
              "      <td id=\"T_ec01f_row5_col11\" class=\"data row5 col11\" >44</td>\n",
              "      <td id=\"T_ec01f_row5_col12\" class=\"data row5 col12\" >228</td>\n",
              "      <td id=\"T_ec01f_row5_col13\" class=\"data row5 col13\" >253</td>\n",
              "      <td id=\"T_ec01f_row5_col14\" class=\"data row5 col14\" >195</td>\n",
              "      <td id=\"T_ec01f_row5_col15\" class=\"data row5 col15\" >0</td>\n",
              "      <td id=\"T_ec01f_row5_col16\" class=\"data row5 col16\" >0</td>\n",
              "      <td id=\"T_ec01f_row5_col17\" class=\"data row5 col17\" >0</td>\n",
              "    </tr>\n",
              "    <tr>\n",
              "      <th id=\"T_ec01f_level0_row6\" class=\"row_heading level0 row6\" >6</th>\n",
              "      <td id=\"T_ec01f_row6_col0\" class=\"data row6 col0\" >0</td>\n",
              "      <td id=\"T_ec01f_row6_col1\" class=\"data row6 col1\" >0</td>\n",
              "      <td id=\"T_ec01f_row6_col2\" class=\"data row6 col2\" >0</td>\n",
              "      <td id=\"T_ec01f_row6_col3\" class=\"data row6 col3\" >0</td>\n",
              "      <td id=\"T_ec01f_row6_col4\" class=\"data row6 col4\" >0</td>\n",
              "      <td id=\"T_ec01f_row6_col5\" class=\"data row6 col5\" >0</td>\n",
              "      <td id=\"T_ec01f_row6_col6\" class=\"data row6 col6\" >25</td>\n",
              "      <td id=\"T_ec01f_row6_col7\" class=\"data row6 col7\" >79</td>\n",
              "      <td id=\"T_ec01f_row6_col8\" class=\"data row6 col8\" >79</td>\n",
              "      <td id=\"T_ec01f_row6_col9\" class=\"data row6 col9\" >79</td>\n",
              "      <td id=\"T_ec01f_row6_col10\" class=\"data row6 col10\" >124</td>\n",
              "      <td id=\"T_ec01f_row6_col11\" class=\"data row6 col11\" >229</td>\n",
              "      <td id=\"T_ec01f_row6_col12\" class=\"data row6 col12\" >253</td>\n",
              "      <td id=\"T_ec01f_row6_col13\" class=\"data row6 col13\" >253</td>\n",
              "      <td id=\"T_ec01f_row6_col14\" class=\"data row6 col14\" >128</td>\n",
              "      <td id=\"T_ec01f_row6_col15\" class=\"data row6 col15\" >0</td>\n",
              "      <td id=\"T_ec01f_row6_col16\" class=\"data row6 col16\" >0</td>\n",
              "      <td id=\"T_ec01f_row6_col17\" class=\"data row6 col17\" >0</td>\n",
              "    </tr>\n",
              "    <tr>\n",
              "      <th id=\"T_ec01f_level0_row7\" class=\"row_heading level0 row7\" >7</th>\n",
              "      <td id=\"T_ec01f_row7_col0\" class=\"data row7 col0\" >0</td>\n",
              "      <td id=\"T_ec01f_row7_col1\" class=\"data row7 col1\" >0</td>\n",
              "      <td id=\"T_ec01f_row7_col2\" class=\"data row7 col2\" >0</td>\n",
              "      <td id=\"T_ec01f_row7_col3\" class=\"data row7 col3\" >0</td>\n",
              "      <td id=\"T_ec01f_row7_col4\" class=\"data row7 col4\" >47</td>\n",
              "      <td id=\"T_ec01f_row7_col5\" class=\"data row7 col5\" >182</td>\n",
              "      <td id=\"T_ec01f_row7_col6\" class=\"data row7 col6\" >240</td>\n",
              "      <td id=\"T_ec01f_row7_col7\" class=\"data row7 col7\" >253</td>\n",
              "      <td id=\"T_ec01f_row7_col8\" class=\"data row7 col8\" >253</td>\n",
              "      <td id=\"T_ec01f_row7_col9\" class=\"data row7 col9\" >254</td>\n",
              "      <td id=\"T_ec01f_row7_col10\" class=\"data row7 col10\" >253</td>\n",
              "      <td id=\"T_ec01f_row7_col11\" class=\"data row7 col11\" >253</td>\n",
              "      <td id=\"T_ec01f_row7_col12\" class=\"data row7 col12\" >253</td>\n",
              "      <td id=\"T_ec01f_row7_col13\" class=\"data row7 col13\" >253</td>\n",
              "      <td id=\"T_ec01f_row7_col14\" class=\"data row7 col14\" >23</td>\n",
              "      <td id=\"T_ec01f_row7_col15\" class=\"data row7 col15\" >0</td>\n",
              "      <td id=\"T_ec01f_row7_col16\" class=\"data row7 col16\" >0</td>\n",
              "      <td id=\"T_ec01f_row7_col17\" class=\"data row7 col17\" >0</td>\n",
              "    </tr>\n",
              "    <tr>\n",
              "      <th id=\"T_ec01f_level0_row8\" class=\"row_heading level0 row8\" >8</th>\n",
              "      <td id=\"T_ec01f_row8_col0\" class=\"data row8 col0\" >0</td>\n",
              "      <td id=\"T_ec01f_row8_col1\" class=\"data row8 col1\" >0</td>\n",
              "      <td id=\"T_ec01f_row8_col2\" class=\"data row8 col2\" >0</td>\n",
              "      <td id=\"T_ec01f_row8_col3\" class=\"data row8 col3\" >0</td>\n",
              "      <td id=\"T_ec01f_row8_col4\" class=\"data row8 col4\" >156</td>\n",
              "      <td id=\"T_ec01f_row8_col5\" class=\"data row8 col5\" >253</td>\n",
              "      <td id=\"T_ec01f_row8_col6\" class=\"data row8 col6\" >253</td>\n",
              "      <td id=\"T_ec01f_row8_col7\" class=\"data row8 col7\" >253</td>\n",
              "      <td id=\"T_ec01f_row8_col8\" class=\"data row8 col8\" >253</td>\n",
              "      <td id=\"T_ec01f_row8_col9\" class=\"data row8 col9\" >254</td>\n",
              "      <td id=\"T_ec01f_row8_col10\" class=\"data row8 col10\" >245</td>\n",
              "      <td id=\"T_ec01f_row8_col11\" class=\"data row8 col11\" >223</td>\n",
              "      <td id=\"T_ec01f_row8_col12\" class=\"data row8 col12\" >253</td>\n",
              "      <td id=\"T_ec01f_row8_col13\" class=\"data row8 col13\" >253</td>\n",
              "      <td id=\"T_ec01f_row8_col14\" class=\"data row8 col14\" >195</td>\n",
              "      <td id=\"T_ec01f_row8_col15\" class=\"data row8 col15\" >53</td>\n",
              "      <td id=\"T_ec01f_row8_col16\" class=\"data row8 col16\" >0</td>\n",
              "      <td id=\"T_ec01f_row8_col17\" class=\"data row8 col17\" >0</td>\n",
              "    </tr>\n",
              "    <tr>\n",
              "      <th id=\"T_ec01f_level0_row9\" class=\"row_heading level0 row9\" >9</th>\n",
              "      <td id=\"T_ec01f_row9_col0\" class=\"data row9 col0\" >0</td>\n",
              "      <td id=\"T_ec01f_row9_col1\" class=\"data row9 col1\" >0</td>\n",
              "      <td id=\"T_ec01f_row9_col2\" class=\"data row9 col2\" >0</td>\n",
              "      <td id=\"T_ec01f_row9_col3\" class=\"data row9 col3\" >0</td>\n",
              "      <td id=\"T_ec01f_row9_col4\" class=\"data row9 col4\" >61</td>\n",
              "      <td id=\"T_ec01f_row9_col5\" class=\"data row9 col5\" >173</td>\n",
              "      <td id=\"T_ec01f_row9_col6\" class=\"data row9 col6\" >98</td>\n",
              "      <td id=\"T_ec01f_row9_col7\" class=\"data row9 col7\" >98</td>\n",
              "      <td id=\"T_ec01f_row9_col8\" class=\"data row9 col8\" >98</td>\n",
              "      <td id=\"T_ec01f_row9_col9\" class=\"data row9 col9\" >99</td>\n",
              "      <td id=\"T_ec01f_row9_col10\" class=\"data row9 col10\" >15</td>\n",
              "      <td id=\"T_ec01f_row9_col11\" class=\"data row9 col11\" >0</td>\n",
              "      <td id=\"T_ec01f_row9_col12\" class=\"data row9 col12\" >68</td>\n",
              "      <td id=\"T_ec01f_row9_col13\" class=\"data row9 col13\" >240</td>\n",
              "      <td id=\"T_ec01f_row9_col14\" class=\"data row9 col14\" >255</td>\n",
              "      <td id=\"T_ec01f_row9_col15\" class=\"data row9 col15\" >238</td>\n",
              "      <td id=\"T_ec01f_row9_col16\" class=\"data row9 col16\" >41</td>\n",
              "      <td id=\"T_ec01f_row9_col17\" class=\"data row9 col17\" >0</td>\n",
              "    </tr>\n",
              "    <tr>\n",
              "      <th id=\"T_ec01f_level0_row10\" class=\"row_heading level0 row10\" >10</th>\n",
              "      <td id=\"T_ec01f_row10_col0\" class=\"data row10 col0\" >0</td>\n",
              "      <td id=\"T_ec01f_row10_col1\" class=\"data row10 col1\" >0</td>\n",
              "      <td id=\"T_ec01f_row10_col2\" class=\"data row10 col2\" >0</td>\n",
              "      <td id=\"T_ec01f_row10_col3\" class=\"data row10 col3\" >0</td>\n",
              "      <td id=\"T_ec01f_row10_col4\" class=\"data row10 col4\" >0</td>\n",
              "      <td id=\"T_ec01f_row10_col5\" class=\"data row10 col5\" >0</td>\n",
              "      <td id=\"T_ec01f_row10_col6\" class=\"data row10 col6\" >0</td>\n",
              "      <td id=\"T_ec01f_row10_col7\" class=\"data row10 col7\" >0</td>\n",
              "      <td id=\"T_ec01f_row10_col8\" class=\"data row10 col8\" >0</td>\n",
              "      <td id=\"T_ec01f_row10_col9\" class=\"data row10 col9\" >0</td>\n",
              "      <td id=\"T_ec01f_row10_col10\" class=\"data row10 col10\" >0</td>\n",
              "      <td id=\"T_ec01f_row10_col11\" class=\"data row10 col11\" >0</td>\n",
              "      <td id=\"T_ec01f_row10_col12\" class=\"data row10 col12\" >0</td>\n",
              "      <td id=\"T_ec01f_row10_col13\" class=\"data row10 col13\" >68</td>\n",
              "      <td id=\"T_ec01f_row10_col14\" class=\"data row10 col14\" >246</td>\n",
              "      <td id=\"T_ec01f_row10_col15\" class=\"data row10 col15\" >253</td>\n",
              "      <td id=\"T_ec01f_row10_col16\" class=\"data row10 col16\" >211</td>\n",
              "      <td id=\"T_ec01f_row10_col17\" class=\"data row10 col17\" >9</td>\n",
              "    </tr>\n",
              "  </tbody>\n",
              "</table>\n"
            ]
          },
          "metadata": {},
          "execution_count": 42
        }
      ]
    },
    {
      "cell_type": "code",
      "source": [
        "\n",
        "three_tensors = [tensor(Image.open(img)) for img in threes]\n",
        "seven_tensors = [tensor(Image.open(img)) for img in sevens]"
      ],
      "metadata": {
        "id": "fIUsgwdnQPVS"
      },
      "execution_count": 45,
      "outputs": []
    },
    {
      "cell_type": "code",
      "source": [
        "len(three_tensors),len(seven_tensors)"
      ],
      "metadata": {
        "colab": {
          "base_uri": "https://localhost:8080/"
        },
        "id": "9YakDWqbSR11",
        "outputId": "48d66564-9b7a-4cab-d8b6-811a8f56a5c6"
      },
      "execution_count": 46,
      "outputs": [
        {
          "output_type": "execute_result",
          "data": {
            "text/plain": [
              "(6131, 6265)"
            ]
          },
          "metadata": {},
          "execution_count": 46
        }
      ]
    },
    {
      "cell_type": "code",
      "source": [
        "show_image(seven_tensors[2])"
      ],
      "metadata": {
        "colab": {
          "base_uri": "https://localhost:8080/",
          "height": 131
        },
        "id": "Bjn1aM3xSz-z",
        "outputId": "525cfca9-a984-462e-ef66-813aa04a6712"
      },
      "execution_count": 50,
      "outputs": [
        {
          "output_type": "execute_result",
          "data": {
            "text/plain": [
              "<Axes: >"
            ]
          },
          "metadata": {},
          "execution_count": 50
        },
        {
          "output_type": "display_data",
          "data": {
            "text/plain": [
              "<Figure size 100x100 with 1 Axes>"
            ],
            "image/png": "[encoded data removed]"
          },
          "metadata": {}
        }
      ]
    },
    {
      "cell_type": "code",
      "source": [
        "stacked_sevens = torch.stack(seven_tensors).float()/255\n",
        "stacked_threes = torch.stack(three_tensors).float()/255"
      ],
      "metadata": {
        "id": "ILYxtwdZS2lW"
      },
      "execution_count": 56,
      "outputs": []
    },
    {
      "cell_type": "code",
      "source": [
        "stacked_threes.ndim"
      ],
      "metadata": {
        "colab": {
          "base_uri": "https://localhost:8080/"
        },
        "id": "lBwiww-ZUBfS",
        "outputId": "700f6c51-a9a1-4849-b8e3-6355d23f24bd"
      },
      "execution_count": 58,
      "outputs": [
        {
          "output_type": "execute_result",
          "data": {
            "text/plain": [
              "3"
            ]
          },
          "metadata": {},
          "execution_count": 58
        }
      ]
    },
    {
      "cell_type": "code",
      "source": [
        "mean3 = stacked_threes.mean(0)\n",
        "show_image(mean3);"
      ],
      "metadata": {
        "colab": {
          "base_uri": "https://localhost:8080/",
          "height": 114
        },
        "id": "E8g9bnnvUCfQ",
        "outputId": "630a20f1-af55-4619-ec73-c07006c91e1a"
      },
      "execution_count": 65,
      "outputs": [
        {
          "output_type": "display_data",
          "data": {
            "text/plain": [
              "<Figure size 100x100 with 1 Axes>"
            ],
            "image/png": "[encoded data removed]"
          },
          "metadata": {}
        }
      ]
    },
    {
      "cell_type": "code",
      "source": [
        "mean7 = stacked_sevens.mean(0)\n",
        "show_image(mean7);"
      ],
      "metadata": {
        "colab": {
          "base_uri": "https://localhost:8080/",
          "height": 114
        },
        "id": "RMlWimHVVG3A",
        "outputId": "d32b1c6e-db9a-400f-f374-9c2a4f94a735"
      },
      "execution_count": 66,
      "outputs": [
        {
          "output_type": "display_data",
          "data": {
            "text/plain": [
              "<Figure size 100x100 with 1 Axes>"
            ],
            "image/png": "[encoded data removed]"
          },
          "metadata": {}
        }
      ]
    },
    {
      "cell_type": "markdown",
      "source": [
        "# Very basic classifier"
      ],
      "metadata": {
        "id": "S0DZ8EPeoqcU"
      }
    },
    {
      "cell_type": "code",
      "source": [
        "((stacked_threes[1] - mean3).abs()).sum()/(mean3.shape[0]*mean3.shape[1])"
      ],
      "metadata": {
        "colab": {
          "base_uri": "https://localhost:8080/"
        },
        "id": "Lpd3rbdBVIee",
        "outputId": "ebc2ac8e-734e-4922-ceb2-b8e4ea483d45"
      },
      "execution_count": 93,
      "outputs": [
        {
          "output_type": "execute_result",
          "data": {
            "text/plain": [
              "tensor(0.1114)"
            ]
          },
          "metadata": {},
          "execution_count": 93
        }
      ]
    },
    {
      "cell_type": "code",
      "source": [
        "a_3 = stacked_threes[1]\n",
        "show_image(a_3)\n",
        "dist_3_abs = (a_3 - mean3).abs().mean()\n",
        "dist_3_sqr = ((a_3 - mean3)**2).mean().sqrt()\n",
        "dist_3_abs,dist_3_sqr"
      ],
      "metadata": {
        "colab": {
          "base_uri": "https://localhost:8080/",
          "height": 131
        },
        "id": "6056j15NWwG8",
        "outputId": "5ac82cfc-b799-41ff-fa79-2ab7dea4f925"
      },
      "execution_count": 95,
      "outputs": [
        {
          "output_type": "execute_result",
          "data": {
            "text/plain": [
              "(tensor(0.1114), tensor(0.2021))"
            ]
          },
          "metadata": {},
          "execution_count": 95
        },
        {
          "output_type": "display_data",
          "data": {
            "text/plain": [
              "<Figure size 100x100 with 1 Axes>"
            ],
            "image/png": "[encoded data removed]"
          },
          "metadata": {}
        }
      ]
    },
    {
      "cell_type": "code",
      "source": [
        "import torch.nn.functional as F"
      ],
      "metadata": {
        "id": "fmKdCzgjX5v9"
      },
      "execution_count": 99,
      "outputs": []
    },
    {
      "cell_type": "code",
      "source": [
        "F.l1_loss(stacked_threes[1], mean3), F.mse_loss(stacked_threes[1], mean3).sqrt()"
      ],
      "metadata": {
        "colab": {
          "base_uri": "https://localhost:8080/"
        },
        "id": "smA3FoNGbrIc",
        "outputId": "9368d578-780f-4833-9a93-1c496f258455"
      },
      "execution_count": 106,
      "outputs": [
        {
          "output_type": "execute_result",
          "data": {
            "text/plain": [
              "(tensor(0.1114), tensor(0.2021))"
            ]
          },
          "metadata": {},
          "execution_count": 106
        }
      ]
    },
    {
      "cell_type": "code",
      "source": [
        "data = [[1,2,3],[4,5,6]]\n",
        "arr = array (data)\n",
        "tns = tensor(data)"
      ],
      "metadata": {
        "id": "LrV9P9BKcMwn"
      },
      "execution_count": 107,
      "outputs": []
    },
    {
      "cell_type": "code",
      "source": [
        "(tensor ( [[1,2,3],[4,5,4]])[1:1]*1.5).type()"
      ],
      "metadata": {
        "colab": {
          "base_uri": "https://localhost:8080/",
          "height": 35
        },
        "id": "Zz2IHDbsgGTz",
        "outputId": "5d71e95c-a3fb-4ace-947a-994dafac96dc"
      },
      "execution_count": 120,
      "outputs": [
        {
          "output_type": "execute_result",
          "data": {
            "text/plain": [
              "'torch.FloatTensor'"
            ],
            "application/vnd.google.colaboratory.intrinsic+json": {
              "type": "string"
            }
          },
          "metadata": {},
          "execution_count": 120
        }
      ]
    },
    {
      "cell_type": "code",
      "source": [
        "valid_3_tens = torch.stack([tensor(Image.open(o))\n",
        "                            for o in (path/'valid'/'3').ls()])\n",
        "valid_3_tens = valid_3_tens.float()/255\n",
        "valid_7_tens = torch.stack([tensor(Image.open(o))\n",
        "                            for o in (path/'valid'/'7').ls()])\n",
        "valid_7_tens = valid_7_tens.float()/255\n",
        "valid_3_tens.shape,valid_7_tens.shape"
      ],
      "metadata": {
        "colab": {
          "base_uri": "https://localhost:8080/"
        },
        "id": "Cp3nqN1MgJ0t",
        "outputId": "2ceeda46-3dc5-4dd4-d906-9b5ad3e6f222"
      },
      "execution_count": 121,
      "outputs": [
        {
          "output_type": "execute_result",
          "data": {
            "text/plain": [
              "(torch.Size([1010, 28, 28]), torch.Size([1028, 28, 28]))"
            ]
          },
          "metadata": {},
          "execution_count": 121
        }
      ]
    },
    {
      "cell_type": "code",
      "source": [
        "def mnist_distance(a,b): return (a-b).abs().mean((-1,-2))\n",
        "mnist_distance(valid_3_tens, mean3).mean()"
      ],
      "metadata": {
        "colab": {
          "base_uri": "https://localhost:8080/"
        },
        "id": "pbOb35K7hfWB",
        "outputId": "cb57ddcb-e060-4e5f-9530-0711e9502feb"
      },
      "execution_count": 139,
      "outputs": [
        {
          "output_type": "execute_result",
          "data": {
            "text/plain": [
              "tensor(0.1296)"
            ]
          },
          "metadata": {},
          "execution_count": 139
        }
      ]
    },
    {
      "cell_type": "code",
      "source": [
        "def is_3(x): return mnist_distance(x,mean3) < mnist_distance(x,mean7)"
      ],
      "metadata": {
        "id": "cOF6ao0zh_o2"
      },
      "execution_count": 138,
      "outputs": []
    },
    {
      "cell_type": "code",
      "source": [
        "is_3(valid_3_tens).float().mean(), 1- is_3(valid_7_tens).float().mean()"
      ],
      "metadata": {
        "colab": {
          "base_uri": "https://localhost:8080/"
        },
        "id": "_Wdog2TdiJ7V",
        "outputId": "9016a057-f683-4fee-abfa-2cc6eadb565e"
      },
      "execution_count": 143,
      "outputs": [
        {
          "output_type": "execute_result",
          "data": {
            "text/plain": [
              "(tensor(0.9168), tensor(0.9854))"
            ]
          },
          "metadata": {},
          "execution_count": 143
        }
      ]
    },
    {
      "cell_type": "code",
      "source": [
        "accuracy_3s =      is_3(valid_3_tens).float() .mean()\n",
        "accuracy_7s = (1 - is_3(valid_7_tens).float()).mean()\n",
        "\n",
        "accuracy_3s,accuracy_7s,(accuracy_3s+accuracy_7s)/2"
      ],
      "metadata": {
        "colab": {
          "base_uri": "https://localhost:8080/"
        },
        "id": "2w2DWXxPlVES",
        "outputId": "ba17c999-c468-4c3d-deb3-ee9e4a7c8817"
      },
      "execution_count": 144,
      "outputs": [
        {
          "output_type": "execute_result",
          "data": {
            "text/plain": [
              "(tensor(0.9168), tensor(0.9854), tensor(0.9511))"
            ]
          },
          "metadata": {},
          "execution_count": 144
        }
      ]
    },
    {
      "cell_type": "code",
      "source": [
        "xt = tensor(3.).requires_grad_()"
      ],
      "metadata": {
        "id": "YpOAZ2eil2Uo"
      },
      "execution_count": 170,
      "outputs": []
    },
    {
      "cell_type": "code",
      "source": [
        "def f(x): return  x**2\n",
        "z = f(xt)"
      ],
      "metadata": {
        "id": "pl_tPQqLwBbu"
      },
      "execution_count": 171,
      "outputs": []
    },
    {
      "cell_type": "code",
      "source": [
        "z.backward()"
      ],
      "metadata": {
        "id": "usUbJD0azoQu"
      },
      "execution_count": 172,
      "outputs": []
    },
    {
      "cell_type": "code",
      "source": [
        "xt.grad"
      ],
      "metadata": {
        "colab": {
          "base_uri": "https://localhost:8080/"
        },
        "id": "MoS03ZhqzjxP",
        "outputId": "146c1daf-cf57-4234-a617-06bef0a25e43"
      },
      "execution_count": 174,
      "outputs": [
        {
          "output_type": "execute_result",
          "data": {
            "text/plain": [
              "tensor(6.)"
            ]
          },
          "metadata": {},
          "execution_count": 174
        }
      ]
    },
    {
      "cell_type": "code",
      "source": [
        "xt = tensor([3.,4.,10.]).requires_grad_()\n",
        "def f(x): return (x**2).sum()\n",
        "yt = f(xt)\n",
        "yt.backward()\n",
        "xt.grad"
      ],
      "metadata": {
        "colab": {
          "base_uri": "https://localhost:8080/"
        },
        "id": "F7Q1UE6uzyLf",
        "outputId": "57b274de-b197-40db-aac8-5a8208e14b83"
      },
      "execution_count": 176,
      "outputs": [
        {
          "output_type": "execute_result",
          "data": {
            "text/plain": [
              "tensor([ 6.,  8., 20.])"
            ]
          },
          "metadata": {},
          "execution_count": 176
        }
      ]
    },
    {
      "cell_type": "code",
      "source": [
        "?torch.randn"
      ],
      "metadata": {
        "id": "VmmTsxB-z1T2"
      },
      "execution_count": 179,
      "outputs": []
    },
    {
      "cell_type": "markdown",
      "source": [
        "# cuadratic function test"
      ],
      "metadata": {
        "id": "L9AtAHCv2GAY"
      }
    },
    {
      "cell_type": "code",
      "source": [
        "time = torch.arange(0,20).float(); time"
      ],
      "metadata": {
        "colab": {
          "base_uri": "https://localhost:8080/"
        },
        "id": "-ql9HfQR3XiR",
        "outputId": "a640e258-6f2e-4aff-d963-dfe9d91be00b"
      },
      "execution_count": 185,
      "outputs": [
        {
          "output_type": "execute_result",
          "data": {
            "text/plain": [
              "tensor([ 0.,  1.,  2.,  3.,  4.,  5.,  6.,  7.,  8.,  9., 10., 11., 12., 13., 14., 15., 16., 17., 18., 19.])"
            ]
          },
          "metadata": {},
          "execution_count": 185
        }
      ]
    },
    {
      "cell_type": "code",
      "source": [
        "speed = torch.randn(20)*3 + 0.75*(time-9.5)**2 + 1\n",
        "plt.scatter(time,speed);"
      ],
      "metadata": {
        "colab": {
          "base_uri": "https://localhost:8080/",
          "height": 434
        },
        "id": "xfDHq7KN3Ym4",
        "outputId": "887e564e-3de3-41b4-d37e-2d8d8518b47f"
      },
      "execution_count": 186,
      "outputs": [
        {
          "output_type": "display_data",
          "data": {
            "text/plain": [
              "<Figure size 640x480 with 1 Axes>"
            ],
            "image/png": "[encoded data removed]"
          },
          "metadata": {}
        }
      ]
    },
    {
      "cell_type": "code",
      "source": [
        "def f(t, params):\n",
        "    a,b,c = params\n",
        "    return a*(t**2) + (b*t) + c"
      ],
      "metadata": {
        "id": "QCTh8zD-2mT_"
      },
      "execution_count": 180,
      "outputs": []
    },
    {
      "cell_type": "code",
      "source": [
        "def mse(preds, targets): return ((preds-targets)**2).mean()"
      ],
      "metadata": {
        "id": "91U6v6EV2m-D"
      },
      "execution_count": 181,
      "outputs": []
    },
    {
      "cell_type": "code",
      "source": [
        "params = torch.randn(3).requires_grad_()\n",
        "orig_params = params.clone()"
      ],
      "metadata": {
        "id": "Zysy4QAr29aL"
      },
      "execution_count": 183,
      "outputs": []
    },
    {
      "cell_type": "code",
      "source": [
        "preds = f(time, params)"
      ],
      "metadata": {
        "id": "Y21QlXPG3CV4"
      },
      "execution_count": 187,
      "outputs": []
    },
    {
      "cell_type": "markdown",
      "source": [
        "predictions:"
      ],
      "metadata": {
        "id": "cCOPwGcy3NnZ"
      }
    },
    {
      "cell_type": "code",
      "source": [
        "def show_preds(preds, ax=None):\n",
        "    if ax is None: ax=plt.subplots()[1]\n",
        "    ax.scatter(time, speed)\n",
        "    ax.scatter(time, to_np(preds), color='red')\n",
        "    ax.set_ylim(-300,100)\n",
        "show_preds(preds)"
      ],
      "metadata": {
        "colab": {
          "base_uri": "https://localhost:8080/",
          "height": 441
        },
        "id": "_z9pqjiQ3kdv",
        "outputId": "d0bb60f0-3964-4309-aef1-333f849bca62"
      },
      "execution_count": 206,
      "outputs": [
        {
          "output_type": "display_data",
          "data": {
            "text/plain": [
              "<Figure size 640x480 with 1 Axes>"
            ],
            "image/png": "[encoded data removed]"
          },
          "metadata": {}
        }
      ]
    },
    {
      "cell_type": "code",
      "source": [
        "loss = mse(preds, speed)\n"
      ],
      "metadata": {
        "id": "s9Oo9OX-3k2s"
      },
      "execution_count": 190,
      "outputs": []
    },
    {
      "cell_type": "code",
      "source": [
        "loss"
      ],
      "metadata": {
        "colab": {
          "base_uri": "https://localhost:8080/"
        },
        "id": "M7qi4k1P54zQ",
        "outputId": "000b67d8-0340-46df-b2ff-6cbabab4dce1"
      },
      "execution_count": 205,
      "outputs": [
        {
          "output_type": "execute_result",
          "data": {
            "text/plain": [
              "tensor(8503.1299, grad_fn=<MeanBackward0>)"
            ]
          },
          "metadata": {},
          "execution_count": 205
        }
      ]
    },
    {
      "cell_type": "code",
      "source": [
        "loss.backward()\n"
      ],
      "metadata": {
        "id": "cUtlujGY38Qc"
      },
      "execution_count": null,
      "outputs": []
    },
    {
      "cell_type": "code",
      "source": [
        "params.grad * 1e-5"
      ],
      "metadata": {
        "colab": {
          "base_uri": "https://localhost:8080/"
        },
        "id": "2o07KAMs4IyX",
        "outputId": "7fc46daf-8cf1-4930-97cd-86953f280ee2"
      },
      "execution_count": 198,
      "outputs": [
        {
          "output_type": "execute_result",
          "data": {
            "text/plain": [
              "tensor([0.2979, 0.0191, 0.0011])"
            ]
          },
          "metadata": {},
          "execution_count": 198
        }
      ]
    },
    {
      "cell_type": "code",
      "source": [
        "lr = 1e-5\n",
        "params.data -= lr * params.grad.data\n"
      ],
      "metadata": {
        "id": "HxYA9HkP4Sg2"
      },
      "execution_count": 201,
      "outputs": []
    },
    {
      "cell_type": "code",
      "source": [
        "params.grad = None"
      ],
      "metadata": {
        "id": "KKAJzIuE41km"
      },
      "execution_count": 202,
      "outputs": []
    },
    {
      "cell_type": "code",
      "source": [
        "preds = f(time,params)\n",
        "mse(preds, speed)"
      ],
      "metadata": {
        "colab": {
          "base_uri": "https://localhost:8080/"
        },
        "id": "hG1u7z115ncX",
        "outputId": "24b7c069-822b-4a69-970b-e19fddefd21f"
      },
      "execution_count": 204,
      "outputs": [
        {
          "output_type": "execute_result",
          "data": {
            "text/plain": [
              "tensor(2107.4783, grad_fn=<MeanBackward0>)"
            ]
          },
          "metadata": {},
          "execution_count": 204
        }
      ]
    },
    {
      "cell_type": "code",
      "source": [
        "show_preds(preds)"
      ],
      "metadata": {
        "colab": {
          "base_uri": "https://localhost:8080/",
          "height": 441
        },
        "id": "esudDngf52Fd",
        "outputId": "12369df3-5aa5-44c3-bcda-49a5c490ce96"
      },
      "execution_count": 207,
      "outputs": [
        {
          "output_type": "display_data",
          "data": {
            "text/plain": [
              "<Figure size 640x480 with 1 Axes>"
            ],
            "image/png": "[encoded data removed]"
          },
          "metadata": {}
        }
      ]
    },
    {
      "cell_type": "code",
      "source": [
        "def apply_step(params, prn=True):\n",
        "    preds = f(time, params)\n",
        "    loss = mse(preds, speed)\n",
        "    loss.backward()\n",
        "    params.data -= lr * params.grad.data\n",
        "    params.grad = None\n",
        "    if prn: print(loss.item())\n",
        "    return preds"
      ],
      "metadata": {
        "id": "s7kmQAfM6FkG"
      },
      "execution_count": 208,
      "outputs": []
    },
    {
      "cell_type": "code",
      "source": [
        "for i in range(10): apply_step(params)"
      ],
      "metadata": {
        "colab": {
          "base_uri": "https://localhost:8080/"
        },
        "id": "IjXST9h_6RGY",
        "outputId": "0946d128-0f83-436f-bd3c-b109ec3a91ab"
      },
      "execution_count": 209,
      "outputs": [
        {
          "output_type": "stream",
          "name": "stdout",
          "text": [
            "2107.478271484375\n",
            "897.2223510742188\n",
            "668.2022705078125\n",
            "624.862060546875\n",
            "616.6581420898438\n",
            "615.1030883789062\n",
            "614.80615234375\n",
            "614.7474365234375\n",
            "614.7337036132812\n",
            "614.7284545898438\n"
          ]
        }
      ]
    },
    {
      "cell_type": "code",
      "source": [
        "show_preds(preds)"
      ],
      "metadata": {
        "colab": {
          "base_uri": "https://localhost:8080/",
          "height": 441
        },
        "id": "2R0RQnlH6WpX",
        "outputId": "0aac1ec4-4c2d-4dfb-ab0d-a7d5c3a1d33c"
      },
      "execution_count": 210,
      "outputs": [
        {
          "output_type": "display_data",
          "data": {
            "text/plain": [
              "<Figure size 640x480 with 1 Axes>"
            ],
            "image/png": "[encoded data removed]"
          },
          "metadata": {}
        }
      ]
    },
    {
      "cell_type": "code",
      "source": [
        "params = orig_params.detach().requires_grad_()"
      ],
      "metadata": {
        "id": "ETF2GW8X6a6K"
      },
      "execution_count": 213,
      "outputs": []
    },
    {
      "cell_type": "code",
      "source": [
        "_,axs = plt.subplots(1,4,figsize=(12,3))\n",
        "for ax in axs: show_preds(apply_step(params, False), ax)\n",
        "plt.tight_layout()"
      ],
      "metadata": {
        "colab": {
          "base_uri": "https://localhost:8080/",
          "height": 191
        },
        "id": "uYFP4izc8Vay",
        "outputId": "44ed55c5-6217-4cbf-9e7c-e1e71c64eadc"
      },
      "execution_count": 214,
      "outputs": [
        {
          "output_type": "display_data",
          "data": {
            "text/plain": [
              "<Figure size 1200x300 with 4 Axes>"
            ],
            "image/png": "[encoded data removed]"
          },
          "metadata": {}
        }
      ]
    },
    {
      "cell_type": "code",
      "source": [
        "torch.tensor([ 0.1943, -0.7342,  0.0796, -10])"
      ],
      "metadata": {
        "colab": {
          "base_uri": "https://localhost:8080/"
        },
        "id": "UTLS_wprAkL4",
        "outputId": "8ac5616c-abef-4753-c613-f760b9352ef2"
      },
      "execution_count": 286,
      "outputs": [
        {
          "output_type": "execute_result",
          "data": {
            "text/plain": [
              "tensor([  0.1943,  -0.7342,   0.0796, -10.0000])"
            ]
          },
          "metadata": {},
          "execution_count": 286
        }
      ]
    },
    {
      "cell_type": "code",
      "source": [
        "params2 = torch.tensor([ 0.1943, -0.7342,  0.0796, -10]).requires_grad_()\n",
        "orig_params2 = params2.clone()"
      ],
      "metadata": {
        "id": "9OeU_m1f8pMP"
      },
      "execution_count": 287,
      "outputs": []
    },
    {
      "cell_type": "code",
      "source": [
        "params2"
      ],
      "metadata": {
        "colab": {
          "base_uri": "https://localhost:8080/"
        },
        "id": "yqS4DQ3IAVWf",
        "outputId": "ca05ac07-79ec-4812-e12e-2d2e90d69692"
      },
      "execution_count": 283,
      "outputs": [
        {
          "output_type": "execute_result",
          "data": {
            "text/plain": [
              "tensor([ 0.1943, -0.7342,  0.0796, -0.3888], requires_grad=True)"
            ]
          },
          "metadata": {},
          "execution_count": 283
        }
      ]
    },
    {
      "cell_type": "code",
      "source": [
        "lr = 1e-5"
      ],
      "metadata": {
        "id": "t70HUL3U_tBo"
      },
      "execution_count": 279,
      "outputs": []
    },
    {
      "cell_type": "code",
      "source": [
        "\n",
        "\n",
        "def mse(preds, targets): return ((preds-targets)**2).mean()\n",
        "\n",
        "def f2(x, params):\n",
        "  a,b,c,d = params\n",
        "  return a*(x+d)**2+(x+d)*b+c\n",
        "def apply_step2(params, prn=True):\n",
        "    preds = f2(time, params)\n",
        "    loss = mse(preds, speed)\n",
        "    loss.backward()\n",
        "    params.data -= lr * params.grad.data\n",
        "    params.grad = None\n",
        "    if prn: print(loss.item())\n",
        "    return preds"
      ],
      "metadata": {
        "id": "qXaH0e-b8Gpu"
      },
      "execution_count": 280,
      "outputs": []
    },
    {
      "cell_type": "code",
      "source": [
        "_,axs = plt.subplots(1,4,figsize=(12,3))\n",
        "for ax in axs: show_preds(apply_step2(params2, False), ax)\n",
        "plt.tight_layout()"
      ],
      "metadata": {
        "colab": {
          "base_uri": "https://localhost:8080/",
          "height": 191
        },
        "id": "Fv1HiaJ-71cg",
        "outputId": "b529a2a9-7d2d-4041-d75e-e61fa3355197"
      },
      "execution_count": 290,
      "outputs": [
        {
          "output_type": "display_data",
          "data": {
            "text/plain": [
              "<Figure size 1200x300 with 4 Axes>"
            ],
            "image/png": "[encoded data removed]"
          },
          "metadata": {}
        }
      ]
    },
    {
      "cell_type": "code",
      "source": [
        "\n",
        "for i in range(1000): apply_step2(params2)"
      ],
      "metadata": {
        "colab": {
          "base_uri": "https://localhost:8080/"
        },
        "id": "MKIBXDKx720w",
        "outputId": "9bb5b7e9-cd93-43b1-af2a-3de47f853add"
      },
      "execution_count": 289,
      "outputs": [
        {
          "output_type": "stream",
          "name": "stdout",
          "text": [
            "508.66046142578125\n",
            "475.20953369140625\n",
            "444.4163513183594\n",
            "416.068359375\n",
            "389.9697570800781\n",
            "365.9405822753906\n",
            "343.81500244140625\n",
            "323.4407043457031\n",
            "304.6771545410156\n",
            "287.3954162597656\n",
            "271.4765930175781\n",
            "256.8115539550781\n",
            "243.2997283935547\n",
            "230.84848022460938\n",
            "219.3729248046875\n",
            "208.7946319580078\n",
            "199.04176330566406\n",
            "190.04795837402344\n",
            "181.7523956298828\n",
            "174.09902954101562\n",
            "167.0363006591797\n",
            "160.51683044433594\n",
            "154.49696350097656\n",
            "148.93666076660156\n",
            "143.7990264892578\n",
            "139.0501708984375\n",
            "134.658935546875\n",
            "130.5966033935547\n",
            "126.8367691040039\n",
            "123.3553237915039\n",
            "120.1297607421875\n",
            "117.1396484375\n",
            "114.36614990234375\n",
            "111.79188537597656\n",
            "109.4009017944336\n",
            "107.17863464355469\n",
            "105.1114273071289\n",
            "103.1869888305664\n",
            "101.39396667480469\n",
            "99.72177124023438\n",
            "98.16084289550781\n",
            "96.70223236083984\n",
            "95.33782196044922\n",
            "94.06018829345703\n",
            "92.86227416992188\n",
            "91.73792266845703\n",
            "90.68123626708984\n",
            "89.68679809570312\n",
            "88.74977111816406\n",
            "87.86553955078125\n",
            "87.03001403808594\n",
            "86.23934173583984\n",
            "85.48994445800781\n",
            "84.77864074707031\n",
            "84.10240936279297\n",
            "83.45849609375\n",
            "82.84442901611328\n",
            "82.25789642333984\n",
            "81.69669342041016\n",
            "81.15895080566406\n",
            "80.64288330078125\n",
            "80.14672088623047\n",
            "79.66905212402344\n",
            "79.20838928222656\n",
            "78.7634506225586\n",
            "78.33304595947266\n",
            "77.91622161865234\n",
            "77.51177215576172\n",
            "77.11888122558594\n",
            "76.73673248291016\n",
            "76.3644790649414\n",
            "76.00148010253906\n",
            "75.64695739746094\n",
            "75.30039978027344\n",
            "74.96122741699219\n",
            "74.62882995605469\n",
            "74.30287170410156\n",
            "73.98284149169922\n",
            "73.66828918457031\n",
            "73.3590087890625\n",
            "73.0544662475586\n",
            "72.75447082519531\n",
            "72.4587173461914\n",
            "72.16691589355469\n",
            "71.87886810302734\n",
            "71.59428405761719\n",
            "71.31295013427734\n",
            "71.0348129272461\n",
            "70.75953674316406\n",
            "70.48698425292969\n",
            "70.21703338623047\n",
            "69.94966125488281\n",
            "69.68450927734375\n",
            "69.42164611816406\n",
            "69.16089630126953\n",
            "68.90217590332031\n",
            "68.64542388916016\n",
            "68.3905029296875\n",
            "68.13732147216797\n",
            "67.8858413696289\n",
            "67.63597106933594\n",
            "67.38774108886719\n",
            "67.14100646972656\n",
            "66.89570617675781\n",
            "66.65187072753906\n",
            "66.40937042236328\n",
            "66.16813659667969\n",
            "65.92826080322266\n",
            "65.6895751953125\n",
            "65.45216369628906\n",
            "65.21598815917969\n",
            "64.98091125488281\n",
            "64.74700927734375\n",
            "64.51414489746094\n",
            "64.28240203857422\n",
            "64.05176544189453\n",
            "63.82221221923828\n",
            "63.593589782714844\n",
            "63.366004943847656\n",
            "63.13945388793945\n",
            "62.91388702392578\n",
            "62.68933868408203\n",
            "62.46571731567383\n",
            "62.24298095703125\n",
            "62.02117919921875\n",
            "61.8003044128418\n",
            "61.580345153808594\n",
            "61.361305236816406\n",
            "61.1431770324707\n",
            "60.925933837890625\n",
            "60.709571838378906\n",
            "60.49406814575195\n",
            "60.279457092285156\n",
            "60.065673828125\n",
            "59.85276412963867\n",
            "59.64067840576172\n",
            "59.42945098876953\n",
            "59.21901321411133\n",
            "59.009429931640625\n",
            "58.80065155029297\n",
            "58.592811584472656\n",
            "58.38576126098633\n",
            "58.17951202392578\n",
            "57.97405242919922\n",
            "57.7694206237793\n",
            "57.5655403137207\n",
            "57.362449645996094\n",
            "57.16017532348633\n",
            "56.95862579345703\n",
            "56.757965087890625\n",
            "56.558067321777344\n",
            "56.35896682739258\n",
            "56.16058349609375\n",
            "55.962982177734375\n",
            "55.76613235473633\n",
            "55.57001495361328\n",
            "55.37476348876953\n",
            "55.18024826049805\n",
            "54.986473083496094\n",
            "54.79343795776367\n",
            "54.60113525390625\n",
            "54.4095573425293\n",
            "54.218719482421875\n",
            "54.02869415283203\n",
            "53.83942413330078\n",
            "53.650840759277344\n",
            "53.46299362182617\n",
            "53.27583694458008\n",
            "53.08940887451172\n",
            "52.90380096435547\n",
            "52.718894958496094\n",
            "52.534698486328125\n",
            "52.3511848449707\n",
            "52.168365478515625\n",
            "51.98625946044922\n",
            "51.80495071411133\n",
            "51.62433624267578\n",
            "51.44438934326172\n",
            "51.265159606933594\n",
            "51.08659744262695\n",
            "50.908729553222656\n",
            "50.73163604736328\n",
            "50.55522918701172\n",
            "50.37947463989258\n",
            "50.204429626464844\n",
            "50.030033111572266\n",
            "49.856300354003906\n",
            "49.68334197998047\n",
            "49.51106262207031\n",
            "49.33943176269531\n",
            "49.16846466064453\n",
            "48.99816131591797\n",
            "48.82850646972656\n",
            "48.659515380859375\n",
            "48.491268157958984\n",
            "48.32367706298828\n",
            "48.15672302246094\n",
            "47.990440368652344\n",
            "47.82479476928711\n",
            "47.659759521484375\n",
            "47.495384216308594\n",
            "47.33175277709961\n",
            "47.168766021728516\n",
            "47.006385803222656\n",
            "46.84465408325195\n",
            "46.683555603027344\n",
            "46.523067474365234\n",
            "46.363224029541016\n",
            "46.20399856567383\n",
            "46.04549789428711\n",
            "45.88760757446289\n",
            "45.73035430908203\n",
            "45.573692321777344\n",
            "45.417659759521484\n",
            "45.262237548828125\n",
            "45.1074333190918\n",
            "44.953224182128906\n",
            "44.79962921142578\n",
            "44.64664077758789\n",
            "44.49433517456055\n",
            "44.342655181884766\n",
            "44.191566467285156\n",
            "44.04109573364258\n",
            "43.891178131103516\n",
            "43.74187469482422\n",
            "43.59314727783203\n",
            "43.44503402709961\n",
            "43.29750442504883\n",
            "43.15055847167969\n",
            "43.004180908203125\n",
            "42.85841369628906\n",
            "42.713218688964844\n",
            "42.56870651245117\n",
            "42.42475128173828\n",
            "42.28137969970703\n",
            "42.138572692871094\n",
            "41.996360778808594\n",
            "41.854713439941406\n",
            "41.713623046875\n",
            "41.5731086730957\n",
            "41.433135986328125\n",
            "41.293739318847656\n",
            "41.15491485595703\n",
            "41.016624450683594\n",
            "40.878910064697266\n",
            "40.74174880981445\n",
            "40.60515594482422\n",
            "40.46910858154297\n",
            "40.333595275878906\n",
            "40.198646545410156\n",
            "40.06423568725586\n",
            "39.930381774902344\n",
            "39.79706573486328\n",
            "39.66429901123047\n",
            "39.53207778930664\n",
            "39.40038299560547\n",
            "39.26921844482422\n",
            "39.138607025146484\n",
            "39.00851058959961\n",
            "38.87895202636719\n",
            "38.74993133544922\n",
            "38.62145233154297\n",
            "38.49347686767578\n",
            "38.36603546142578\n",
            "38.239112854003906\n",
            "38.11271286010742\n",
            "37.986839294433594\n",
            "37.861480712890625\n",
            "37.73664093017578\n",
            "37.61231231689453\n",
            "37.48851013183594\n",
            "37.365203857421875\n",
            "37.24241638183594\n",
            "37.120140075683594\n",
            "36.99836349487305\n",
            "36.8770866394043\n",
            "36.75624084472656\n",
            "36.63591384887695\n",
            "36.51605987548828\n",
            "36.39671325683594\n",
            "36.277862548828125\n",
            "36.159507751464844\n",
            "36.04165267944336\n",
            "35.924278259277344\n",
            "35.807411193847656\n",
            "35.691036224365234\n",
            "35.57512664794922\n",
            "35.45973205566406\n",
            "35.34471893310547\n",
            "35.230194091796875\n",
            "35.11614227294922\n",
            "35.00257873535156\n",
            "34.889495849609375\n",
            "34.776885986328125\n",
            "34.66476821899414\n",
            "34.5531120300293\n",
            "34.44191360473633\n",
            "34.33112335205078\n",
            "34.22079849243164\n",
            "34.1109504699707\n",
            "34.00154495239258\n",
            "33.89262008666992\n",
            "33.78416061401367\n",
            "33.676170349121094\n",
            "33.56863021850586\n",
            "33.461463928222656\n",
            "33.354759216308594\n",
            "33.24851989746094\n",
            "33.142723083496094\n",
            "33.03738021850586\n",
            "32.932498931884766\n",
            "32.8279914855957\n",
            "32.72391128540039\n",
            "32.620296478271484\n",
            "32.517120361328125\n",
            "32.414390563964844\n",
            "32.31209945678711\n",
            "32.210166931152344\n",
            "32.108699798583984\n",
            "32.00765609741211\n",
            "31.907052993774414\n",
            "31.806854248046875\n",
            "31.707042694091797\n",
            "31.607656478881836\n",
            "31.50872230529785\n",
            "31.410202026367188\n",
            "31.31209373474121\n",
            "31.21435546875\n",
            "31.117046356201172\n",
            "31.020151138305664\n",
            "30.923690795898438\n",
            "30.827550888061523\n",
            "30.73186683654785\n",
            "30.636566162109375\n",
            "30.541711807250977\n",
            "30.447254180908203\n",
            "30.353153228759766\n",
            "30.259445190429688\n",
            "30.166168212890625\n",
            "30.073287963867188\n",
            "29.98074722290039\n",
            "29.888622283935547\n",
            "29.796886444091797\n",
            "29.705577850341797\n",
            "29.61458396911621\n",
            "29.524002075195312\n",
            "29.433818817138672\n",
            "29.34395980834961\n",
            "29.254507064819336\n",
            "29.16543960571289\n",
            "29.076772689819336\n",
            "28.988428115844727\n",
            "28.90047836303711\n",
            "28.812917709350586\n",
            "28.725683212280273\n",
            "28.638818740844727\n",
            "28.5523681640625\n",
            "28.466293334960938\n",
            "28.38053321838379\n",
            "28.295146942138672\n",
            "28.210168838500977\n",
            "28.125478744506836\n",
            "28.041183471679688\n",
            "27.9572696685791\n",
            "27.8736572265625\n",
            "27.790414810180664\n",
            "27.707544326782227\n",
            "27.6249942779541\n",
            "27.54281997680664\n",
            "27.46100425720215\n",
            "27.37948226928711\n",
            "27.29833984375\n",
            "27.21756935119629\n",
            "27.137096405029297\n",
            "27.056987762451172\n",
            "26.977237701416016\n",
            "26.897790908813477\n",
            "26.81870460510254\n",
            "26.739974975585938\n",
            "26.66153907775879\n",
            "26.58345603942871\n",
            "26.505672454833984\n",
            "26.42824935913086\n",
            "26.35117530822754\n",
            "26.274372100830078\n",
            "26.19794273376465\n",
            "26.12186050415039\n",
            "26.046051025390625\n",
            "25.970596313476562\n",
            "25.895431518554688\n",
            "25.820598602294922\n",
            "25.74611473083496\n",
            "25.671926498413086\n",
            "25.59806251525879\n",
            "25.524478912353516\n",
            "25.451234817504883\n",
            "25.37826156616211\n",
            "25.305644989013672\n",
            "25.233346939086914\n",
            "25.16133689880371\n",
            "25.089641571044922\n",
            "25.01822280883789\n",
            "24.947147369384766\n",
            "24.87632179260254\n",
            "24.805850982666016\n",
            "24.735689163208008\n",
            "24.665807723999023\n",
            "24.596240997314453\n",
            "24.52693748474121\n",
            "24.457965850830078\n",
            "24.38924789428711\n",
            "24.32086181640625\n",
            "24.252727508544922\n",
            "24.184921264648438\n",
            "24.117372512817383\n",
            "24.050134658813477\n",
            "23.983219146728516\n",
            "23.91655731201172\n",
            "23.85021209716797\n",
            "23.784122467041016\n",
            "23.718339920043945\n",
            "23.652801513671875\n",
            "23.587581634521484\n",
            "23.52262306213379\n",
            "23.457958221435547\n",
            "23.393543243408203\n",
            "23.329431533813477\n",
            "23.26557731628418\n",
            "23.20201873779297\n",
            "23.138713836669922\n",
            "23.075700759887695\n",
            "23.012920379638672\n",
            "22.950468063354492\n",
            "22.888233184814453\n",
            "22.826251983642578\n",
            "22.764558792114258\n",
            "22.703105926513672\n",
            "22.64194679260254\n",
            "22.581031799316406\n",
            "22.520408630371094\n",
            "22.46000862121582\n",
            "22.399917602539062\n",
            "22.340045928955078\n",
            "22.28046989440918\n",
            "22.221115112304688\n",
            "22.1619930267334\n",
            "22.103166580200195\n",
            "22.0445613861084\n",
            "21.986248016357422\n",
            "21.92815589904785\n",
            "21.870344161987305\n",
            "21.812761306762695\n",
            "21.75545883178711\n",
            "21.698375701904297\n",
            "21.641530990600586\n",
            "21.584951400756836\n",
            "21.528589248657227\n",
            "21.472517013549805\n",
            "21.41665267944336\n",
            "21.360998153686523\n",
            "21.305627822875977\n",
            "21.250473022460938\n",
            "21.19559669494629\n",
            "21.14093780517578\n",
            "21.086477279663086\n",
            "21.032306671142578\n",
            "20.978336334228516\n",
            "20.924633026123047\n",
            "20.87114715576172\n",
            "20.817852020263672\n",
            "20.764850616455078\n",
            "20.712039947509766\n",
            "20.659435272216797\n",
            "20.607107162475586\n",
            "20.554973602294922\n",
            "20.503047943115234\n",
            "20.451385498046875\n",
            "20.399921417236328\n",
            "20.348726272583008\n",
            "20.297725677490234\n",
            "20.24692153930664\n",
            "20.196380615234375\n",
            "20.14604377746582\n",
            "20.095903396606445\n",
            "20.046016693115234\n",
            "19.996326446533203\n",
            "19.94683265686035\n",
            "19.897586822509766\n",
            "19.848543167114258\n",
            "19.79969024658203\n",
            "19.751083374023438\n",
            "19.702680587768555\n",
            "19.654468536376953\n",
            "19.606494903564453\n",
            "19.558719635009766\n",
            "19.511131286621094\n",
            "19.463733673095703\n",
            "19.416576385498047\n",
            "19.369613647460938\n",
            "19.322839736938477\n",
            "19.276296615600586\n",
            "19.229948043823242\n",
            "19.183774948120117\n",
            "19.137855529785156\n",
            "19.092119216918945\n",
            "19.046558380126953\n",
            "19.00118064880371\n",
            "18.956039428710938\n",
            "18.91107749938965\n",
            "18.866302490234375\n",
            "18.82171058654785\n",
            "18.777345657348633\n",
            "18.73316192626953\n",
            "18.689159393310547\n",
            "18.64537811279297\n",
            "18.60177230834961\n",
            "18.558361053466797\n",
            "18.515100479125977\n",
            "18.472087860107422\n",
            "18.42923927307129\n",
            "18.38656997680664\n",
            "18.344074249267578\n",
            "18.30174446105957\n",
            "18.2596435546875\n",
            "18.217714309692383\n",
            "18.17595672607422\n",
            "18.134363174438477\n",
            "18.092998504638672\n",
            "18.051795959472656\n",
            "18.010761260986328\n",
            "17.969898223876953\n",
            "17.929256439208984\n",
            "17.888769149780273\n",
            "17.848451614379883\n",
            "17.808307647705078\n",
            "17.768321990966797\n",
            "17.728548049926758\n",
            "17.688941955566406\n",
            "17.64949607849121\n",
            "17.610218048095703\n",
            "17.571096420288086\n",
            "17.532184600830078\n",
            "17.493438720703125\n",
            "17.454843521118164\n",
            "17.41641616821289\n",
            "17.378145217895508\n",
            "17.34002685546875\n",
            "17.302114486694336\n",
            "17.26436996459961\n",
            "17.226776123046875\n",
            "17.189334869384766\n",
            "17.152053833007812\n",
            "17.114927291870117\n",
            "17.077999114990234\n",
            "17.04122543334961\n",
            "17.00461196899414\n",
            "16.968149185180664\n",
            "16.931838989257812\n",
            "16.89566993713379\n",
            "16.859699249267578\n",
            "16.823888778686523\n",
            "16.788225173950195\n",
            "16.752704620361328\n",
            "16.717342376708984\n",
            "16.682125091552734\n",
            "16.647056579589844\n",
            "16.612163543701172\n",
            "16.577444076538086\n",
            "16.54285430908203\n",
            "16.508419036865234\n",
            "16.474123001098633\n",
            "16.439971923828125\n",
            "16.40597152709961\n",
            "16.372102737426758\n",
            "16.338436126708984\n",
            "16.304901123046875\n",
            "16.271509170532227\n",
            "16.23826026916504\n",
            "16.205150604248047\n",
            "16.172183990478516\n",
            "16.139354705810547\n",
            "16.106672286987305\n",
            "16.074115753173828\n",
            "16.041706085205078\n",
            "16.009485244750977\n",
            "15.977386474609375\n",
            "15.9454345703125\n",
            "15.913610458374023\n",
            "15.881927490234375\n",
            "15.850384712219238\n",
            "15.818974494934082\n",
            "15.787696838378906\n",
            "15.756551742553711\n",
            "15.72553539276123\n",
            "15.694659233093262\n",
            "15.663917541503906\n",
            "15.633291244506836\n",
            "15.602816581726074\n",
            "15.572504043579102\n",
            "15.542325019836426\n",
            "15.512277603149414\n",
            "15.4823579788208\n",
            "15.45257568359375\n",
            "15.42291259765625\n",
            "15.393381118774414\n",
            "15.363969802856445\n",
            "15.334695816040039\n",
            "15.30554485321045\n",
            "15.276516914367676\n",
            "15.24761962890625\n",
            "15.218841552734375\n",
            "15.190193176269531\n",
            "15.161664009094238\n",
            "15.133273124694824\n",
            "15.104992866516113\n",
            "15.07684326171875\n",
            "15.048810958862305\n",
            "15.020901679992676\n",
            "14.99311637878418\n",
            "14.965444564819336\n",
            "14.937906265258789\n",
            "14.910484313964844\n",
            "14.883176803588867\n",
            "14.855997085571289\n",
            "14.8289213180542\n",
            "14.801977157592773\n",
            "14.775154113769531\n",
            "14.748438835144043\n",
            "14.72185230255127\n",
            "14.695367813110352\n",
            "14.669021606445312\n",
            "14.642770767211914\n",
            "14.616647720336914\n",
            "14.5906343460083\n",
            "14.564740180969238\n",
            "14.538965225219727\n",
            "14.513287544250488\n",
            "14.487736701965332\n",
            "14.462292671203613\n",
            "14.436973571777344\n",
            "14.411747932434082\n",
            "14.386645317077637\n",
            "14.361666679382324\n",
            "14.33677864074707\n",
            "14.312017440795898\n",
            "14.287353515625\n",
            "14.262804985046387\n",
            "14.238368034362793\n",
            "14.21403694152832\n",
            "14.1898193359375\n",
            "14.165705680847168\n",
            "14.141702651977539\n",
            "14.117803573608398\n",
            "14.093976020812988\n",
            "14.070249557495117\n",
            "14.046638488769531\n",
            "14.02313232421875\n",
            "13.999725341796875\n",
            "13.976435661315918\n",
            "13.953241348266602\n",
            "13.930160522460938\n",
            "13.907173156738281\n",
            "13.884292602539062\n",
            "13.861515998840332\n",
            "13.838846206665039\n",
            "13.816279411315918\n",
            "13.793813705444336\n",
            "13.771406173706055\n",
            "13.749109268188477\n",
            "13.726910591125488\n",
            "13.704806327819824\n",
            "13.68281078338623\n",
            "13.660917282104492\n",
            "13.639124870300293\n",
            "13.617426872253418\n",
            "13.595823287963867\n",
            "13.57433032989502\n",
            "13.552885055541992\n",
            "13.531549453735352\n",
            "13.510307312011719\n",
            "13.489161491394043\n",
            "13.468113899230957\n",
            "13.447168350219727\n",
            "13.426305770874023\n",
            "13.405550003051758\n",
            "13.384882926940918\n",
            "13.364293098449707\n",
            "13.343778610229492\n",
            "13.3233642578125\n",
            "13.303051948547363\n",
            "13.282831192016602\n",
            "13.262700080871582\n",
            "13.242655754089355\n",
            "13.2227201461792\n",
            "13.202821731567383\n",
            "13.183036804199219\n",
            "13.163328170776367\n",
            "13.143712043762207\n",
            "13.124200820922852\n",
            "13.104774475097656\n",
            "13.085436820983887\n",
            "13.066157341003418\n",
            "13.046961784362793\n",
            "13.027857780456543\n",
            "13.008848190307617\n",
            "12.989927291870117\n",
            "12.971086502075195\n",
            "12.952314376831055\n",
            "12.933616638183594\n",
            "12.915014266967773\n",
            "12.896499633789062\n",
            "12.878068923950195\n",
            "12.859733581542969\n",
            "12.841438293457031\n",
            "12.823234558105469\n",
            "12.80511474609375\n",
            "12.787095069885254\n",
            "12.76914119720459\n",
            "12.751275062561035\n",
            "12.733474731445312\n",
            "12.715749740600586\n",
            "12.698111534118652\n",
            "12.680549621582031\n",
            "12.663077354431152\n",
            "12.645662307739258\n",
            "12.628318786621094\n",
            "12.611059188842773\n",
            "12.593896865844727\n",
            "12.576802253723145\n",
            "12.559751510620117\n",
            "12.542792320251465\n",
            "12.525909423828125\n",
            "12.509109497070312\n",
            "12.492396354675293\n",
            "12.475727081298828\n",
            "12.459139823913574\n",
            "12.442632675170898\n",
            "12.426203727722168\n",
            "12.409847259521484\n",
            "12.393552780151367\n",
            "12.377326011657715\n",
            "12.36117172241211\n",
            "12.345109939575195\n",
            "12.329092025756836\n",
            "12.313146591186523\n",
            "12.297280311584473\n",
            "12.281488418579102\n",
            "12.265776634216309\n",
            "12.250106811523438\n",
            "12.234521865844727\n",
            "12.219008445739746\n",
            "12.203573226928711\n",
            "12.188173294067383\n",
            "12.172858238220215\n",
            "12.157617568969727\n",
            "12.142446517944336\n",
            "12.127321243286133\n",
            "12.112260818481445\n",
            "12.097280502319336\n",
            "12.082387924194336\n",
            "12.067521095275879\n",
            "12.052736282348633\n",
            "12.038019180297852\n",
            "12.023388862609863\n",
            "12.008782386779785\n",
            "11.994256973266602\n",
            "11.979802131652832\n",
            "11.965417861938477\n",
            "11.951071739196777\n",
            "11.936800956726074\n",
            "11.922606468200684\n",
            "11.908478736877441\n",
            "11.894389152526855\n",
            "11.880367279052734\n",
            "11.866416931152344\n",
            "11.852508544921875\n",
            "11.838676452636719\n",
            "11.824899673461914\n",
            "11.811200141906738\n",
            "11.7975435256958\n",
            "11.783956527709961\n",
            "11.770421981811523\n",
            "11.756939888000488\n",
            "11.743523597717285\n",
            "11.730171203613281\n",
            "11.716889381408691\n",
            "11.703642845153809\n",
            "11.690465927124023\n",
            "11.677356719970703\n",
            "11.664286613464355\n",
            "11.651276588439941\n",
            "11.638337135314941\n",
            "11.625429153442383\n",
            "11.612594604492188\n",
            "11.599822998046875\n",
            "11.587116241455078\n",
            "11.574443817138672\n",
            "11.561840057373047\n",
            "11.54929256439209\n",
            "11.536795616149902\n",
            "11.524345397949219\n",
            "11.511972427368164\n",
            "11.499628067016602\n",
            "11.487350463867188\n",
            "11.475132942199707\n",
            "11.462955474853516\n",
            "11.45083236694336\n",
            "11.438776016235352\n",
            "11.426756858825684\n",
            "11.414795875549316\n",
            "11.402904510498047\n",
            "11.391036987304688\n",
            "11.379233360290527\n",
            "11.36749267578125\n",
            "11.355789184570312\n",
            "11.344141006469727\n",
            "11.332557678222656\n",
            "11.321003913879395\n",
            "11.309514045715332\n",
            "11.298079490661621\n",
            "11.286678314208984\n",
            "11.275341987609863\n",
            "11.264062881469727\n",
            "11.252813339233398\n",
            "11.241621017456055\n",
            "11.23049259185791\n",
            "11.219391822814941\n",
            "11.208356857299805\n",
            "11.19737434387207\n",
            "11.186418533325195\n",
            "11.175527572631836\n",
            "11.164692878723145\n",
            "11.15389347076416\n",
            "11.143145561218262\n",
            "11.132428169250488\n",
            "11.121770858764648\n",
            "11.111169815063477\n",
            "11.100602149963379\n",
            "11.090084075927734\n",
            "11.079620361328125\n",
            "11.069192886352539\n",
            "11.058818817138672\n",
            "11.048473358154297\n",
            "11.038179397583008\n",
            "11.02795124053955\n",
            "11.017745971679688\n",
            "11.007594108581543\n",
            "10.997492790222168\n",
            "10.98743724822998\n",
            "10.977421760559082\n",
            "10.967437744140625\n",
            "10.95750617980957\n",
            "10.947629928588867\n",
            "10.93778133392334\n",
            "10.927984237670898\n",
            "10.91822338104248\n",
            "10.908506393432617\n",
            "10.898852348327637\n",
            "10.889216423034668\n",
            "10.879631042480469\n",
            "10.870078086853027\n",
            "10.860578536987305\n",
            "10.851125717163086\n",
            "10.841707229614258\n",
            "10.832337379455566\n",
            "10.822993278503418\n",
            "10.813699722290039\n",
            "10.80445671081543\n",
            "10.795242309570312\n",
            "10.786073684692383\n",
            "10.776939392089844\n",
            "10.767849922180176\n",
            "10.758810043334961\n",
            "10.749801635742188\n",
            "10.74083137512207\n",
            "10.731897354125977\n",
            "10.723010063171387\n",
            "10.714171409606934\n",
            "10.70535659790039\n",
            "10.696592330932617\n",
            "10.687856674194336\n",
            "10.679168701171875\n",
            "10.67049789428711\n",
            "10.661882400512695\n",
            "10.653310775756836\n",
            "10.644766807556152\n",
            "10.636273384094238\n",
            "10.627801895141602\n",
            "10.619382858276367\n",
            "10.610973358154297\n",
            "10.602622032165527\n",
            "10.594293594360352\n",
            "10.586013793945312\n",
            "10.577776908874512\n",
            "10.569561958312988\n",
            "10.561396598815918\n",
            "10.553255081176758\n",
            "10.54515552520752\n",
            "10.53708553314209\n",
            "10.52906322479248\n",
            "10.521059036254883\n",
            "10.513092041015625\n",
            "10.505183219909668\n",
            "10.497289657592773\n",
            "10.489446640014648\n",
            "10.481618881225586\n",
            "10.473841667175293\n",
            "10.466080665588379\n",
            "10.458372116088867\n",
            "10.450681686401367\n",
            "10.443038940429688\n",
            "10.435415267944336\n",
            "10.42783260345459\n",
            "10.420276641845703\n",
            "10.412763595581055\n",
            "10.405293464660645\n",
            "10.397844314575195\n",
            "10.390432357788086\n",
            "10.383050918579102\n",
            "10.375707626342773\n",
            "10.368389129638672\n",
            "10.361112594604492\n",
            "10.353849411010742\n",
            "10.346632957458496\n",
            "10.339441299438477\n",
            "10.332281112670898\n",
            "10.325156211853027\n",
            "10.318063735961914\n",
            "10.310989379882812\n",
            "10.303964614868164\n",
            "10.296954154968262\n",
            "10.28998851776123\n",
            "10.283035278320312\n",
            "10.27612590789795\n",
            "10.26924991607666\n",
            "10.262393951416016\n",
            "10.255571365356445\n",
            "10.248785018920898\n",
            "10.24201774597168\n",
            "10.235292434692383\n",
            "10.228581428527832\n",
            "10.22191333770752\n",
            "10.215269088745117\n",
            "10.208666801452637\n",
            "10.202067375183105\n",
            "10.195513725280762\n",
            "10.188987731933594\n",
            "10.18249797821045\n",
            "10.176013946533203\n",
            "10.169581413269043\n",
            "10.163165092468262\n",
            "10.156789779663086\n",
            "10.150426864624023\n",
            "10.144105911254883\n",
            "10.137804985046387\n",
            "10.131542205810547\n",
            "10.125288009643555\n",
            "10.1190824508667\n",
            "10.112889289855957\n",
            "10.106738090515137\n",
            "10.100600242614746\n",
            "10.094503402709961\n",
            "10.088420867919922\n",
            "10.08237075805664\n",
            "10.076346397399902\n",
            "10.070356369018555\n",
            "10.06438159942627\n",
            "10.058445930480957\n",
            "10.052522659301758\n",
            "10.046639442443848\n",
            "10.040773391723633\n",
            "10.034942626953125\n",
            "10.029128074645996\n",
            "10.023332595825195\n",
            "10.01757526397705\n",
            "10.011828422546387\n",
            "10.006117820739746\n",
            "10.000428199768066\n",
            "9.994768142700195\n",
            "9.989127159118652\n",
            "9.983521461486816\n",
            "9.977926254272461\n",
            "9.972372055053711\n",
            "9.966832160949707\n",
            "9.961328506469727\n",
            "9.955835342407227\n",
            "9.950366020202637\n",
            "9.944921493530273\n",
            "9.93950366973877\n",
            "9.934114456176758\n",
            "9.928746223449707\n",
            "9.923402786254883\n",
            "9.918073654174805\n",
            "9.912786483764648\n",
            "9.907511711120605\n",
            "9.902264595031738\n",
            "9.897038459777832\n",
            "9.891825675964355\n",
            "9.886651992797852\n",
            "9.881481170654297\n"
          ]
        }
      ]
    },
    {
      "cell_type": "code",
      "source": [],
      "metadata": {
        "id": "3wJmEows85vv"
      },
      "execution_count": null,
      "outputs": []
    }
  ]
}