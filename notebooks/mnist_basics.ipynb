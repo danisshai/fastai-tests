{
  "nbformat": 4,
  "nbformat_minor": 0,
  "metadata": {
    "colab": {
      "provenance": [],
      "authorship_tag": "ABX9TyPy30qYNmJUyu2GCPCwxLEn",
      "include_colab_link": true
    },
    "kernelspec": {
      "name": "python3",
      "display_name": "Python 3"
    },
    "language_info": {
      "name": "python"
    }
  },
  "cells": [
    {
      "cell_type": "markdown",
      "metadata": {
        "id": "view-in-github",
        "colab_type": "text"
      },
      "source": [
        "<a href=\"https://colab.research.google.com/github/danisshai/fastai-tests/blob/main/notebooks/mnist_basics.ipynb\" target=\"_parent\"><img src=\"https://colab.research.google.com/assets/colab-badge.svg\" alt=\"Open In Colab\"/></a>"
      ]
    },
    {
      "cell_type": "code",
      "source": [
        "! [ -e /content ] && pip install -Uqq fastbook\n"
      ],
      "metadata": {
        "colab": {
          "base_uri": "https://localhost:8080/"
        },
        "id": "6ac6sEMSNtQn",
        "outputId": "885ccce4-9b71-4669-93ad-8e2902d21fea"
      },
      "execution_count": 4,
      "outputs": [
        {
          "output_type": "stream",
          "name": "stdout",
          "text": [
            "\u001b[2K     \u001b[90m━━━━━━━━━━━━━━━━━━━━━━━━━━━━━━━━━━━━━━\u001b[0m \u001b[32m719.8/719.8 kB\u001b[0m \u001b[31m15.3 MB/s\u001b[0m eta \u001b[36m0:00:00\u001b[0m\n",
            "\u001b[2K     \u001b[90m━━━━━━━━━━━━━━━━━━━━━━━━━━━━━━━━━━━━━━━━\u001b[0m \u001b[32m7.2/7.2 MB\u001b[0m \u001b[31m72.0 MB/s\u001b[0m eta \u001b[36m0:00:00\u001b[0m\n",
            "\u001b[2K     \u001b[90m━━━━━━━━━━━━━━━━━━━━━━━━━━━━━━━━━━━━━━\u001b[0m \u001b[32m485.6/485.6 kB\u001b[0m \u001b[31m34.9 MB/s\u001b[0m eta \u001b[36m0:00:00\u001b[0m\n",
            "\u001b[2K     \u001b[90m━━━━━━━━━━━━━━━━━━━━━━━━━━━━━━━━━━━━━━━━\u001b[0m \u001b[32m1.3/1.3 MB\u001b[0m \u001b[31m58.8 MB/s\u001b[0m eta \u001b[36m0:00:00\u001b[0m\n",
            "\u001b[2K     \u001b[90m━━━━━━━━━━━━━━━━━━━━━━━━━━━━━━━━━━━━━━━\u001b[0m \u001b[32m110.5/110.5 kB\u001b[0m \u001b[31m9.7 MB/s\u001b[0m eta \u001b[36m0:00:00\u001b[0m\n",
            "\u001b[2K     \u001b[90m━━━━━━━━━━━━━━━━━━━━━━━━━━━━━━━━━━━━━━\u001b[0m \u001b[32m212.5/212.5 kB\u001b[0m \u001b[31m19.0 MB/s\u001b[0m eta \u001b[36m0:00:00\u001b[0m\n",
            "\u001b[2K     \u001b[90m━━━━━━━━━━━━━━━━━━━━━━━━━━━━━━━━━━━━━━\u001b[0m \u001b[32m134.3/134.3 kB\u001b[0m \u001b[31m12.6 MB/s\u001b[0m eta \u001b[36m0:00:00\u001b[0m\n",
            "\u001b[2K     \u001b[90m━━━━━━━━━━━━━━━━━━━━━━━━━━━━━━━━━━━━━━━━\u001b[0m \u001b[32m1.0/1.0 MB\u001b[0m \u001b[31m58.0 MB/s\u001b[0m eta \u001b[36m0:00:00\u001b[0m\n",
            "\u001b[2K     \u001b[90m━━━━━━━━━━━━━━━━━━━━━━━━━━━━━━━━━━━━━━\u001b[0m \u001b[32m236.8/236.8 kB\u001b[0m \u001b[31m18.6 MB/s\u001b[0m eta \u001b[36m0:00:00\u001b[0m\n",
            "\u001b[2K     \u001b[90m━━━━━━━━━━━━━━━━━━━━━━━━━━━━━━━━━━━━━━━━\u001b[0m \u001b[32m7.8/7.8 MB\u001b[0m \u001b[31m100.1 MB/s\u001b[0m eta \u001b[36m0:00:00\u001b[0m\n",
            "\u001b[2K     \u001b[90m━━━━━━━━━━━━━━━━━━━━━━━━━━━━━━━━━━━━━━━━\u001b[0m \u001b[32m1.3/1.3 MB\u001b[0m \u001b[31m67.4 MB/s\u001b[0m eta \u001b[36m0:00:00\u001b[0m\n",
            "\u001b[2K     \u001b[90m━━━━━━━━━━━━━━━━━━━━━━━━━━━━━━━━━━━━━━\u001b[0m \u001b[32m114.5/114.5 kB\u001b[0m \u001b[31m14.3 MB/s\u001b[0m eta \u001b[36m0:00:00\u001b[0m\n",
            "\u001b[2K     \u001b[90m━━━━━━━━━━━━━━━━━━━━━━━━━━━━━━━━━━━━━━\u001b[0m \u001b[32m268.8/268.8 kB\u001b[0m \u001b[31m27.3 MB/s\u001b[0m eta \u001b[36m0:00:00\u001b[0m\n",
            "\u001b[2K     \u001b[90m━━━━━━━━━━━━━━━━━━━━━━━━━━━━━━━━━━━━━━\u001b[0m \u001b[32m149.6/149.6 kB\u001b[0m \u001b[31m14.6 MB/s\u001b[0m eta \u001b[36m0:00:00\u001b[0m\n",
            "\u001b[2K     \u001b[90m━━━━━━━━━━━━━━━━━━━━━━━━━━━━━━━━━━━━━━━━\u001b[0m \u001b[32m1.6/1.6 MB\u001b[0m \u001b[31m81.9 MB/s\u001b[0m eta \u001b[36m0:00:00\u001b[0m\n",
            "\u001b[?25h"
          ]
        }
      ]
    },
    {
      "cell_type": "code",
      "execution_count": 5,
      "metadata": {
        "id": "IHyntTjxNGJ5"
      },
      "outputs": [],
      "source": [
        "#hide\n",
        "from fastai.vision.all import *\n",
        "from fastbook import *\n",
        "\n",
        "matplotlib.rc('image', cmap='Greys')"
      ]
    },
    {
      "cell_type": "code",
      "source": [
        "path = untar_data(URLs.MNIST_SAMPLE)"
      ],
      "metadata": {
        "colab": {
          "base_uri": "https://localhost:8080/",
          "height": 37
        },
        "id": "uESOIVv4NYvZ",
        "outputId": "c4a24362-1073-42e7-e98b-b18ef9dd517b"
      },
      "execution_count": 6,
      "outputs": [
        {
          "output_type": "display_data",
          "data": {
            "text/plain": [
              "<IPython.core.display.HTML object>"
            ],
            "text/html": [
              "\n",
              "<style>\n",
              "    /* Turns off some styling */\n",
              "    progress {\n",
              "        /* gets rid of default border in Firefox and Opera. */\n",
              "        border: none;\n",
              "        /* Needs to be in here for Safari polyfill so background images work as expected. */\n",
              "        background-size: auto;\n",
              "    }\n",
              "    progress:not([value]), progress:not([value])::-webkit-progress-bar {\n",
              "        background: repeating-linear-gradient(45deg, #7e7e7e, #7e7e7e 10px, #5c5c5c 10px, #5c5c5c 20px);\n",
              "    }\n",
              "    .progress-bar-interrupted, .progress-bar-interrupted::-webkit-progress-bar {\n",
              "        background: #F44336;\n",
              "    }\n",
              "</style>\n"
            ]
          },
          "metadata": {}
        },
        {
          "output_type": "display_data",
          "data": {
            "text/plain": [
              "<IPython.core.display.HTML object>"
            ],
            "text/html": [
              "\n",
              "    <div>\n",
              "      <progress value='3219456' class='' max='3214948' style='width:300px; height:20px; vertical-align: middle;'></progress>\n",
              "      100.14% [3219456/3214948 00:00&lt;00:00]\n",
              "    </div>\n",
              "    "
            ]
          },
          "metadata": {}
        }
      ]
    },
    {
      "cell_type": "code",
      "source": [
        "threes = (path/'train'/'3').ls().sorted()\n",
        "sevens = (path/'train'/'7').ls().sorted()\n",
        "threes"
      ],
      "metadata": {
        "colab": {
          "base_uri": "https://localhost:8080/"
        },
        "id": "uZu5Rs5HN1kJ",
        "outputId": "5d407235-54fb-473f-e677-913419131e38"
      },
      "execution_count": 7,
      "outputs": [
        {
          "output_type": "execute_result",
          "data": {
            "text/plain": [
              "(#6131) [Path('/root/.fastai/data/mnist_sample/train/3/10.png'),Path('/root/.fastai/data/mnist_sample/train/3/10000.png'),Path('/root/.fastai/data/mnist_sample/train/3/10011.png'),Path('/root/.fastai/data/mnist_sample/train/3/10031.png'),Path('/root/.fastai/data/mnist_sample/train/3/10034.png'),Path('/root/.fastai/data/mnist_sample/train/3/10042.png'),Path('/root/.fastai/data/mnist_sample/train/3/10052.png'),Path('/root/.fastai/data/mnist_sample/train/3/1007.png'),Path('/root/.fastai/data/mnist_sample/train/3/10074.png'),Path('/root/.fastai/data/mnist_sample/train/3/10091.png')...]"
            ]
          },
          "metadata": {},
          "execution_count": 7
        }
      ]
    },
    {
      "cell_type": "code",
      "source": [
        "im3_path = threes[1000]\n",
        "im3 = Image.open(im3_path)\n",
        "im3"
      ],
      "metadata": {
        "colab": {
          "base_uri": "https://localhost:8080/",
          "height": 45
        },
        "id": "eMasvnraONpS",
        "outputId": "f4411da0-8cd9-4025-a018-6623ddd5b4cb"
      },
      "execution_count": 8,
      "outputs": [
        {
          "output_type": "execute_result",
          "data": {
            "text/plain": [
              "<PIL.PngImagePlugin.PngImageFile image mode=L size=28x28>"
            ],
            "image/png": "[encoded data removed]"
          },
          "metadata": {},
          "execution_count": 8
        }
      ]
    },
    {
      "cell_type": "code",
      "source": [
        "tensor(im3)[:10,10:11]"
      ],
      "metadata": {
        "colab": {
          "base_uri": "https://localhost:8080/"
        },
        "id": "e2IGSvFgOOt9",
        "outputId": "287615c0-3587-4510-f6a0-f55029943f1f"
      },
      "execution_count": 9,
      "outputs": [
        {
          "output_type": "execute_result",
          "data": {
            "text/plain": [
              "tensor([[  0],\n",
              "        [  0],\n",
              "        [  0],\n",
              "        [ 19],\n",
              "        [226],\n",
              "        [253],\n",
              "        [183],\n",
              "        [  0],\n",
              "        [  0],\n",
              "        [  0]], dtype=torch.uint8)"
            ]
          },
          "metadata": {},
          "execution_count": 9
        }
      ]
    },
    {
      "cell_type": "code",
      "source": [
        "#hide_output\n",
        "im3_t = tensor(im3)\n",
        "df = pd.DataFrame(im3_t[4:15,4:22])\n",
        "df.style.set_properties(**{'font-size':'6pt', 'font-style': 'italic'}).background_gradient('Greys')"
      ],
      "metadata": {
        "colab": {
          "base_uri": "https://localhost:8080/",
          "height": 394
        },
        "id": "-Su6v9DNOPxv",
        "outputId": "bcc7695c-e3de-4673-93d1-8cf0aabf1bde"
      },
      "execution_count": 10,
      "outputs": [
        {
          "output_type": "execute_result",
          "data": {
            "text/plain": [
              "<pandas.io.formats.style.Styler at 0x7f68a133b1c0>"
            ],
            "text/html": [
              "<style type=\"text/css\">\n",
              "#T_64e8c_row0_col0, #T_64e8c_row0_col1, #T_64e8c_row0_col2, #T_64e8c_row0_col3, #T_64e8c_row0_col14, #T_64e8c_row0_col15, #T_64e8c_row0_col16, #T_64e8c_row0_col17, #T_64e8c_row1_col0, #T_64e8c_row1_col1, #T_64e8c_row1_col2, #T_64e8c_row1_col3, #T_64e8c_row1_col15, #T_64e8c_row1_col16, #T_64e8c_row1_col17, #T_64e8c_row2_col0, #T_64e8c_row2_col1, #T_64e8c_row2_col2, #T_64e8c_row2_col3, #T_64e8c_row2_col10, #T_64e8c_row2_col15, #T_64e8c_row2_col16, #T_64e8c_row2_col17, #T_64e8c_row3_col0, #T_64e8c_row3_col1, #T_64e8c_row3_col2, #T_64e8c_row3_col3, #T_64e8c_row3_col6, #T_64e8c_row3_col7, #T_64e8c_row3_col8, #T_64e8c_row3_col9, #T_64e8c_row3_col10, #T_64e8c_row3_col11, #T_64e8c_row3_col15, #T_64e8c_row3_col16, #T_64e8c_row3_col17, #T_64e8c_row4_col0, #T_64e8c_row4_col1, #T_64e8c_row4_col2, #T_64e8c_row4_col3, #T_64e8c_row4_col4, #T_64e8c_row4_col5, #T_64e8c_row4_col6, #T_64e8c_row4_col7, #T_64e8c_row4_col8, #T_64e8c_row4_col9, #T_64e8c_row4_col10, #T_64e8c_row4_col11, #T_64e8c_row4_col15, #T_64e8c_row4_col16, #T_64e8c_row4_col17, #T_64e8c_row5_col0, #T_64e8c_row5_col1, #T_64e8c_row5_col2, #T_64e8c_row5_col3, #T_64e8c_row5_col4, #T_64e8c_row5_col5, #T_64e8c_row5_col6, #T_64e8c_row5_col7, #T_64e8c_row5_col8, #T_64e8c_row5_col9, #T_64e8c_row5_col10, #T_64e8c_row5_col15, #T_64e8c_row5_col16, #T_64e8c_row5_col17, #T_64e8c_row6_col0, #T_64e8c_row6_col1, #T_64e8c_row6_col2, #T_64e8c_row6_col3, #T_64e8c_row6_col4, #T_64e8c_row6_col5, #T_64e8c_row6_col15, #T_64e8c_row6_col16, #T_64e8c_row6_col17, #T_64e8c_row7_col0, #T_64e8c_row7_col1, #T_64e8c_row7_col2, #T_64e8c_row7_col3, #T_64e8c_row7_col15, #T_64e8c_row7_col16, #T_64e8c_row7_col17, #T_64e8c_row8_col0, #T_64e8c_row8_col1, #T_64e8c_row8_col2, #T_64e8c_row8_col3, #T_64e8c_row8_col16, #T_64e8c_row8_col17, #T_64e8c_row9_col0, #T_64e8c_row9_col1, #T_64e8c_row9_col2, #T_64e8c_row9_col3, #T_64e8c_row9_col11, #T_64e8c_row9_col17, #T_64e8c_row10_col0, #T_64e8c_row10_col1, #T_64e8c_row10_col2, #T_64e8c_row10_col3, #T_64e8c_row10_col4, #T_64e8c_row10_col5, #T_64e8c_row10_col6, #T_64e8c_row10_col7, #T_64e8c_row10_col8, #T_64e8c_row10_col9, #T_64e8c_row10_col10, #T_64e8c_row10_col11, #T_64e8c_row10_col12, #T_64e8c_row10_col13 {\n",
              "  font-size: 6pt;\n",
              "  font-style: italic;\n",
              "  background-color: #ffffff;\n",
              "  color: #000000;\n",
              "}\n",
              "#T_64e8c_row0_col4 {\n",
              "  font-size: 6pt;\n",
              "  font-style: italic;\n",
              "  background-color: #878787;\n",
              "  color: #f1f1f1;\n",
              "}\n",
              "#T_64e8c_row0_col5 {\n",
              "  font-size: 6pt;\n",
              "  font-style: italic;\n",
              "  background-color: #5f5f5f;\n",
              "  color: #f1f1f1;\n",
              "}\n",
              "#T_64e8c_row0_col6 {\n",
              "  font-size: 6pt;\n",
              "  font-style: italic;\n",
              "  background-color: #1f1f1f;\n",
              "  color: #f1f1f1;\n",
              "}\n",
              "#T_64e8c_row0_col7, #T_64e8c_row0_col8, #T_64e8c_row0_col9, #T_64e8c_row0_col10, #T_64e8c_row0_col11, #T_64e8c_row1_col4, #T_64e8c_row1_col5, #T_64e8c_row1_col6, #T_64e8c_row1_col7, #T_64e8c_row1_col8, #T_64e8c_row1_col12, #T_64e8c_row4_col13, #T_64e8c_row6_col12, #T_64e8c_row7_col7, #T_64e8c_row7_col8, #T_64e8c_row7_col9, #T_64e8c_row7_col10, #T_64e8c_row7_col11, #T_64e8c_row7_col12, #T_64e8c_row8_col5, #T_64e8c_row8_col6, #T_64e8c_row8_col7, #T_64e8c_row8_col8, #T_64e8c_row8_col9, #T_64e8c_row8_col12, #T_64e8c_row9_col14, #T_64e8c_row10_col15, #T_64e8c_row10_col16, #T_64e8c_row10_col17 {\n",
              "  font-size: 6pt;\n",
              "  font-style: italic;\n",
              "  background-color: #000000;\n",
              "  color: #f1f1f1;\n",
              "}\n",
              "#T_64e8c_row0_col12 {\n",
              "  font-size: 6pt;\n",
              "  font-style: italic;\n",
              "  background-color: #070707;\n",
              "  color: #f1f1f1;\n",
              "}\n",
              "#T_64e8c_row0_col13 {\n",
              "  font-size: 6pt;\n",
              "  font-style: italic;\n",
              "  background-color: #e6e6e6;\n",
              "  color: #000000;\n",
              "}\n",
              "#T_64e8c_row1_col9 {\n",
              "  font-size: 6pt;\n",
              "  font-style: italic;\n",
              "  background-color: #3d3d3d;\n",
              "  color: #f1f1f1;\n",
              "}\n",
              "#T_64e8c_row1_col10 {\n",
              "  font-size: 6pt;\n",
              "  font-style: italic;\n",
              "  background-color: #626262;\n",
              "  color: #f1f1f1;\n",
              "}\n",
              "#T_64e8c_row1_col11, #T_64e8c_row6_col11 {\n",
              "  font-size: 6pt;\n",
              "  font-style: italic;\n",
              "  background-color: #1c1c1c;\n",
              "  color: #f1f1f1;\n",
              "}\n",
              "#T_64e8c_row1_col13, #T_64e8c_row2_col13, #T_64e8c_row3_col13, #T_64e8c_row5_col13, #T_64e8c_row6_col13, #T_64e8c_row7_col13, #T_64e8c_row8_col13 {\n",
              "  font-size: 6pt;\n",
              "  font-style: italic;\n",
              "  background-color: #010101;\n",
              "  color: #f1f1f1;\n",
              "}\n",
              "#T_64e8c_row1_col14, #T_64e8c_row3_col5 {\n",
              "  font-size: 6pt;\n",
              "  font-style: italic;\n",
              "  background-color: #f0f0f0;\n",
              "  color: #000000;\n",
              "}\n",
              "#T_64e8c_row2_col4 {\n",
              "  font-size: 6pt;\n",
              "  font-style: italic;\n",
              "  background-color: #6e6e6e;\n",
              "  color: #f1f1f1;\n",
              "}\n",
              "#T_64e8c_row2_col5, #T_64e8c_row9_col13 {\n",
              "  font-size: 6pt;\n",
              "  font-style: italic;\n",
              "  background-color: #161616;\n",
              "  color: #f1f1f1;\n",
              "}\n",
              "#T_64e8c_row2_col6 {\n",
              "  font-size: 6pt;\n",
              "  font-style: italic;\n",
              "  background-color: #585858;\n",
              "  color: #f1f1f1;\n",
              "}\n",
              "#T_64e8c_row2_col7 {\n",
              "  font-size: 6pt;\n",
              "  font-style: italic;\n",
              "  background-color: #b4b4b4;\n",
              "  color: #000000;\n",
              "}\n",
              "#T_64e8c_row2_col8 {\n",
              "  font-size: 6pt;\n",
              "  font-style: italic;\n",
              "  background-color: #f6f6f6;\n",
              "  color: #000000;\n",
              "}\n",
              "#T_64e8c_row2_col9 {\n",
              "  font-size: 6pt;\n",
              "  font-style: italic;\n",
              "  background-color: #fbfbfb;\n",
              "  color: #000000;\n",
              "}\n",
              "#T_64e8c_row2_col11 {\n",
              "  font-size: 6pt;\n",
              "  font-style: italic;\n",
              "  background-color: #f9f9f9;\n",
              "  color: #000000;\n",
              "}\n",
              "#T_64e8c_row2_col12 {\n",
              "  font-size: 6pt;\n",
              "  font-style: italic;\n",
              "  background-color: #272727;\n",
              "  color: #f1f1f1;\n",
              "}\n",
              "#T_64e8c_row2_col14 {\n",
              "  font-size: 6pt;\n",
              "  font-style: italic;\n",
              "  background-color: #555555;\n",
              "  color: #f1f1f1;\n",
              "}\n",
              "#T_64e8c_row3_col4 {\n",
              "  font-size: 6pt;\n",
              "  font-style: italic;\n",
              "  background-color: #ededed;\n",
              "  color: #000000;\n",
              "}\n",
              "#T_64e8c_row3_col12 {\n",
              "  font-size: 6pt;\n",
              "  font-style: italic;\n",
              "  background-color: #8c8c8c;\n",
              "  color: #f1f1f1;\n",
              "}\n",
              "#T_64e8c_row3_col14, #T_64e8c_row5_col14, #T_64e8c_row8_col14 {\n",
              "  font-size: 6pt;\n",
              "  font-style: italic;\n",
              "  background-color: #4d4d4d;\n",
              "  color: #f1f1f1;\n",
              "}\n",
              "#T_64e8c_row4_col12 {\n",
              "  font-size: 6pt;\n",
              "  font-style: italic;\n",
              "  background-color: #8a8a8a;\n",
              "  color: #f1f1f1;\n",
              "}\n",
              "#T_64e8c_row4_col14 {\n",
              "  font-size: 6pt;\n",
              "  font-style: italic;\n",
              "  background-color: #4b4b4b;\n",
              "  color: #f1f1f1;\n",
              "}\n",
              "#T_64e8c_row5_col11 {\n",
              "  font-size: 6pt;\n",
              "  font-style: italic;\n",
              "  background-color: #e7e7e7;\n",
              "  color: #000000;\n",
              "}\n",
              "#T_64e8c_row5_col12 {\n",
              "  font-size: 6pt;\n",
              "  font-style: italic;\n",
              "  background-color: #1d1d1d;\n",
              "  color: #f1f1f1;\n",
              "}\n",
              "#T_64e8c_row6_col6 {\n",
              "  font-size: 6pt;\n",
              "  font-style: italic;\n",
              "  background-color: #f3f3f3;\n",
              "  color: #000000;\n",
              "}\n",
              "#T_64e8c_row6_col7, #T_64e8c_row6_col8, #T_64e8c_row6_col9 {\n",
              "  font-size: 6pt;\n",
              "  font-style: italic;\n",
              "  background-color: #cccccc;\n",
              "  color: #000000;\n",
              "}\n",
              "#T_64e8c_row6_col10 {\n",
              "  font-size: 6pt;\n",
              "  font-style: italic;\n",
              "  background-color: #999999;\n",
              "  color: #f1f1f1;\n",
              "}\n",
              "#T_64e8c_row6_col14 {\n",
              "  font-size: 6pt;\n",
              "  font-style: italic;\n",
              "  background-color: #959595;\n",
              "  color: #f1f1f1;\n",
              "}\n",
              "#T_64e8c_row7_col4 {\n",
              "  font-size: 6pt;\n",
              "  font-style: italic;\n",
              "  background-color: #e5e5e5;\n",
              "  color: #000000;\n",
              "}\n",
              "#T_64e8c_row7_col5 {\n",
              "  font-size: 6pt;\n",
              "  font-style: italic;\n",
              "  background-color: #5a5a5a;\n",
              "  color: #f1f1f1;\n",
              "}\n",
              "#T_64e8c_row7_col6 {\n",
              "  font-size: 6pt;\n",
              "  font-style: italic;\n",
              "  background-color: #0f0f0f;\n",
              "  color: #f1f1f1;\n",
              "}\n",
              "#T_64e8c_row7_col14 {\n",
              "  font-size: 6pt;\n",
              "  font-style: italic;\n",
              "  background-color: #f4f4f4;\n",
              "  color: #000000;\n",
              "}\n",
              "#T_64e8c_row8_col4 {\n",
              "  font-size: 6pt;\n",
              "  font-style: italic;\n",
              "  background-color: #767676;\n",
              "  color: #f1f1f1;\n",
              "}\n",
              "#T_64e8c_row8_col10 {\n",
              "  font-size: 6pt;\n",
              "  font-style: italic;\n",
              "  background-color: #090909;\n",
              "  color: #f1f1f1;\n",
              "}\n",
              "#T_64e8c_row8_col11 {\n",
              "  font-size: 6pt;\n",
              "  font-style: italic;\n",
              "  background-color: #232323;\n",
              "  color: #f1f1f1;\n",
              "}\n",
              "#T_64e8c_row8_col15 {\n",
              "  font-size: 6pt;\n",
              "  font-style: italic;\n",
              "  background-color: #e1e1e1;\n",
              "  color: #000000;\n",
              "}\n",
              "#T_64e8c_row9_col4 {\n",
              "  font-size: 6pt;\n",
              "  font-style: italic;\n",
              "  background-color: #dbdbdb;\n",
              "  color: #000000;\n",
              "}\n",
              "#T_64e8c_row9_col5 {\n",
              "  font-size: 6pt;\n",
              "  font-style: italic;\n",
              "  background-color: #636363;\n",
              "  color: #f1f1f1;\n",
              "}\n",
              "#T_64e8c_row9_col6, #T_64e8c_row9_col7, #T_64e8c_row9_col8, #T_64e8c_row9_col9 {\n",
              "  font-size: 6pt;\n",
              "  font-style: italic;\n",
              "  background-color: #b9b9b9;\n",
              "  color: #000000;\n",
              "}\n",
              "#T_64e8c_row9_col10 {\n",
              "  font-size: 6pt;\n",
              "  font-style: italic;\n",
              "  background-color: #f8f8f8;\n",
              "  color: #000000;\n",
              "}\n",
              "#T_64e8c_row9_col12 {\n",
              "  font-size: 6pt;\n",
              "  font-style: italic;\n",
              "  background-color: #d5d5d5;\n",
              "  color: #000000;\n",
              "}\n",
              "#T_64e8c_row9_col15 {\n",
              "  font-size: 6pt;\n",
              "  font-style: italic;\n",
              "  background-color: #111111;\n",
              "  color: #f1f1f1;\n",
              "}\n",
              "#T_64e8c_row9_col16 {\n",
              "  font-size: 6pt;\n",
              "  font-style: italic;\n",
              "  background-color: #e4e4e4;\n",
              "  color: #000000;\n",
              "}\n",
              "#T_64e8c_row10_col14 {\n",
              "  font-size: 6pt;\n",
              "  font-style: italic;\n",
              "  background-color: #0a0a0a;\n",
              "  color: #f1f1f1;\n",
              "}\n",
              "</style>\n",
              "<table id=\"T_64e8c\" class=\"dataframe\">\n",
              "  <thead>\n",
              "    <tr>\n",
              "      <th class=\"blank level0\" >&nbsp;</th>\n",
              "      <th id=\"T_64e8c_level0_col0\" class=\"col_heading level0 col0\" >0</th>\n",
              "      <th id=\"T_64e8c_level0_col1\" class=\"col_heading level0 col1\" >1</th>\n",
              "      <th id=\"T_64e8c_level0_col2\" class=\"col_heading level0 col2\" >2</th>\n",
              "      <th id=\"T_64e8c_level0_col3\" class=\"col_heading level0 col3\" >3</th>\n",
              "      <th id=\"T_64e8c_level0_col4\" class=\"col_heading level0 col4\" >4</th>\n",
              "      <th id=\"T_64e8c_level0_col5\" class=\"col_heading level0 col5\" >5</th>\n",
              "      <th id=\"T_64e8c_level0_col6\" class=\"col_heading level0 col6\" >6</th>\n",
              "      <th id=\"T_64e8c_level0_col7\" class=\"col_heading level0 col7\" >7</th>\n",
              "      <th id=\"T_64e8c_level0_col8\" class=\"col_heading level0 col8\" >8</th>\n",
              "      <th id=\"T_64e8c_level0_col9\" class=\"col_heading level0 col9\" >9</th>\n",
              "      <th id=\"T_64e8c_level0_col10\" class=\"col_heading level0 col10\" >10</th>\n",
              "      <th id=\"T_64e8c_level0_col11\" class=\"col_heading level0 col11\" >11</th>\n",
              "      <th id=\"T_64e8c_level0_col12\" class=\"col_heading level0 col12\" >12</th>\n",
              "      <th id=\"T_64e8c_level0_col13\" class=\"col_heading level0 col13\" >13</th>\n",
              "      <th id=\"T_64e8c_level0_col14\" class=\"col_heading level0 col14\" >14</th>\n",
              "      <th id=\"T_64e8c_level0_col15\" class=\"col_heading level0 col15\" >15</th>\n",
              "      <th id=\"T_64e8c_level0_col16\" class=\"col_heading level0 col16\" >16</th>\n",
              "      <th id=\"T_64e8c_level0_col17\" class=\"col_heading level0 col17\" >17</th>\n",
              "    </tr>\n",
              "  </thead>\n",
              "  <tbody>\n",
              "    <tr>\n",
              "      <th id=\"T_64e8c_level0_row0\" class=\"row_heading level0 row0\" >0</th>\n",
              "      <td id=\"T_64e8c_row0_col0\" class=\"data row0 col0\" >0</td>\n",
              "      <td id=\"T_64e8c_row0_col1\" class=\"data row0 col1\" >0</td>\n",
              "      <td id=\"T_64e8c_row0_col2\" class=\"data row0 col2\" >0</td>\n",
              "      <td id=\"T_64e8c_row0_col3\" class=\"data row0 col3\" >0</td>\n",
              "      <td id=\"T_64e8c_row0_col4\" class=\"data row0 col4\" >140</td>\n",
              "      <td id=\"T_64e8c_row0_col5\" class=\"data row0 col5\" >177</td>\n",
              "      <td id=\"T_64e8c_row0_col6\" class=\"data row0 col6\" >226</td>\n",
              "      <td id=\"T_64e8c_row0_col7\" class=\"data row0 col7\" >253</td>\n",
              "      <td id=\"T_64e8c_row0_col8\" class=\"data row0 col8\" >253</td>\n",
              "      <td id=\"T_64e8c_row0_col9\" class=\"data row0 col9\" >254</td>\n",
              "      <td id=\"T_64e8c_row0_col10\" class=\"data row0 col10\" >253</td>\n",
              "      <td id=\"T_64e8c_row0_col11\" class=\"data row0 col11\" >253</td>\n",
              "      <td id=\"T_64e8c_row0_col12\" class=\"data row0 col12\" >247</td>\n",
              "      <td id=\"T_64e8c_row0_col13\" class=\"data row0 col13\" >102</td>\n",
              "      <td id=\"T_64e8c_row0_col14\" class=\"data row0 col14\" >0</td>\n",
              "      <td id=\"T_64e8c_row0_col15\" class=\"data row0 col15\" >0</td>\n",
              "      <td id=\"T_64e8c_row0_col16\" class=\"data row0 col16\" >0</td>\n",
              "      <td id=\"T_64e8c_row0_col17\" class=\"data row0 col17\" >0</td>\n",
              "    </tr>\n",
              "    <tr>\n",
              "      <th id=\"T_64e8c_level0_row1\" class=\"row_heading level0 row1\" >1</th>\n",
              "      <td id=\"T_64e8c_row1_col0\" class=\"data row1 col0\" >0</td>\n",
              "      <td id=\"T_64e8c_row1_col1\" class=\"data row1 col1\" >0</td>\n",
              "      <td id=\"T_64e8c_row1_col2\" class=\"data row1 col2\" >0</td>\n",
              "      <td id=\"T_64e8c_row1_col3\" class=\"data row1 col3\" >0</td>\n",
              "      <td id=\"T_64e8c_row1_col4\" class=\"data row1 col4\" >254</td>\n",
              "      <td id=\"T_64e8c_row1_col5\" class=\"data row1 col5\" >253</td>\n",
              "      <td id=\"T_64e8c_row1_col6\" class=\"data row1 col6\" >253</td>\n",
              "      <td id=\"T_64e8c_row1_col7\" class=\"data row1 col7\" >253</td>\n",
              "      <td id=\"T_64e8c_row1_col8\" class=\"data row1 col8\" >253</td>\n",
              "      <td id=\"T_64e8c_row1_col9\" class=\"data row1 col9\" >205</td>\n",
              "      <td id=\"T_64e8c_row1_col10\" class=\"data row1 col10\" >174</td>\n",
              "      <td id=\"T_64e8c_row1_col11\" class=\"data row1 col11\" >229</td>\n",
              "      <td id=\"T_64e8c_row1_col12\" class=\"data row1 col12\" >253</td>\n",
              "      <td id=\"T_64e8c_row1_col13\" class=\"data row1 col13\" >253</td>\n",
              "      <td id=\"T_64e8c_row1_col14\" class=\"data row1 col14\" >31</td>\n",
              "      <td id=\"T_64e8c_row1_col15\" class=\"data row1 col15\" >0</td>\n",
              "      <td id=\"T_64e8c_row1_col16\" class=\"data row1 col16\" >0</td>\n",
              "      <td id=\"T_64e8c_row1_col17\" class=\"data row1 col17\" >0</td>\n",
              "    </tr>\n",
              "    <tr>\n",
              "      <th id=\"T_64e8c_level0_row2\" class=\"row_heading level0 row2\" >2</th>\n",
              "      <td id=\"T_64e8c_row2_col0\" class=\"data row2 col0\" >0</td>\n",
              "      <td id=\"T_64e8c_row2_col1\" class=\"data row2 col1\" >0</td>\n",
              "      <td id=\"T_64e8c_row2_col2\" class=\"data row2 col2\" >0</td>\n",
              "      <td id=\"T_64e8c_row2_col3\" class=\"data row2 col3\" >0</td>\n",
              "      <td id=\"T_64e8c_row2_col4\" class=\"data row2 col4\" >163</td>\n",
              "      <td id=\"T_64e8c_row2_col5\" class=\"data row2 col5\" >234</td>\n",
              "      <td id=\"T_64e8c_row2_col6\" class=\"data row2 col6\" >183</td>\n",
              "      <td id=\"T_64e8c_row2_col7\" class=\"data row2 col7\" >102</td>\n",
              "      <td id=\"T_64e8c_row2_col8\" class=\"data row2 col8\" >19</td>\n",
              "      <td id=\"T_64e8c_row2_col9\" class=\"data row2 col9\" >8</td>\n",
              "      <td id=\"T_64e8c_row2_col10\" class=\"data row2 col10\" >0</td>\n",
              "      <td id=\"T_64e8c_row2_col11\" class=\"data row2 col11\" >13</td>\n",
              "      <td id=\"T_64e8c_row2_col12\" class=\"data row2 col12\" >220</td>\n",
              "      <td id=\"T_64e8c_row2_col13\" class=\"data row2 col13\" >253</td>\n",
              "      <td id=\"T_64e8c_row2_col14\" class=\"data row2 col14\" >188</td>\n",
              "      <td id=\"T_64e8c_row2_col15\" class=\"data row2 col15\" >0</td>\n",
              "      <td id=\"T_64e8c_row2_col16\" class=\"data row2 col16\" >0</td>\n",
              "      <td id=\"T_64e8c_row2_col17\" class=\"data row2 col17\" >0</td>\n",
              "    </tr>\n",
              "    <tr>\n",
              "      <th id=\"T_64e8c_level0_row3\" class=\"row_heading level0 row3\" >3</th>\n",
              "      <td id=\"T_64e8c_row3_col0\" class=\"data row3 col0\" >0</td>\n",
              "      <td id=\"T_64e8c_row3_col1\" class=\"data row3 col1\" >0</td>\n",
              "      <td id=\"T_64e8c_row3_col2\" class=\"data row3 col2\" >0</td>\n",
              "      <td id=\"T_64e8c_row3_col3\" class=\"data row3 col3\" >0</td>\n",
              "      <td id=\"T_64e8c_row3_col4\" class=\"data row3 col4\" >36</td>\n",
              "      <td id=\"T_64e8c_row3_col5\" class=\"data row3 col5\" >31</td>\n",
              "      <td id=\"T_64e8c_row3_col6\" class=\"data row3 col6\" >0</td>\n",
              "      <td id=\"T_64e8c_row3_col7\" class=\"data row3 col7\" >0</td>\n",
              "      <td id=\"T_64e8c_row3_col8\" class=\"data row3 col8\" >0</td>\n",
              "      <td id=\"T_64e8c_row3_col9\" class=\"data row3 col9\" >0</td>\n",
              "      <td id=\"T_64e8c_row3_col10\" class=\"data row3 col10\" >0</td>\n",
              "      <td id=\"T_64e8c_row3_col11\" class=\"data row3 col11\" >0</td>\n",
              "      <td id=\"T_64e8c_row3_col12\" class=\"data row3 col12\" >136</td>\n",
              "      <td id=\"T_64e8c_row3_col13\" class=\"data row3 col13\" >253</td>\n",
              "      <td id=\"T_64e8c_row3_col14\" class=\"data row3 col14\" >195</td>\n",
              "      <td id=\"T_64e8c_row3_col15\" class=\"data row3 col15\" >0</td>\n",
              "      <td id=\"T_64e8c_row3_col16\" class=\"data row3 col16\" >0</td>\n",
              "      <td id=\"T_64e8c_row3_col17\" class=\"data row3 col17\" >0</td>\n",
              "    </tr>\n",
              "    <tr>\n",
              "      <th id=\"T_64e8c_level0_row4\" class=\"row_heading level0 row4\" >4</th>\n",
              "      <td id=\"T_64e8c_row4_col0\" class=\"data row4 col0\" >0</td>\n",
              "      <td id=\"T_64e8c_row4_col1\" class=\"data row4 col1\" >0</td>\n",
              "      <td id=\"T_64e8c_row4_col2\" class=\"data row4 col2\" >0</td>\n",
              "      <td id=\"T_64e8c_row4_col3\" class=\"data row4 col3\" >0</td>\n",
              "      <td id=\"T_64e8c_row4_col4\" class=\"data row4 col4\" >0</td>\n",
              "      <td id=\"T_64e8c_row4_col5\" class=\"data row4 col5\" >0</td>\n",
              "      <td id=\"T_64e8c_row4_col6\" class=\"data row4 col6\" >0</td>\n",
              "      <td id=\"T_64e8c_row4_col7\" class=\"data row4 col7\" >0</td>\n",
              "      <td id=\"T_64e8c_row4_col8\" class=\"data row4 col8\" >0</td>\n",
              "      <td id=\"T_64e8c_row4_col9\" class=\"data row4 col9\" >0</td>\n",
              "      <td id=\"T_64e8c_row4_col10\" class=\"data row4 col10\" >0</td>\n",
              "      <td id=\"T_64e8c_row4_col11\" class=\"data row4 col11\" >0</td>\n",
              "      <td id=\"T_64e8c_row4_col12\" class=\"data row4 col12\" >137</td>\n",
              "      <td id=\"T_64e8c_row4_col13\" class=\"data row4 col13\" >254</td>\n",
              "      <td id=\"T_64e8c_row4_col14\" class=\"data row4 col14\" >196</td>\n",
              "      <td id=\"T_64e8c_row4_col15\" class=\"data row4 col15\" >0</td>\n",
              "      <td id=\"T_64e8c_row4_col16\" class=\"data row4 col16\" >0</td>\n",
              "      <td id=\"T_64e8c_row4_col17\" class=\"data row4 col17\" >0</td>\n",
              "    </tr>\n",
              "    <tr>\n",
              "      <th id=\"T_64e8c_level0_row5\" class=\"row_heading level0 row5\" >5</th>\n",
              "      <td id=\"T_64e8c_row5_col0\" class=\"data row5 col0\" >0</td>\n",
              "      <td id=\"T_64e8c_row5_col1\" class=\"data row5 col1\" >0</td>\n",
              "      <td id=\"T_64e8c_row5_col2\" class=\"data row5 col2\" >0</td>\n",
              "      <td id=\"T_64e8c_row5_col3\" class=\"data row5 col3\" >0</td>\n",
              "      <td id=\"T_64e8c_row5_col4\" class=\"data row5 col4\" >0</td>\n",
              "      <td id=\"T_64e8c_row5_col5\" class=\"data row5 col5\" >0</td>\n",
              "      <td id=\"T_64e8c_row5_col6\" class=\"data row5 col6\" >0</td>\n",
              "      <td id=\"T_64e8c_row5_col7\" class=\"data row5 col7\" >0</td>\n",
              "      <td id=\"T_64e8c_row5_col8\" class=\"data row5 col8\" >0</td>\n",
              "      <td id=\"T_64e8c_row5_col9\" class=\"data row5 col9\" >0</td>\n",
              "      <td id=\"T_64e8c_row5_col10\" class=\"data row5 col10\" >0</td>\n",
              "      <td id=\"T_64e8c_row5_col11\" class=\"data row5 col11\" >44</td>\n",
              "      <td id=\"T_64e8c_row5_col12\" class=\"data row5 col12\" >228</td>\n",
              "      <td id=\"T_64e8c_row5_col13\" class=\"data row5 col13\" >253</td>\n",
              "      <td id=\"T_64e8c_row5_col14\" class=\"data row5 col14\" >195</td>\n",
              "      <td id=\"T_64e8c_row5_col15\" class=\"data row5 col15\" >0</td>\n",
              "      <td id=\"T_64e8c_row5_col16\" class=\"data row5 col16\" >0</td>\n",
              "      <td id=\"T_64e8c_row5_col17\" class=\"data row5 col17\" >0</td>\n",
              "    </tr>\n",
              "    <tr>\n",
              "      <th id=\"T_64e8c_level0_row6\" class=\"row_heading level0 row6\" >6</th>\n",
              "      <td id=\"T_64e8c_row6_col0\" class=\"data row6 col0\" >0</td>\n",
              "      <td id=\"T_64e8c_row6_col1\" class=\"data row6 col1\" >0</td>\n",
              "      <td id=\"T_64e8c_row6_col2\" class=\"data row6 col2\" >0</td>\n",
              "      <td id=\"T_64e8c_row6_col3\" class=\"data row6 col3\" >0</td>\n",
              "      <td id=\"T_64e8c_row6_col4\" class=\"data row6 col4\" >0</td>\n",
              "      <td id=\"T_64e8c_row6_col5\" class=\"data row6 col5\" >0</td>\n",
              "      <td id=\"T_64e8c_row6_col6\" class=\"data row6 col6\" >25</td>\n",
              "      <td id=\"T_64e8c_row6_col7\" class=\"data row6 col7\" >79</td>\n",
              "      <td id=\"T_64e8c_row6_col8\" class=\"data row6 col8\" >79</td>\n",
              "      <td id=\"T_64e8c_row6_col9\" class=\"data row6 col9\" >79</td>\n",
              "      <td id=\"T_64e8c_row6_col10\" class=\"data row6 col10\" >124</td>\n",
              "      <td id=\"T_64e8c_row6_col11\" class=\"data row6 col11\" >229</td>\n",
              "      <td id=\"T_64e8c_row6_col12\" class=\"data row6 col12\" >253</td>\n",
              "      <td id=\"T_64e8c_row6_col13\" class=\"data row6 col13\" >253</td>\n",
              "      <td id=\"T_64e8c_row6_col14\" class=\"data row6 col14\" >128</td>\n",
              "      <td id=\"T_64e8c_row6_col15\" class=\"data row6 col15\" >0</td>\n",
              "      <td id=\"T_64e8c_row6_col16\" class=\"data row6 col16\" >0</td>\n",
              "      <td id=\"T_64e8c_row6_col17\" class=\"data row6 col17\" >0</td>\n",
              "    </tr>\n",
              "    <tr>\n",
              "      <th id=\"T_64e8c_level0_row7\" class=\"row_heading level0 row7\" >7</th>\n",
              "      <td id=\"T_64e8c_row7_col0\" class=\"data row7 col0\" >0</td>\n",
              "      <td id=\"T_64e8c_row7_col1\" class=\"data row7 col1\" >0</td>\n",
              "      <td id=\"T_64e8c_row7_col2\" class=\"data row7 col2\" >0</td>\n",
              "      <td id=\"T_64e8c_row7_col3\" class=\"data row7 col3\" >0</td>\n",
              "      <td id=\"T_64e8c_row7_col4\" class=\"data row7 col4\" >47</td>\n",
              "      <td id=\"T_64e8c_row7_col5\" class=\"data row7 col5\" >182</td>\n",
              "      <td id=\"T_64e8c_row7_col6\" class=\"data row7 col6\" >240</td>\n",
              "      <td id=\"T_64e8c_row7_col7\" class=\"data row7 col7\" >253</td>\n",
              "      <td id=\"T_64e8c_row7_col8\" class=\"data row7 col8\" >253</td>\n",
              "      <td id=\"T_64e8c_row7_col9\" class=\"data row7 col9\" >254</td>\n",
              "      <td id=\"T_64e8c_row7_col10\" class=\"data row7 col10\" >253</td>\n",
              "      <td id=\"T_64e8c_row7_col11\" class=\"data row7 col11\" >253</td>\n",
              "      <td id=\"T_64e8c_row7_col12\" class=\"data row7 col12\" >253</td>\n",
              "      <td id=\"T_64e8c_row7_col13\" class=\"data row7 col13\" >253</td>\n",
              "      <td id=\"T_64e8c_row7_col14\" class=\"data row7 col14\" >23</td>\n",
              "      <td id=\"T_64e8c_row7_col15\" class=\"data row7 col15\" >0</td>\n",
              "      <td id=\"T_64e8c_row7_col16\" class=\"data row7 col16\" >0</td>\n",
              "      <td id=\"T_64e8c_row7_col17\" class=\"data row7 col17\" >0</td>\n",
              "    </tr>\n",
              "    <tr>\n",
              "      <th id=\"T_64e8c_level0_row8\" class=\"row_heading level0 row8\" >8</th>\n",
              "      <td id=\"T_64e8c_row8_col0\" class=\"data row8 col0\" >0</td>\n",
              "      <td id=\"T_64e8c_row8_col1\" class=\"data row8 col1\" >0</td>\n",
              "      <td id=\"T_64e8c_row8_col2\" class=\"data row8 col2\" >0</td>\n",
              "      <td id=\"T_64e8c_row8_col3\" class=\"data row8 col3\" >0</td>\n",
              "      <td id=\"T_64e8c_row8_col4\" class=\"data row8 col4\" >156</td>\n",
              "      <td id=\"T_64e8c_row8_col5\" class=\"data row8 col5\" >253</td>\n",
              "      <td id=\"T_64e8c_row8_col6\" class=\"data row8 col6\" >253</td>\n",
              "      <td id=\"T_64e8c_row8_col7\" class=\"data row8 col7\" >253</td>\n",
              "      <td id=\"T_64e8c_row8_col8\" class=\"data row8 col8\" >253</td>\n",
              "      <td id=\"T_64e8c_row8_col9\" class=\"data row8 col9\" >254</td>\n",
              "      <td id=\"T_64e8c_row8_col10\" class=\"data row8 col10\" >245</td>\n",
              "      <td id=\"T_64e8c_row8_col11\" class=\"data row8 col11\" >223</td>\n",
              "      <td id=\"T_64e8c_row8_col12\" class=\"data row8 col12\" >253</td>\n",
              "      <td id=\"T_64e8c_row8_col13\" class=\"data row8 col13\" >253</td>\n",
              "      <td id=\"T_64e8c_row8_col14\" class=\"data row8 col14\" >195</td>\n",
              "      <td id=\"T_64e8c_row8_col15\" class=\"data row8 col15\" >53</td>\n",
              "      <td id=\"T_64e8c_row8_col16\" class=\"data row8 col16\" >0</td>\n",
              "      <td id=\"T_64e8c_row8_col17\" class=\"data row8 col17\" >0</td>\n",
              "    </tr>\n",
              "    <tr>\n",
              "      <th id=\"T_64e8c_level0_row9\" class=\"row_heading level0 row9\" >9</th>\n",
              "      <td id=\"T_64e8c_row9_col0\" class=\"data row9 col0\" >0</td>\n",
              "      <td id=\"T_64e8c_row9_col1\" class=\"data row9 col1\" >0</td>\n",
              "      <td id=\"T_64e8c_row9_col2\" class=\"data row9 col2\" >0</td>\n",
              "      <td id=\"T_64e8c_row9_col3\" class=\"data row9 col3\" >0</td>\n",
              "      <td id=\"T_64e8c_row9_col4\" class=\"data row9 col4\" >61</td>\n",
              "      <td id=\"T_64e8c_row9_col5\" class=\"data row9 col5\" >173</td>\n",
              "      <td id=\"T_64e8c_row9_col6\" class=\"data row9 col6\" >98</td>\n",
              "      <td id=\"T_64e8c_row9_col7\" class=\"data row9 col7\" >98</td>\n",
              "      <td id=\"T_64e8c_row9_col8\" class=\"data row9 col8\" >98</td>\n",
              "      <td id=\"T_64e8c_row9_col9\" class=\"data row9 col9\" >99</td>\n",
              "      <td id=\"T_64e8c_row9_col10\" class=\"data row9 col10\" >15</td>\n",
              "      <td id=\"T_64e8c_row9_col11\" class=\"data row9 col11\" >0</td>\n",
              "      <td id=\"T_64e8c_row9_col12\" class=\"data row9 col12\" >68</td>\n",
              "      <td id=\"T_64e8c_row9_col13\" class=\"data row9 col13\" >240</td>\n",
              "      <td id=\"T_64e8c_row9_col14\" class=\"data row9 col14\" >255</td>\n",
              "      <td id=\"T_64e8c_row9_col15\" class=\"data row9 col15\" >238</td>\n",
              "      <td id=\"T_64e8c_row9_col16\" class=\"data row9 col16\" >41</td>\n",
              "      <td id=\"T_64e8c_row9_col17\" class=\"data row9 col17\" >0</td>\n",
              "    </tr>\n",
              "    <tr>\n",
              "      <th id=\"T_64e8c_level0_row10\" class=\"row_heading level0 row10\" >10</th>\n",
              "      <td id=\"T_64e8c_row10_col0\" class=\"data row10 col0\" >0</td>\n",
              "      <td id=\"T_64e8c_row10_col1\" class=\"data row10 col1\" >0</td>\n",
              "      <td id=\"T_64e8c_row10_col2\" class=\"data row10 col2\" >0</td>\n",
              "      <td id=\"T_64e8c_row10_col3\" class=\"data row10 col3\" >0</td>\n",
              "      <td id=\"T_64e8c_row10_col4\" class=\"data row10 col4\" >0</td>\n",
              "      <td id=\"T_64e8c_row10_col5\" class=\"data row10 col5\" >0</td>\n",
              "      <td id=\"T_64e8c_row10_col6\" class=\"data row10 col6\" >0</td>\n",
              "      <td id=\"T_64e8c_row10_col7\" class=\"data row10 col7\" >0</td>\n",
              "      <td id=\"T_64e8c_row10_col8\" class=\"data row10 col8\" >0</td>\n",
              "      <td id=\"T_64e8c_row10_col9\" class=\"data row10 col9\" >0</td>\n",
              "      <td id=\"T_64e8c_row10_col10\" class=\"data row10 col10\" >0</td>\n",
              "      <td id=\"T_64e8c_row10_col11\" class=\"data row10 col11\" >0</td>\n",
              "      <td id=\"T_64e8c_row10_col12\" class=\"data row10 col12\" >0</td>\n",
              "      <td id=\"T_64e8c_row10_col13\" class=\"data row10 col13\" >68</td>\n",
              "      <td id=\"T_64e8c_row10_col14\" class=\"data row10 col14\" >246</td>\n",
              "      <td id=\"T_64e8c_row10_col15\" class=\"data row10 col15\" >253</td>\n",
              "      <td id=\"T_64e8c_row10_col16\" class=\"data row10 col16\" >211</td>\n",
              "      <td id=\"T_64e8c_row10_col17\" class=\"data row10 col17\" >9</td>\n",
              "    </tr>\n",
              "  </tbody>\n",
              "</table>\n"
            ]
          },
          "metadata": {},
          "execution_count": 10
        }
      ]
    },
    {
      "cell_type": "code",
      "source": [
        "\n",
        "three_tensors = [tensor(Image.open(img)) for img in threes]\n",
        "seven_tensors = [tensor(Image.open(img)) for img in sevens]"
      ],
      "metadata": {
        "id": "fIUsgwdnQPVS"
      },
      "execution_count": 11,
      "outputs": []
    },
    {
      "cell_type": "code",
      "source": [
        "len(three_tensors),len(seven_tensors)"
      ],
      "metadata": {
        "colab": {
          "base_uri": "https://localhost:8080/"
        },
        "id": "9YakDWqbSR11",
        "outputId": "60db51c1-5fca-4785-e6d0-029dfdb37417"
      },
      "execution_count": 12,
      "outputs": [
        {
          "output_type": "execute_result",
          "data": {
            "text/plain": [
              "(6131, 6265)"
            ]
          },
          "metadata": {},
          "execution_count": 12
        }
      ]
    },
    {
      "cell_type": "code",
      "source": [
        "show_image(seven_tensors[2])"
      ],
      "metadata": {
        "colab": {
          "base_uri": "https://localhost:8080/",
          "height": 131
        },
        "id": "Bjn1aM3xSz-z",
        "outputId": "7aa55deb-e2d3-4f6c-a4e0-eb44e75b039a"
      },
      "execution_count": 13,
      "outputs": [
        {
          "output_type": "execute_result",
          "data": {
            "text/plain": [
              "<Axes: >"
            ]
          },
          "metadata": {},
          "execution_count": 13
        },
        {
          "output_type": "display_data",
          "data": {
            "text/plain": [
              "<Figure size 100x100 with 1 Axes>"
            ],
            "image/png": "[encoded data removed]"
          },
          "metadata": {}
        }
      ]
    },
    {
      "cell_type": "code",
      "source": [
        "stacked_sevens = torch.stack(seven_tensors).float()/255\n",
        "stacked_threes = torch.stack(three_tensors).float()/255"
      ],
      "metadata": {
        "id": "ILYxtwdZS2lW"
      },
      "execution_count": 14,
      "outputs": []
    },
    {
      "cell_type": "code",
      "source": [
        "stacked_threes.ndim"
      ],
      "metadata": {
        "colab": {
          "base_uri": "https://localhost:8080/"
        },
        "id": "lBwiww-ZUBfS",
        "outputId": "eaadc076-14b5-4e34-b2d0-5a606efdbd79"
      },
      "execution_count": 15,
      "outputs": [
        {
          "output_type": "execute_result",
          "data": {
            "text/plain": [
              "3"
            ]
          },
          "metadata": {},
          "execution_count": 15
        }
      ]
    },
    {
      "cell_type": "code",
      "source": [
        "mean3 = stacked_threes.mean(0)\n",
        "show_image(mean3);"
      ],
      "metadata": {
        "colab": {
          "base_uri": "https://localhost:8080/",
          "height": 114
        },
        "id": "E8g9bnnvUCfQ",
        "outputId": "f59a8ca6-8d3a-412b-ed7b-fe23f5dfd3a4"
      },
      "execution_count": 16,
      "outputs": [
        {
          "output_type": "display_data",
          "data": {
            "text/plain": [
              "<Figure size 100x100 with 1 Axes>"
            ],
            "image/png": "[encoded data removed]"
          },
          "metadata": {}
        }
      ]
    },
    {
      "cell_type": "code",
      "source": [
        "mean7 = stacked_sevens.mean(0)\n",
        "show_image(mean7);"
      ],
      "metadata": {
        "colab": {
          "base_uri": "https://localhost:8080/",
          "height": 114
        },
        "id": "RMlWimHVVG3A",
        "outputId": "e4706280-fbe5-4808-f764-50995dc69ddb"
      },
      "execution_count": 17,
      "outputs": [
        {
          "output_type": "display_data",
          "data": {
            "text/plain": [
              "<Figure size 100x100 with 1 Axes>"
            ],
            "image/png": "[encoded data removed]"
          },
          "metadata": {}
        }
      ]
    },
    {
      "cell_type": "markdown",
      "source": [
        "# Very basic classifier"
      ],
      "metadata": {
        "id": "S0DZ8EPeoqcU"
      }
    },
    {
      "cell_type": "code",
      "source": [
        "((stacked_threes[1] - mean3).abs()).sum()/(mean3.shape[0]*mean3.shape[1])"
      ],
      "metadata": {
        "colab": {
          "base_uri": "https://localhost:8080/"
        },
        "id": "Lpd3rbdBVIee",
        "outputId": "69abfd07-81e9-41b3-dcad-32fca1634c70"
      },
      "execution_count": 18,
      "outputs": [
        {
          "output_type": "execute_result",
          "data": {
            "text/plain": [
              "tensor(0.1114)"
            ]
          },
          "metadata": {},
          "execution_count": 18
        }
      ]
    },
    {
      "cell_type": "code",
      "source": [
        "a_3 = stacked_threes[1]\n",
        "show_image(a_3)\n",
        "dist_3_abs = (a_3 - mean3).abs().mean()\n",
        "dist_3_sqr = ((a_3 - mean3)**2).mean().sqrt()\n",
        "dist_3_abs,dist_3_sqr"
      ],
      "metadata": {
        "colab": {
          "base_uri": "https://localhost:8080/",
          "height": 131
        },
        "id": "6056j15NWwG8",
        "outputId": "cde07a51-ebe8-425b-c510-6953a69caa53"
      },
      "execution_count": 19,
      "outputs": [
        {
          "output_type": "execute_result",
          "data": {
            "text/plain": [
              "(tensor(0.1114), tensor(0.2021))"
            ]
          },
          "metadata": {},
          "execution_count": 19
        },
        {
          "output_type": "display_data",
          "data": {
            "text/plain": [
              "<Figure size 100x100 with 1 Axes>"
            ],
            "image/png": "[encoded data removed]"
          },
          "metadata": {}
        }
      ]
    },
    {
      "cell_type": "code",
      "source": [
        "import torch.nn.functional as F"
      ],
      "metadata": {
        "id": "fmKdCzgjX5v9"
      },
      "execution_count": 20,
      "outputs": []
    },
    {
      "cell_type": "code",
      "source": [
        "F.l1_loss(stacked_threes[1], mean3), F.mse_loss(stacked_threes[1], mean3).sqrt()"
      ],
      "metadata": {
        "colab": {
          "base_uri": "https://localhost:8080/"
        },
        "id": "smA3FoNGbrIc",
        "outputId": "93d3ec1b-6a6e-4ffd-8d7e-c08b78f5763e"
      },
      "execution_count": 21,
      "outputs": [
        {
          "output_type": "execute_result",
          "data": {
            "text/plain": [
              "(tensor(0.1114), tensor(0.2021))"
            ]
          },
          "metadata": {},
          "execution_count": 21
        }
      ]
    },
    {
      "cell_type": "code",
      "source": [
        "data = [[1,2,3],[4,5,6]]\n",
        "arr = array (data)\n",
        "tns = tensor(data)"
      ],
      "metadata": {
        "id": "LrV9P9BKcMwn"
      },
      "execution_count": 22,
      "outputs": []
    },
    {
      "cell_type": "code",
      "source": [
        "(tensor ( [[1,2,3],[4,5,4]])[1:1]*1.5).type()"
      ],
      "metadata": {
        "colab": {
          "base_uri": "https://localhost:8080/",
          "height": 35
        },
        "id": "Zz2IHDbsgGTz",
        "outputId": "a96eb59a-0e51-42e4-a5f8-0005925cf511"
      },
      "execution_count": 23,
      "outputs": [
        {
          "output_type": "execute_result",
          "data": {
            "text/plain": [
              "'torch.FloatTensor'"
            ],
            "application/vnd.google.colaboratory.intrinsic+json": {
              "type": "string"
            }
          },
          "metadata": {},
          "execution_count": 23
        }
      ]
    },
    {
      "cell_type": "code",
      "source": [
        "valid_3_tens = torch.stack([tensor(Image.open(o))\n",
        "                            for o in (path/'valid'/'3').ls()])\n",
        "valid_3_tens = valid_3_tens.float()/255\n",
        "valid_7_tens = torch.stack([tensor(Image.open(o))\n",
        "                            for o in (path/'valid'/'7').ls()])\n",
        "valid_7_tens = valid_7_tens.float()/255\n",
        "valid_3_tens.shape,valid_7_tens.shape"
      ],
      "metadata": {
        "colab": {
          "base_uri": "https://localhost:8080/"
        },
        "id": "Cp3nqN1MgJ0t",
        "outputId": "ecb2b934-3d56-4012-ebc5-f2651545290e"
      },
      "execution_count": 24,
      "outputs": [
        {
          "output_type": "execute_result",
          "data": {
            "text/plain": [
              "(torch.Size([1010, 28, 28]), torch.Size([1028, 28, 28]))"
            ]
          },
          "metadata": {},
          "execution_count": 24
        }
      ]
    },
    {
      "cell_type": "code",
      "source": [
        "def mnist_distance(a,b): return (a-b).abs().mean((-1,-2))\n",
        "mnist_distance(valid_3_tens, mean3).mean()"
      ],
      "metadata": {
        "colab": {
          "base_uri": "https://localhost:8080/"
        },
        "id": "pbOb35K7hfWB",
        "outputId": "c481cc07-2aef-4ba0-d7c6-c0a4a0f04eaa"
      },
      "execution_count": 25,
      "outputs": [
        {
          "output_type": "execute_result",
          "data": {
            "text/plain": [
              "tensor(0.1296)"
            ]
          },
          "metadata": {},
          "execution_count": 25
        }
      ]
    },
    {
      "cell_type": "code",
      "source": [
        "def is_3(x): return mnist_distance(x,mean3) < mnist_distance(x,mean7)"
      ],
      "metadata": {
        "id": "cOF6ao0zh_o2"
      },
      "execution_count": 26,
      "outputs": []
    },
    {
      "cell_type": "code",
      "source": [
        "is_3(valid_3_tens).float().mean(), 1- is_3(valid_7_tens).float().mean()"
      ],
      "metadata": {
        "colab": {
          "base_uri": "https://localhost:8080/"
        },
        "id": "_Wdog2TdiJ7V",
        "outputId": "fd98e6b0-bc3f-4da1-e3d7-0f70f06c81da"
      },
      "execution_count": 27,
      "outputs": [
        {
          "output_type": "execute_result",
          "data": {
            "text/plain": [
              "(tensor(0.9168), tensor(0.9854))"
            ]
          },
          "metadata": {},
          "execution_count": 27
        }
      ]
    },
    {
      "cell_type": "code",
      "source": [
        "accuracy_3s =      is_3(valid_3_tens).float() .mean()\n",
        "accuracy_7s = (1 - is_3(valid_7_tens).float()).mean()\n",
        "\n",
        "accuracy_3s,accuracy_7s,(accuracy_3s+accuracy_7s)/2"
      ],
      "metadata": {
        "colab": {
          "base_uri": "https://localhost:8080/"
        },
        "id": "2w2DWXxPlVES",
        "outputId": "6c8d370c-5ded-4b68-b49f-48f744f4cf85"
      },
      "execution_count": 28,
      "outputs": [
        {
          "output_type": "execute_result",
          "data": {
            "text/plain": [
              "(tensor(0.9168), tensor(0.9854), tensor(0.9511))"
            ]
          },
          "metadata": {},
          "execution_count": 28
        }
      ]
    },
    {
      "cell_type": "code",
      "source": [
        "xt = tensor(3.).requires_grad_()"
      ],
      "metadata": {
        "id": "YpOAZ2eil2Uo"
      },
      "execution_count": 29,
      "outputs": []
    },
    {
      "cell_type": "code",
      "source": [
        "def f(x): return  x**2\n",
        "z = f(xt)"
      ],
      "metadata": {
        "id": "pl_tPQqLwBbu"
      },
      "execution_count": 30,
      "outputs": []
    },
    {
      "cell_type": "code",
      "source": [
        "z.backward()"
      ],
      "metadata": {
        "id": "usUbJD0azoQu"
      },
      "execution_count": 31,
      "outputs": []
    },
    {
      "cell_type": "code",
      "source": [
        "xt.grad"
      ],
      "metadata": {
        "colab": {
          "base_uri": "https://localhost:8080/"
        },
        "id": "MoS03ZhqzjxP",
        "outputId": "a012719d-8367-417a-9bfb-d9c2ee61c2e2"
      },
      "execution_count": 32,
      "outputs": [
        {
          "output_type": "execute_result",
          "data": {
            "text/plain": [
              "tensor(6.)"
            ]
          },
          "metadata": {},
          "execution_count": 32
        }
      ]
    },
    {
      "cell_type": "code",
      "source": [
        "xt = tensor([3.,4.,10.]).requires_grad_()\n",
        "def f(x): return (x**2).sum()\n",
        "yt = f(xt)\n",
        "yt.backward()\n",
        "xt.grad"
      ],
      "metadata": {
        "colab": {
          "base_uri": "https://localhost:8080/"
        },
        "id": "F7Q1UE6uzyLf",
        "outputId": "198fe443-9754-475d-adcf-2b3e06b16b9a"
      },
      "execution_count": 33,
      "outputs": [
        {
          "output_type": "execute_result",
          "data": {
            "text/plain": [
              "tensor([ 6.,  8., 20.])"
            ]
          },
          "metadata": {},
          "execution_count": 33
        }
      ]
    },
    {
      "cell_type": "code",
      "source": [
        "?torch.randn"
      ],
      "metadata": {
        "id": "VmmTsxB-z1T2"
      },
      "execution_count": 34,
      "outputs": []
    },
    {
      "cell_type": "markdown",
      "source": [
        "# cuadratic function test"
      ],
      "metadata": {
        "id": "L9AtAHCv2GAY"
      }
    },
    {
      "cell_type": "code",
      "source": [
        "time = torch.arange(0,20).float(); time"
      ],
      "metadata": {
        "colab": {
          "base_uri": "https://localhost:8080/"
        },
        "id": "-ql9HfQR3XiR",
        "outputId": "a57b7bb9-84cf-4838-bb72-c8f78082ad29"
      },
      "execution_count": 35,
      "outputs": [
        {
          "output_type": "execute_result",
          "data": {
            "text/plain": [
              "tensor([ 0.,  1.,  2.,  3.,  4.,  5.,  6.,  7.,  8.,  9., 10., 11., 12., 13., 14., 15., 16., 17., 18., 19.])"
            ]
          },
          "metadata": {},
          "execution_count": 35
        }
      ]
    },
    {
      "cell_type": "code",
      "source": [
        "speed = torch.randn(20)*3 + 0.75*(time-9.5)**2 + 1\n",
        "plt.scatter(time,speed);"
      ],
      "metadata": {
        "colab": {
          "base_uri": "https://localhost:8080/",
          "height": 434
        },
        "id": "xfDHq7KN3Ym4",
        "outputId": "abfb9741-8f1a-4a5d-d268-a58c8be48144"
      },
      "execution_count": 36,
      "outputs": [
        {
          "output_type": "display_data",
          "data": {
            "text/plain": [
              "<Figure size 640x480 with 1 Axes>"
            ],
            "image/png": "[encoded data removed]"
          },
          "metadata": {}
        }
      ]
    },
    {
      "cell_type": "code",
      "source": [
        "def f(t, params):\n",
        "    a,b,c = params\n",
        "    return a*(t**2) + (b*t) + c"
      ],
      "metadata": {
        "id": "QCTh8zD-2mT_"
      },
      "execution_count": 37,
      "outputs": []
    },
    {
      "cell_type": "code",
      "source": [
        "def mse(preds, targets): return ((preds-targets)**2).mean()"
      ],
      "metadata": {
        "id": "91U6v6EV2m-D"
      },
      "execution_count": 38,
      "outputs": []
    },
    {
      "cell_type": "code",
      "source": [
        "params = torch.randn(3).requires_grad_()\n",
        "orig_params = params.clone()"
      ],
      "metadata": {
        "id": "Zysy4QAr29aL"
      },
      "execution_count": 39,
      "outputs": []
    },
    {
      "cell_type": "code",
      "source": [
        "preds = f(time, params)"
      ],
      "metadata": {
        "id": "Y21QlXPG3CV4"
      },
      "execution_count": 40,
      "outputs": []
    },
    {
      "cell_type": "markdown",
      "source": [
        "predictions:"
      ],
      "metadata": {
        "id": "cCOPwGcy3NnZ"
      }
    },
    {
      "cell_type": "code",
      "source": [
        "def show_preds(preds, ax=None):\n",
        "    if ax is None: ax=plt.subplots()[1]\n",
        "    ax.scatter(time, speed)\n",
        "    ax.scatter(time, to_np(preds), color='red')\n",
        "    ax.set_ylim(-300,100)\n",
        "show_preds(preds)"
      ],
      "metadata": {
        "colab": {
          "base_uri": "https://localhost:8080/",
          "height": 441
        },
        "id": "_z9pqjiQ3kdv",
        "outputId": "6bb19cac-9c53-428e-90a2-91d8d40558c6"
      },
      "execution_count": 41,
      "outputs": [
        {
          "output_type": "display_data",
          "data": {
            "text/plain": [
              "<Figure size 640x480 with 1 Axes>"
            ],
            "image/png": "[encoded data removed]"
          },
          "metadata": {}
        }
      ]
    },
    {
      "cell_type": "code",
      "source": [
        "loss = mse(preds, speed)\n"
      ],
      "metadata": {
        "id": "s9Oo9OX-3k2s"
      },
      "execution_count": 42,
      "outputs": []
    },
    {
      "cell_type": "code",
      "source": [
        "loss"
      ],
      "metadata": {
        "colab": {
          "base_uri": "https://localhost:8080/"
        },
        "id": "M7qi4k1P54zQ",
        "outputId": "eb6a9034-6390-4af7-d584-4a6fec2392be"
      },
      "execution_count": 43,
      "outputs": [
        {
          "output_type": "execute_result",
          "data": {
            "text/plain": [
              "tensor(25823.8086, grad_fn=<MeanBackward0>)"
            ]
          },
          "metadata": {},
          "execution_count": 43
        }
      ]
    },
    {
      "cell_type": "code",
      "source": [
        "loss.backward()\n"
      ],
      "metadata": {
        "id": "cUtlujGY38Qc"
      },
      "execution_count": 44,
      "outputs": []
    },
    {
      "cell_type": "code",
      "source": [
        "params.grad * 1e-5"
      ],
      "metadata": {
        "colab": {
          "base_uri": "https://localhost:8080/"
        },
        "id": "2o07KAMs4IyX",
        "outputId": "854ba1e8-7ecf-4a1f-f611-0ecbfcb451e2"
      },
      "execution_count": 45,
      "outputs": [
        {
          "output_type": "execute_result",
          "data": {
            "text/plain": [
              "tensor([-0.5320, -0.0342, -0.0025])"
            ]
          },
          "metadata": {},
          "execution_count": 45
        }
      ]
    },
    {
      "cell_type": "code",
      "source": [
        "lr = 1e-5\n",
        "params.data -= lr * params.grad.data\n"
      ],
      "metadata": {
        "id": "HxYA9HkP4Sg2"
      },
      "execution_count": 46,
      "outputs": []
    },
    {
      "cell_type": "code",
      "source": [
        "params.grad = None"
      ],
      "metadata": {
        "id": "KKAJzIuE41km"
      },
      "execution_count": 47,
      "outputs": []
    },
    {
      "cell_type": "code",
      "source": [
        "preds = f(time,params)\n",
        "mse(preds, speed)"
      ],
      "metadata": {
        "colab": {
          "base_uri": "https://localhost:8080/"
        },
        "id": "hG1u7z115ncX",
        "outputId": "596a96ca-96d3-48ad-f2ae-6009c889279d"
      },
      "execution_count": 48,
      "outputs": [
        {
          "output_type": "execute_result",
          "data": {
            "text/plain": [
              "tensor(5435.5356, grad_fn=<MeanBackward0>)"
            ]
          },
          "metadata": {},
          "execution_count": 48
        }
      ]
    },
    {
      "cell_type": "code",
      "source": [
        "show_preds(preds)"
      ],
      "metadata": {
        "colab": {
          "base_uri": "https://localhost:8080/",
          "height": 441
        },
        "id": "esudDngf52Fd",
        "outputId": "ef5ca8e8-4d38-48bd-aced-99b78f8dcf4a"
      },
      "execution_count": 49,
      "outputs": [
        {
          "output_type": "display_data",
          "data": {
            "text/plain": [
              "<Figure size 640x480 with 1 Axes>"
            ],
            "image/png": "[encoded data removed]"
          },
          "metadata": {}
        }
      ]
    },
    {
      "cell_type": "code",
      "source": [
        "def apply_step(params, prn=True):\n",
        "    preds = f(time, params)\n",
        "    loss = mse(preds, speed)\n",
        "    loss.backward()\n",
        "    params.data -= lr * params.grad.data\n",
        "    params.grad = None\n",
        "    if prn: print(loss.item())\n",
        "    return preds"
      ],
      "metadata": {
        "id": "s7kmQAfM6FkG"
      },
      "execution_count": 50,
      "outputs": []
    },
    {
      "cell_type": "code",
      "source": [
        "for i in range(10): apply_step(params)"
      ],
      "metadata": {
        "colab": {
          "base_uri": "https://localhost:8080/"
        },
        "id": "IjXST9h_6RGY",
        "outputId": "12d9bb7a-a7e5-4ea5-aa40-c3a11d446b03"
      },
      "execution_count": 51,
      "outputs": [
        {
          "output_type": "stream",
          "name": "stdout",
          "text": [
            "5435.53564453125\n",
            "1577.44921875\n",
            "847.3778076171875\n",
            "709.2225341796875\n",
            "683.0758056640625\n",
            "678.1243896484375\n",
            "677.1838989257812\n",
            "677.0023803710938\n",
            "676.9645385742188\n",
            "676.9537353515625\n"
          ]
        }
      ]
    },
    {
      "cell_type": "code",
      "source": [
        "show_preds(preds)"
      ],
      "metadata": {
        "colab": {
          "base_uri": "https://localhost:8080/",
          "height": 441
        },
        "id": "2R0RQnlH6WpX",
        "outputId": "fb9852fb-b244-422f-971c-e9912247b3e1"
      },
      "execution_count": 52,
      "outputs": [
        {
          "output_type": "display_data",
          "data": {
            "text/plain": [
              "<Figure size 640x480 with 1 Axes>"
            ],
            "image/png": "[encoded data removed]"
          },
          "metadata": {}
        }
      ]
    },
    {
      "cell_type": "code",
      "source": [
        "params = orig_params.detach().requires_grad_()"
      ],
      "metadata": {
        "id": "ETF2GW8X6a6K"
      },
      "execution_count": 53,
      "outputs": []
    },
    {
      "cell_type": "code",
      "source": [
        "_,axs = plt.subplots(1,4,figsize=(12,3))\n",
        "for ax in axs: show_preds(apply_step(params, False), ax)\n",
        "plt.tight_layout()"
      ],
      "metadata": {
        "colab": {
          "base_uri": "https://localhost:8080/",
          "height": 263
        },
        "id": "uYFP4izc8Vay",
        "outputId": "3f8bcf75-1efd-4a17-e876-649f20823cde"
      },
      "execution_count": 54,
      "outputs": [
        {
          "output_type": "display_data",
          "data": {
            "text/plain": [
              "<Figure size 1200x300 with 4 Axes>"
            ],
            "image/png": "[encoded data removed]"
          },
          "metadata": {}
        }
      ]
    },
    {
      "cell_type": "code",
      "source": [
        "torch.tensor([ 0.1943, -0.7342,  0.0796, -6])"
      ],
      "metadata": {
        "colab": {
          "base_uri": "https://localhost:8080/"
        },
        "id": "UTLS_wprAkL4",
        "outputId": "ea449a6b-5f27-478f-99e7-a82aee38a29d"
      },
      "execution_count": 55,
      "outputs": [
        {
          "output_type": "execute_result",
          "data": {
            "text/plain": [
              "tensor([ 0.1943, -0.7342,  0.0796, -6.0000])"
            ]
          },
          "metadata": {},
          "execution_count": 55
        }
      ]
    },
    {
      "cell_type": "code",
      "source": [
        "params2 = torch.tensor([ 0.1943, -0.7342,  0.0796, -6]).requires_grad_()\n",
        "orig_params2 = params2.clone()"
      ],
      "metadata": {
        "id": "9OeU_m1f8pMP"
      },
      "execution_count": 56,
      "outputs": []
    },
    {
      "cell_type": "code",
      "source": [
        "params2"
      ],
      "metadata": {
        "colab": {
          "base_uri": "https://localhost:8080/"
        },
        "id": "yqS4DQ3IAVWf",
        "outputId": "38609d47-f017-4f17-b41a-f6cf7363a877"
      },
      "execution_count": 57,
      "outputs": [
        {
          "output_type": "execute_result",
          "data": {
            "text/plain": [
              "tensor([ 0.1943, -0.7342,  0.0796, -6.0000], requires_grad=True)"
            ]
          },
          "metadata": {},
          "execution_count": 57
        }
      ]
    },
    {
      "cell_type": "code",
      "source": [
        "lr = 1e-5"
      ],
      "metadata": {
        "id": "t70HUL3U_tBo"
      },
      "execution_count": 58,
      "outputs": []
    },
    {
      "cell_type": "code",
      "source": [
        "\n",
        "\n",
        "def mse(preds, targets): return ((preds-targets)**2).mean()\n",
        "\n",
        "def f2(x, params):\n",
        "  a,b,c,d = params\n",
        "  return a*(x+d)**2+(x+d)*b+c\n",
        "def apply_step2(params, prn=True):\n",
        "    preds = f2(time, params)\n",
        "    loss = mse(preds, speed)\n",
        "    loss.backward()\n",
        "    params.data -= lr * params.grad.data\n",
        "    params.grad = None\n",
        "    if prn: print(loss.item())\n",
        "    return preds"
      ],
      "metadata": {
        "id": "qXaH0e-b8Gpu"
      },
      "execution_count": 59,
      "outputs": []
    },
    {
      "cell_type": "code",
      "source": [
        "_,axs = plt.subplots(1,4,figsize=(12,3))\n",
        "for ax in axs: show_preds(apply_step2(params2, False), ax)\n",
        "plt.tight_layout()"
      ],
      "metadata": {
        "colab": {
          "base_uri": "https://localhost:8080/",
          "height": 263
        },
        "id": "Fv1HiaJ-71cg",
        "outputId": "3e741a33-7b46-4c12-a5a0-60f44d440f07"
      },
      "execution_count": 60,
      "outputs": [
        {
          "output_type": "display_data",
          "data": {
            "text/plain": [
              "<Figure size 1200x300 with 4 Axes>"
            ],
            "image/png": "[encoded data removed]"
          },
          "metadata": {}
        }
      ]
    },
    {
      "cell_type": "code",
      "source": [
        "\n",
        "for i in range(1000): apply_step2(params2)"
      ],
      "metadata": {
        "colab": {
          "base_uri": "https://localhost:8080/"
        },
        "id": "MKIBXDKx720w",
        "outputId": "b662f686-c3ba-4314-d710-4c0bc590ee16"
      },
      "execution_count": 61,
      "outputs": [
        {
          "output_type": "stream",
          "name": "stdout",
          "text": [
            "544.29345703125\n",
            "516.9154052734375\n",
            "494.32373046875\n",
            "475.6742248535156\n",
            "460.2710876464844\n",
            "447.5408630371094\n",
            "437.0111389160156\n",
            "428.292724609375\n",
            "421.06512451171875\n",
            "415.06439208984375\n",
            "410.0732421875\n",
            "405.91259765625\n",
            "402.4353942871094\n",
            "399.5203857421875\n",
            "397.06781005859375\n",
            "394.9956970214844\n",
            "393.23638916015625\n",
            "391.73443603515625\n",
            "390.4441223144531\n",
            "389.3279113769531\n",
            "388.3548583984375\n",
            "387.4994812011719\n",
            "386.74102783203125\n",
            "386.06219482421875\n",
            "385.44879150390625\n",
            "384.88922119140625\n",
            "384.3739318847656\n",
            "383.89508056640625\n",
            "383.44610595703125\n",
            "383.021728515625\n",
            "382.6176452636719\n",
            "382.2300109863281\n",
            "381.85626220703125\n",
            "381.49359130859375\n",
            "381.1401062011719\n",
            "380.79425048828125\n",
            "380.45458984375\n",
            "380.1199951171875\n",
            "379.7895812988281\n",
            "379.4625549316406\n",
            "379.13836669921875\n",
            "378.81640625\n",
            "378.496337890625\n",
            "378.17779541015625\n",
            "377.86041259765625\n",
            "377.54400634765625\n",
            "377.22845458984375\n",
            "376.91357421875\n",
            "376.5991516113281\n",
            "376.2851257324219\n",
            "375.97149658203125\n",
            "375.6579284667969\n",
            "375.34466552734375\n",
            "375.031494140625\n",
            "374.7184143066406\n",
            "374.4054260253906\n",
            "374.0924377441406\n",
            "373.7793884277344\n",
            "373.46630859375\n",
            "373.1532897949219\n",
            "372.84014892578125\n",
            "372.5269775390625\n",
            "372.21380615234375\n",
            "371.9005126953125\n",
            "371.58709716796875\n",
            "371.2736511230469\n",
            "370.96014404296875\n",
            "370.6464538574219\n",
            "370.3327331542969\n",
            "370.0189208984375\n",
            "369.70501708984375\n",
            "369.3909606933594\n",
            "369.0768127441406\n",
            "368.76263427734375\n",
            "368.44830322265625\n",
            "368.13385009765625\n",
            "367.81939697265625\n",
            "367.50469970703125\n",
            "367.1900329589844\n",
            "366.8752136230469\n",
            "366.5602722167969\n",
            "366.2452087402344\n",
            "365.93011474609375\n",
            "365.61492919921875\n",
            "365.299560546875\n",
            "364.98419189453125\n",
            "364.668701171875\n",
            "364.3530578613281\n",
            "364.0373840332031\n",
            "363.7215270996094\n",
            "363.40557861328125\n",
            "363.0895690917969\n",
            "362.77349853515625\n",
            "362.45733642578125\n",
            "362.14105224609375\n",
            "361.8245849609375\n",
            "361.5080871582031\n",
            "361.1914367675781\n",
            "360.874755859375\n",
            "360.5579833984375\n",
            "360.24114990234375\n",
            "359.924072265625\n",
            "359.60711669921875\n",
            "359.28985595703125\n",
            "358.97259521484375\n",
            "358.6551818847656\n",
            "358.33770751953125\n",
            "358.0201721191406\n",
            "357.7024841308594\n",
            "357.3847351074219\n",
            "357.06695556640625\n",
            "356.74896240234375\n",
            "356.4310302734375\n",
            "356.1128845214844\n",
            "355.7946472167969\n",
            "355.47625732421875\n",
            "355.15789794921875\n",
            "354.8393249511719\n",
            "354.52081298828125\n",
            "354.20208740234375\n",
            "353.8833312988281\n",
            "353.56439208984375\n",
            "353.24554443359375\n",
            "352.92645263671875\n",
            "352.60736083984375\n",
            "352.2882080078125\n",
            "351.96893310546875\n",
            "351.6494445800781\n",
            "351.3299560546875\n",
            "351.0103759765625\n",
            "350.690673828125\n",
            "350.3708801269531\n",
            "350.0510559082031\n",
            "349.7310791015625\n",
            "349.4110412597656\n",
            "349.0909118652344\n",
            "348.7706604003906\n",
            "348.4504699707031\n",
            "348.13006591796875\n",
            "347.8096008300781\n",
            "347.48907470703125\n",
            "347.1684265136719\n",
            "346.8477478027344\n",
            "346.5269470214844\n",
            "346.2060546875\n",
            "345.8851318359375\n",
            "345.5640869140625\n",
            "345.24298095703125\n",
            "344.9217529296875\n",
            "344.6004638671875\n",
            "344.27911376953125\n",
            "343.9576721191406\n",
            "343.63616943359375\n",
            "343.31451416015625\n",
            "342.9928283691406\n",
            "342.6710510253906\n",
            "342.34918212890625\n",
            "342.0271911621094\n",
            "341.70526123046875\n",
            "341.38311767578125\n",
            "341.06097412109375\n",
            "340.73870849609375\n",
            "340.4163818359375\n",
            "340.0939636230469\n",
            "339.771484375\n",
            "339.44891357421875\n",
            "339.1262512207031\n",
            "338.80352783203125\n",
            "338.4806823730469\n",
            "338.15777587890625\n",
            "337.8348693847656\n",
            "337.5118103027344\n",
            "337.1887512207031\n",
            "336.8655090332031\n",
            "336.542236328125\n",
            "336.2189025878906\n",
            "335.89544677734375\n",
            "335.5719909667969\n",
            "335.24835205078125\n",
            "334.92474365234375\n",
            "334.60101318359375\n",
            "334.27716064453125\n",
            "333.95330810546875\n",
            "333.62933349609375\n",
            "333.3052978515625\n",
            "332.9812316894531\n",
            "332.65704345703125\n",
            "332.332763671875\n",
            "332.00848388671875\n",
            "331.6839904785156\n",
            "331.35955810546875\n",
            "331.0350036621094\n",
            "330.7103576660156\n",
            "330.38580322265625\n",
            "330.0610046386719\n",
            "329.73626708984375\n",
            "329.4114074707031\n",
            "329.08648681640625\n",
            "328.7615051269531\n",
            "328.4364013671875\n",
            "328.11126708984375\n",
            "327.78607177734375\n",
            "327.4608154296875\n",
            "327.13543701171875\n",
            "326.80999755859375\n",
            "326.48455810546875\n",
            "326.158935546875\n",
            "325.83331298828125\n",
            "325.5077209472656\n",
            "325.18206787109375\n",
            "324.85626220703125\n",
            "324.5303955078125\n",
            "324.2044982910156\n",
            "323.87847900390625\n",
            "323.55242919921875\n",
            "323.2263488769531\n",
            "322.90008544921875\n",
            "322.573974609375\n",
            "322.24774169921875\n",
            "321.9213562011719\n",
            "321.5950012207031\n",
            "321.26849365234375\n",
            "320.9420166015625\n",
            "320.61541748046875\n",
            "320.288818359375\n",
            "319.9620361328125\n",
            "319.63531494140625\n",
            "319.30853271484375\n",
            "318.981689453125\n",
            "318.6547546386719\n",
            "318.3277587890625\n",
            "318.000732421875\n",
            "317.6736145019531\n",
            "317.34649658203125\n",
            "317.0193786621094\n",
            "316.6921081542969\n",
            "316.36480712890625\n",
            "316.0374755859375\n",
            "315.7100524902344\n",
            "315.382568359375\n",
            "315.05511474609375\n",
            "314.7275695800781\n",
            "314.39996337890625\n",
            "314.072265625\n",
            "313.74456787109375\n",
            "313.41680908203125\n",
            "313.08905029296875\n",
            "312.76116943359375\n",
            "312.4332580566406\n",
            "312.1053161621094\n",
            "311.77728271484375\n",
            "311.4492492675781\n",
            "311.12109375\n",
            "310.79302978515625\n",
            "310.4648132324219\n",
            "310.1365661621094\n",
            "309.80828857421875\n",
            "309.47998046875\n",
            "309.151611328125\n",
            "308.8232116699219\n",
            "308.4947204589844\n",
            "308.1662292480469\n",
            "307.83770751953125\n",
            "307.5091552734375\n",
            "307.1805114746094\n",
            "306.85186767578125\n",
            "306.523193359375\n",
            "306.1944885253906\n",
            "305.8656921386719\n",
            "305.536865234375\n",
            "305.20794677734375\n",
            "304.8791198730469\n",
            "304.5502014160156\n",
            "304.2212219238281\n",
            "303.8921813964844\n",
            "303.56317138671875\n",
            "303.23406982421875\n",
            "302.90496826171875\n",
            "302.5758361816406\n",
            "302.24664306640625\n",
            "301.9174499511719\n",
            "301.58819580078125\n",
            "301.25885009765625\n",
            "300.9295654296875\n",
            "300.6002197265625\n",
            "300.27081298828125\n",
            "299.94134521484375\n",
            "299.6119689941406\n",
            "299.28253173828125\n",
            "298.9529724121094\n",
            "298.6233825683594\n",
            "298.2938537597656\n",
            "297.9642639160156\n",
            "297.63458251953125\n",
            "297.30499267578125\n",
            "296.97528076171875\n",
            "296.6455993652344\n",
            "296.3157958984375\n",
            "295.9860534667969\n",
            "295.65625\n",
            "295.3263854980469\n",
            "294.99658203125\n",
            "294.666748046875\n",
            "294.33685302734375\n",
            "294.0069274902344\n",
            "293.67706298828125\n",
            "293.3470153808594\n",
            "293.01702880859375\n",
            "292.6870422363281\n",
            "292.3570251464844\n",
            "292.0269470214844\n",
            "291.6968994140625\n",
            "291.3667907714844\n",
            "291.03668212890625\n",
            "290.7065734863281\n",
            "290.37640380859375\n",
            "290.0462341308594\n",
            "289.7160949707031\n",
            "289.3858947753906\n",
            "289.05560302734375\n",
            "288.7254333496094\n",
            "288.39520263671875\n",
            "288.0649108886719\n",
            "287.73468017578125\n",
            "287.40435791015625\n",
            "287.0740966796875\n",
            "286.74383544921875\n",
            "286.41351318359375\n",
            "286.0831298828125\n",
            "285.75274658203125\n",
            "285.4224548339844\n",
            "285.09210205078125\n",
            "284.7617492675781\n",
            "284.43133544921875\n",
            "284.1009216308594\n",
            "283.7704772949219\n",
            "283.4401550292969\n",
            "283.1096496582031\n",
            "282.779296875\n",
            "282.4488220214844\n",
            "282.118408203125\n",
            "281.7879943847656\n",
            "281.45751953125\n",
            "281.1270751953125\n",
            "280.7966003417969\n",
            "280.46624755859375\n",
            "280.1357116699219\n",
            "279.8052673339844\n",
            "279.474853515625\n",
            "279.14434814453125\n",
            "278.81390380859375\n",
            "278.4834289550781\n",
            "278.15301513671875\n",
            "277.82257080078125\n",
            "277.4920959472656\n",
            "277.1616516113281\n",
            "276.83111572265625\n",
            "276.50067138671875\n",
            "276.17022705078125\n",
            "275.83978271484375\n",
            "275.5093688964844\n",
            "275.178955078125\n",
            "274.8485107421875\n",
            "274.51812744140625\n",
            "274.187744140625\n",
            "273.85736083984375\n",
            "273.52691650390625\n",
            "273.196533203125\n",
            "272.86614990234375\n",
            "272.5357666015625\n",
            "272.20538330078125\n",
            "271.8750305175781\n",
            "271.54473876953125\n",
            "271.2143249511719\n",
            "270.8840637207031\n",
            "270.5537414550781\n",
            "270.223388671875\n",
            "269.89312744140625\n",
            "269.5628662109375\n",
            "269.232666015625\n",
            "268.9024353027344\n",
            "268.572265625\n",
            "268.2420654296875\n",
            "267.91192626953125\n",
            "267.58172607421875\n",
            "267.2516174316406\n",
            "266.92144775390625\n",
            "266.59136962890625\n",
            "266.26129150390625\n",
            "265.9312744140625\n",
            "265.6011657714844\n",
            "265.2711486816406\n",
            "264.9411926269531\n",
            "264.6112365722656\n",
            "264.2812805175781\n",
            "263.95135498046875\n",
            "263.6214904785156\n",
            "263.2915344238281\n",
            "262.9617004394531\n",
            "262.63189697265625\n",
            "262.30206298828125\n",
            "261.972412109375\n",
            "261.6426086425781\n",
            "261.31292724609375\n",
            "260.98321533203125\n",
            "260.65350341796875\n",
            "260.3239440917969\n",
            "259.9944152832031\n",
            "259.6648254394531\n",
            "259.33526611328125\n",
            "259.00579833984375\n",
            "258.6764221191406\n",
            "258.3469543457031\n",
            "258.017578125\n",
            "257.6882629394531\n",
            "257.3589172363281\n",
            "257.02960205078125\n",
            "256.7004089355469\n",
            "256.3712158203125\n",
            "256.0420837402344\n",
            "255.71292114257812\n",
            "255.3838348388672\n",
            "255.05477905273438\n",
            "254.7257537841797\n",
            "254.3968048095703\n",
            "254.0679168701172\n",
            "253.7389678955078\n",
            "253.41012573242188\n",
            "253.0813446044922\n",
            "252.7526092529297\n",
            "252.4239044189453\n",
            "252.09518432617188\n",
            "251.76657104492188\n",
            "251.43798828125\n",
            "251.1095428466797\n",
            "250.781005859375\n",
            "250.45263671875\n",
            "250.124267578125\n",
            "249.7959442138672\n",
            "249.4676513671875\n",
            "249.13943481445312\n",
            "248.81124877929688\n",
            "248.48318481445312\n",
            "248.1551055908203\n",
            "247.82705688476562\n",
            "247.49911499023438\n",
            "247.1711883544922\n",
            "246.8433074951172\n",
            "246.5155487060547\n",
            "246.18783569335938\n",
            "245.86013793945312\n",
            "245.5325164794922\n",
            "245.20492553710938\n",
            "244.87747192382812\n",
            "244.5499725341797\n",
            "244.2225341796875\n",
            "243.895263671875\n",
            "243.5679931640625\n",
            "243.24081420898438\n",
            "242.9136962890625\n",
            "242.5865936279297\n",
            "242.25961303710938\n",
            "241.9326934814453\n",
            "241.6057891845703\n",
            "241.2789764404297\n",
            "240.9522247314453\n",
            "240.62548828125\n",
            "240.2989501953125\n",
            "239.9723358154297\n",
            "239.6458282470703\n",
            "239.31942749023438\n",
            "238.99313354492188\n",
            "238.6668701171875\n",
            "238.3406982421875\n",
            "238.01449584960938\n",
            "237.6884765625\n",
            "237.36251831054688\n",
            "237.03662109375\n",
            "236.71084594726562\n",
            "236.38510131835938\n",
            "236.0594024658203\n",
            "235.7338104248047\n",
            "235.4082489013672\n",
            "235.0828094482422\n",
            "234.75747680664062\n",
            "234.4321746826172\n",
            "234.1069793701172\n",
            "233.78182983398438\n",
            "233.456787109375\n",
            "233.1317901611328\n",
            "232.80691528320312\n",
            "232.48208618164062\n",
            "232.15737915039062\n",
            "231.83273315429688\n",
            "231.5082244873047\n",
            "231.1837921142578\n",
            "230.85946655273438\n",
            "230.53512573242188\n",
            "230.2108612060547\n",
            "229.8867645263672\n",
            "229.562744140625\n",
            "229.23880004882812\n",
            "228.9149169921875\n",
            "228.5911865234375\n",
            "228.2675018310547\n",
            "227.9439697265625\n",
            "227.62051391601562\n",
            "227.297119140625\n",
            "226.973876953125\n",
            "226.65072631835938\n",
            "226.3275909423828\n",
            "226.004638671875\n",
            "225.6817626953125\n",
            "225.3590087890625\n",
            "225.0363006591797\n",
            "224.7136688232422\n",
            "224.39111328125\n",
            "224.06869506835938\n",
            "223.746337890625\n",
            "223.424072265625\n",
            "223.10195922851562\n",
            "222.77993774414062\n",
            "222.45797729492188\n",
            "222.1361846923828\n",
            "221.81442260742188\n",
            "221.49276733398438\n",
            "221.1713409423828\n",
            "220.85000610351562\n",
            "220.5287322998047\n",
            "220.20761108398438\n",
            "219.88656616210938\n",
            "219.56570434570312\n",
            "219.24490356445312\n",
            "218.9241943359375\n",
            "218.6035614013672\n",
            "218.28311157226562\n",
            "217.9627227783203\n",
            "217.64242553710938\n",
            "217.322265625\n",
            "217.0022430419922\n",
            "216.6823272705078\n",
            "216.3624725341797\n",
            "216.04275512695312\n",
            "215.72317504882812\n",
            "215.40371704101562\n",
            "215.0844268798828\n",
            "214.7652130126953\n",
            "214.4461212158203\n",
            "214.1271514892578\n",
            "213.80825805664062\n",
            "213.489501953125\n",
            "213.17086791992188\n",
            "212.8523406982422\n",
            "212.53396606445312\n",
            "212.21572875976562\n",
            "211.8976287841797\n",
            "211.57968139648438\n",
            "211.2617645263672\n",
            "210.94400024414062\n",
            "210.6263885498047\n",
            "210.308837890625\n",
            "209.99154663085938\n",
            "209.67434692382812\n",
            "209.3572540283203\n",
            "209.040283203125\n",
            "208.7234344482422\n",
            "208.4066925048828\n",
            "208.0901641845703\n",
            "207.77371215820312\n",
            "207.4574432373047\n",
            "207.1412353515625\n",
            "206.8251953125\n",
            "206.5093231201172\n",
            "206.19357299804688\n",
            "205.87796020507812\n",
            "205.56246948242188\n",
            "205.2471466064453\n",
            "204.9319305419922\n",
            "204.61691284179688\n",
            "204.30203247070312\n",
            "203.98719787597656\n",
            "203.67251586914062\n",
            "203.35806274414062\n",
            "203.04371643066406\n",
            "202.7294921875\n",
            "202.4154052734375\n",
            "202.10153198242188\n",
            "201.7877960205078\n",
            "201.47415161132812\n",
            "201.16062927246094\n",
            "200.84738159179688\n",
            "200.53414916992188\n",
            "200.22116088867188\n",
            "199.90829467773438\n",
            "199.59559631347656\n",
            "199.2830352783203\n",
            "198.9705810546875\n",
            "198.65835571289062\n",
            "198.34622192382812\n",
            "198.03427124023438\n",
            "197.7224884033203\n",
            "197.4108428955078\n",
            "197.099365234375\n",
            "196.7880401611328\n",
            "196.4769287109375\n",
            "196.16586303710938\n",
            "195.85507202148438\n",
            "195.5443878173828\n",
            "195.2338104248047\n",
            "194.9234619140625\n",
            "194.61325073242188\n",
            "194.30319213867188\n",
            "193.99337768554688\n",
            "193.68365478515625\n",
            "193.37408447265625\n",
            "193.06471252441406\n",
            "192.7554931640625\n",
            "192.44650268554688\n",
            "192.13760375976562\n",
            "191.82882690429688\n",
            "191.5203399658203\n",
            "191.21197509765625\n",
            "190.90371704101562\n",
            "190.59573364257812\n",
            "190.287841796875\n",
            "189.98016357421875\n",
            "189.6726531982422\n",
            "189.36532592773438\n",
            "189.05816650390625\n",
            "188.7511444091797\n",
            "188.44436645507812\n",
            "188.1376953125\n",
            "187.8312225341797\n",
            "187.5249481201172\n",
            "187.21888732910156\n",
            "186.91293334960938\n",
            "186.60716247558594\n",
            "186.30160522460938\n",
            "185.99618530273438\n",
            "185.69100952148438\n",
            "185.3859100341797\n",
            "185.0811004638672\n",
            "184.77642822265625\n",
            "184.47195434570312\n",
            "184.16766357421875\n",
            "183.86355590820312\n",
            "183.55963134765625\n",
            "183.2559356689453\n",
            "182.95236206054688\n",
            "182.64901733398438\n",
            "182.3458709716797\n",
            "182.04287719726562\n",
            "181.74005126953125\n",
            "181.43746948242188\n",
            "181.13504028320312\n",
            "180.8328094482422\n",
            "180.53077697753906\n",
            "180.22898864746094\n",
            "179.92733764648438\n",
            "179.62591552734375\n",
            "179.32467651367188\n",
            "179.02359008789062\n",
            "178.7227783203125\n",
            "178.42208862304688\n",
            "178.12164306640625\n",
            "177.82138061523438\n",
            "177.5212860107422\n",
            "177.22146606445312\n",
            "176.92181396484375\n",
            "176.62232971191406\n",
            "176.32308959960938\n",
            "176.02398681640625\n",
            "175.72518920898438\n",
            "175.426513671875\n",
            "175.1280975341797\n",
            "174.829833984375\n",
            "174.53176879882812\n",
            "174.2340087890625\n",
            "173.93637084960938\n",
            "173.63894653320312\n",
            "173.34176635742188\n",
            "173.04476928710938\n",
            "172.74801635742188\n",
            "172.45143127441406\n",
            "172.15509033203125\n",
            "171.85897827148438\n",
            "171.56297302246094\n",
            "171.26722717285156\n",
            "170.9717254638672\n",
            "170.67640686035156\n",
            "170.38128662109375\n",
            "170.08645629882812\n",
            "169.7918243408203\n",
            "169.49734497070312\n",
            "169.20315551757812\n",
            "168.90916442871094\n",
            "168.6153106689453\n",
            "168.32174682617188\n",
            "168.0283966064453\n",
            "167.73532104492188\n",
            "167.44235229492188\n",
            "167.14964294433594\n",
            "166.85723876953125\n",
            "166.56494140625\n",
            "166.27291870117188\n",
            "165.9811248779297\n",
            "165.68955993652344\n",
            "165.39822387695312\n",
            "165.10708618164062\n",
            "164.81619262695312\n",
            "164.52557373046875\n",
            "164.23509216308594\n",
            "163.9448699951172\n",
            "163.65489196777344\n",
            "163.36514282226562\n",
            "163.07565307617188\n",
            "162.78634643554688\n",
            "162.49728393554688\n",
            "162.20848083496094\n",
            "161.91990661621094\n",
            "161.63150024414062\n",
            "161.34335327148438\n",
            "161.05545043945312\n",
            "160.76776123046875\n",
            "160.4803466796875\n",
            "160.19320678710938\n",
            "159.90621948242188\n",
            "159.61947631835938\n",
            "159.33303833007812\n",
            "159.0467529296875\n",
            "158.76075744628906\n",
            "158.47506713867188\n",
            "158.1894989013672\n",
            "157.90419006347656\n",
            "157.61912536621094\n",
            "157.33432006835938\n",
            "157.04977416992188\n",
            "156.76547241210938\n",
            "156.48141479492188\n",
            "156.19764709472656\n",
            "155.91403198242188\n",
            "155.63067626953125\n",
            "155.34756469726562\n",
            "155.06468200683594\n",
            "154.78207397460938\n",
            "154.49977111816406\n",
            "154.2176513671875\n",
            "153.93585205078125\n",
            "153.65426635742188\n",
            "153.3729248046875\n",
            "153.09182739257812\n",
            "152.8109893798828\n",
            "152.53036499023438\n",
            "152.24996948242188\n",
            "151.96983337402344\n",
            "151.69000244140625\n",
            "151.41036987304688\n",
            "151.1310577392578\n",
            "150.85195922851562\n",
            "150.57315063476562\n",
            "150.29458618164062\n",
            "150.01626586914062\n",
            "149.7382049560547\n",
            "149.46043395996094\n",
            "149.18289184570312\n",
            "148.9055938720703\n",
            "148.62857055664062\n",
            "148.3518524169922\n",
            "148.07534790039062\n",
            "147.79910278320312\n",
            "147.5231475830078\n",
            "147.2474365234375\n",
            "146.97193908691406\n",
            "146.69677734375\n",
            "146.42185974121094\n",
            "146.14718627929688\n",
            "145.872802734375\n",
            "145.5986785888672\n",
            "145.32476806640625\n",
            "145.0511474609375\n",
            "144.7777862548828\n",
            "144.50469970703125\n",
            "144.23190307617188\n",
            "143.95938110351562\n",
            "143.68716430664062\n",
            "143.4152374267578\n",
            "143.14352416992188\n",
            "142.8720703125\n",
            "142.60092163085938\n",
            "142.3300018310547\n",
            "142.05935668945312\n",
            "141.7889862060547\n",
            "141.5188446044922\n",
            "141.2490692138672\n",
            "140.9795379638672\n",
            "140.71029663085938\n",
            "140.4413299560547\n",
            "140.17262268066406\n",
            "139.90423583984375\n",
            "139.63601684570312\n",
            "139.3681640625\n",
            "139.10049438476562\n",
            "138.83322143554688\n",
            "138.56619262695312\n",
            "138.29942321777344\n",
            "138.03294372558594\n",
            "137.7667236328125\n",
            "137.50076293945312\n",
            "137.23513793945312\n",
            "136.9697723388672\n",
            "136.70468139648438\n",
            "136.43988037109375\n",
            "136.1753692626953\n",
            "135.9110870361328\n",
            "135.64718627929688\n",
            "135.38352966308594\n",
            "135.12014770507812\n",
            "134.85707092285156\n",
            "134.59420776367188\n",
            "134.3317108154297\n",
            "134.06951904296875\n",
            "133.80755615234375\n",
            "133.54588317871094\n",
            "133.2844696044922\n",
            "133.02337646484375\n",
            "132.76260375976562\n",
            "132.50210571289062\n",
            "132.24180603027344\n",
            "131.98196411132812\n",
            "131.72232055664062\n",
            "131.46298217773438\n",
            "131.20391845703125\n",
            "130.94517517089844\n",
            "130.68667602539062\n",
            "130.4285125732422\n",
            "130.1705780029297\n",
            "129.9130401611328\n",
            "129.65573120117188\n",
            "129.3987274169922\n",
            "129.1420440673828\n",
            "128.8856201171875\n",
            "128.62948608398438\n",
            "128.37364196777344\n",
            "128.11819458007812\n",
            "127.86289978027344\n",
            "127.60797119140625\n",
            "127.35337829589844\n",
            "127.09906005859375\n",
            "126.84503173828125\n",
            "126.5912857055664\n",
            "126.33785247802734\n",
            "126.08473205566406\n",
            "125.83189392089844\n",
            "125.5793685913086\n",
            "125.3271484375\n",
            "125.07523345947266\n",
            "124.82357025146484\n",
            "124.5722427368164\n",
            "124.32124328613281\n",
            "124.070556640625\n",
            "123.82015228271484\n",
            "123.570068359375\n",
            "123.32022857666016\n",
            "123.07076263427734\n",
            "122.82157135009766\n",
            "122.57266998291016\n",
            "122.3240737915039\n",
            "122.07576751708984\n",
            "121.82781982421875\n",
            "121.58016204833984\n",
            "121.332763671875\n",
            "121.0857162475586\n",
            "120.8389892578125\n",
            "120.5925521850586\n",
            "120.34645080566406\n",
            "120.10069274902344\n",
            "119.85518646240234\n",
            "119.6099624633789\n",
            "119.36507415771484\n",
            "119.12052154541016\n",
            "118.87625885009766\n",
            "118.6323013305664\n",
            "118.38868713378906\n",
            "118.1453628540039\n",
            "117.9023666381836\n",
            "117.65965270996094\n",
            "117.41725158691406\n",
            "117.1751708984375\n",
            "116.93338775634766\n",
            "116.69197082519531\n",
            "116.45082092285156\n",
            "116.2099838256836\n",
            "115.9694595336914\n",
            "115.72930908203125\n",
            "115.48942565917969\n",
            "115.2498779296875\n",
            "115.01058197021484\n",
            "114.77169036865234\n",
            "114.53304290771484\n",
            "114.29475402832031\n",
            "114.05680084228516\n",
            "113.81913757324219\n",
            "113.58177185058594\n",
            "113.3447494506836\n",
            "113.1080093383789\n",
            "112.87164306640625\n",
            "112.6356201171875\n",
            "112.39986419677734\n",
            "112.16447448730469\n",
            "111.92935943603516\n",
            "111.694580078125\n",
            "111.46012115478516\n",
            "111.22599792480469\n",
            "110.99214172363281\n",
            "110.75865173339844\n",
            "110.52549743652344\n",
            "110.2926254272461\n",
            "110.06013488769531\n",
            "109.8279037475586\n",
            "109.59605407714844\n",
            "109.36441802978516\n",
            "109.13321685791016\n",
            "108.90230560302734\n",
            "108.67171478271484\n",
            "108.44146728515625\n",
            "108.21148681640625\n",
            "107.98188781738281\n",
            "107.7525863647461\n",
            "107.52362060546875\n",
            "107.29496765136719\n",
            "107.066650390625\n",
            "106.8386459350586\n",
            "106.61100006103516\n",
            "106.38362121582031\n",
            "106.15663146972656\n",
            "105.92997741699219\n",
            "105.7035903930664\n",
            "105.47758483886719\n",
            "105.25189208984375\n",
            "105.02652740478516\n",
            "104.80145263671875\n",
            "104.57672119140625\n",
            "104.3523178100586\n",
            "104.1282730102539\n",
            "103.9045181274414\n",
            "103.6810531616211\n",
            "103.45799255371094\n",
            "103.23521423339844\n",
            "103.01277923583984\n",
            "102.79072570800781\n",
            "102.5689697265625\n",
            "102.3475341796875\n",
            "102.12644958496094\n",
            "101.90571594238281\n",
            "101.68524169921875\n",
            "101.46512603759766\n",
            "101.24536895751953\n",
            "101.02587890625\n",
            "100.80677795410156\n",
            "100.5880126953125\n",
            "100.36959075927734\n",
            "100.15142822265625\n",
            "99.93364715576172\n",
            "99.71620178222656\n",
            "99.49906921386719\n",
            "99.28227233886719\n",
            "99.0657958984375\n",
            "98.84967041015625\n",
            "98.63388061523438\n",
            "98.41841125488281\n",
            "98.20332336425781\n",
            "97.98854064941406\n",
            "97.77403259277344\n",
            "97.55992889404297\n",
            "97.34615325927734\n",
            "97.1326675415039\n",
            "96.9195327758789\n",
            "96.70673370361328\n",
            "96.49429321289062\n",
            "96.28218841552734\n",
            "96.07041931152344\n",
            "95.85899353027344\n",
            "95.64783477783203\n",
            "95.43706512451172\n",
            "95.2266616821289\n",
            "95.0165786743164\n",
            "94.80679321289062\n",
            "94.59734344482422\n",
            "94.38823699951172\n",
            "94.17948913574219\n",
            "93.97108459472656\n",
            "93.76299285888672\n",
            "93.55524444580078\n",
            "93.3477783203125\n",
            "93.14070892333984\n",
            "92.93401336669922\n",
            "92.72756958007812\n",
            "92.52149963378906\n",
            "92.31575775146484\n",
            "92.11038970947266\n"
          ]
        }
      ]
    },
    {
      "cell_type": "markdown",
      "source": [
        "# Back to Mnist"
      ],
      "metadata": {
        "id": "3wJmEows85vv"
      }
    },
    {
      "cell_type": "code",
      "source": [
        "train_x = torch.cat([stacked_threes, stacked_sevens]).view(-1, 28*28)"
      ],
      "metadata": {
        "id": "BM7diFCjSmEU"
      },
      "execution_count": 62,
      "outputs": []
    },
    {
      "cell_type": "code",
      "source": [
        "train_y = tensor([1]*len(threes) + [0]*len(sevens)).unsqueeze(1)\n",
        "train_x.shape,train_y.shape"
      ],
      "metadata": {
        "colab": {
          "base_uri": "https://localhost:8080/"
        },
        "id": "LRsk9_DLU5YR",
        "outputId": "cc051967-5dc1-4cf3-bec3-33eb89712cd0"
      },
      "execution_count": 63,
      "outputs": [
        {
          "output_type": "execute_result",
          "data": {
            "text/plain": [
              "(torch.Size([12396, 784]), torch.Size([12396, 1]))"
            ]
          },
          "metadata": {},
          "execution_count": 63
        }
      ]
    },
    {
      "cell_type": "code",
      "source": [
        "dset = list(zip(train_x,train_y))\n",
        "x,y = dset[0]\n",
        "x.shape,y"
      ],
      "metadata": {
        "colab": {
          "base_uri": "https://localhost:8080/"
        },
        "id": "OkCZ3HplVIqt",
        "outputId": "84efa889-14a5-47e2-a0bb-56debc80ede5"
      },
      "execution_count": 64,
      "outputs": [
        {
          "output_type": "execute_result",
          "data": {
            "text/plain": [
              "(torch.Size([784]), tensor([1]))"
            ]
          },
          "metadata": {},
          "execution_count": 64
        }
      ]
    },
    {
      "cell_type": "code",
      "source": [
        "valid_x = torch.cat([valid_3_tens, valid_7_tens]).view(-1, 28*28)\n",
        "valid_y = tensor([1]*len(valid_3_tens) + [0]*len(valid_7_tens)).unsqueeze(1)\n",
        "valid_dset = list(zip(valid_x,valid_y))"
      ],
      "metadata": {
        "id": "XvsdiNfQVoJ8"
      },
      "execution_count": 65,
      "outputs": []
    },
    {
      "cell_type": "code",
      "source": [
        "def init_params(size, std=1.0): return (torch.randn(size)*std).requires_grad_()"
      ],
      "metadata": {
        "id": "dxnnf_QVV-eD"
      },
      "execution_count": 66,
      "outputs": []
    },
    {
      "cell_type": "code",
      "source": [
        "weights = init_params((28*28,1))\n",
        "bias = init_params(1)"
      ],
      "metadata": {
        "id": "hEXjXs-CWLmx"
      },
      "execution_count": 67,
      "outputs": []
    },
    {
      "cell_type": "code",
      "source": [
        "(train_x[0]*weights.T).sum() + bias"
      ],
      "metadata": {
        "colab": {
          "base_uri": "https://localhost:8080/"
        },
        "id": "PK7NFt-5WNsB",
        "outputId": "753e4a61-b5f4-4f65-9c42-c01bf10c27d1"
      },
      "execution_count": 68,
      "outputs": [
        {
          "output_type": "execute_result",
          "data": {
            "text/plain": [
              "tensor([20.2336], grad_fn=<AddBackward0>)"
            ]
          },
          "metadata": {},
          "execution_count": 68
        }
      ]
    },
    {
      "cell_type": "code",
      "source": [
        "(train_x*weights.T).sum(1).unsqueeze(1)+bias"
      ],
      "metadata": {
        "colab": {
          "base_uri": "https://localhost:8080/"
        },
        "id": "6rgSL_dMXVHy",
        "outputId": "acea2cd9-f317-4405-aa9e-8ee2c9727675"
      },
      "execution_count": 69,
      "outputs": [
        {
          "output_type": "execute_result",
          "data": {
            "text/plain": [
              "tensor([[20.2336],\n",
              "        [17.0644],\n",
              "        [15.2384],\n",
              "        ...,\n",
              "        [18.3804],\n",
              "        [23.8567],\n",
              "        [28.6816]], grad_fn=<AddBackward0>)"
            ]
          },
          "metadata": {},
          "execution_count": 69
        }
      ]
    },
    {
      "cell_type": "code",
      "source": [
        "def linear1(xb): return xb@weights + bias\n",
        "preds = linear1(train_x)\n",
        "preds"
      ],
      "metadata": {
        "colab": {
          "base_uri": "https://localhost:8080/"
        },
        "id": "6ku9TkYiX9DE",
        "outputId": "55cabe2e-d76b-4363-d96d-0a045d800116"
      },
      "execution_count": 70,
      "outputs": [
        {
          "output_type": "execute_result",
          "data": {
            "text/plain": [
              "tensor([[20.2336],\n",
              "        [17.0644],\n",
              "        [15.2384],\n",
              "        ...,\n",
              "        [18.3804],\n",
              "        [23.8567],\n",
              "        [28.6816]], grad_fn=<AddBackward0>)"
            ]
          },
          "metadata": {},
          "execution_count": 70
        }
      ]
    },
    {
      "cell_type": "code",
      "source": [
        "corrects = (preds>0.0).float() == train_y\n",
        "corrects"
      ],
      "metadata": {
        "colab": {
          "base_uri": "https://localhost:8080/"
        },
        "id": "s7MWRWaOY38C",
        "outputId": "6171f9db-b998-47eb-d612-f0d30e468c7a"
      },
      "execution_count": 71,
      "outputs": [
        {
          "output_type": "execute_result",
          "data": {
            "text/plain": [
              "tensor([[ True],\n",
              "        [ True],\n",
              "        [ True],\n",
              "        ...,\n",
              "        [False],\n",
              "        [False],\n",
              "        [False]])"
            ]
          },
          "metadata": {},
          "execution_count": 71
        }
      ]
    },
    {
      "cell_type": "code",
      "source": [
        "corrects.float().mean().item()"
      ],
      "metadata": {
        "colab": {
          "base_uri": "https://localhost:8080/"
        },
        "id": "jIlwMdWzaT7c",
        "outputId": "ad7943f9-2ece-4ed9-9536-a3a1b02dcca5"
      },
      "execution_count": 72,
      "outputs": [
        {
          "output_type": "execute_result",
          "data": {
            "text/plain": [
              "0.4912068545818329"
            ]
          },
          "metadata": {},
          "execution_count": 72
        }
      ]
    },
    {
      "cell_type": "code",
      "source": [
        "with torch.no_grad(): weights[0] *= 1.0001"
      ],
      "metadata": {
        "id": "TXyYrwUmaXZO"
      },
      "execution_count": 73,
      "outputs": []
    },
    {
      "cell_type": "code",
      "source": [
        "preds = linear1(train_x)\n",
        "((preds>0.0).float() == train_y).float().mean().item()"
      ],
      "metadata": {
        "colab": {
          "base_uri": "https://localhost:8080/"
        },
        "id": "EhD9eT6wakc7",
        "outputId": "d37a2a5e-d628-4bc1-c703-78af8ed8442e"
      },
      "execution_count": 74,
      "outputs": [
        {
          "output_type": "execute_result",
          "data": {
            "text/plain": [
              "0.4912068545818329"
            ]
          },
          "metadata": {},
          "execution_count": 74
        }
      ]
    },
    {
      "cell_type": "code",
      "source": [
        "trgts  = tensor([1,0,1])\n",
        "prds   = tensor([0.9, 0.4, 0.2])"
      ],
      "metadata": {
        "id": "e-8aGuJlapsh"
      },
      "execution_count": 75,
      "outputs": []
    },
    {
      "cell_type": "code",
      "source": [
        "def mnist_loss(predictions, targets):\n",
        "    return torch.where(targets==1, 1-predictions, predictions).mean()"
      ],
      "metadata": {
        "id": "1PXyEqhFcBAb"
      },
      "execution_count": 76,
      "outputs": []
    },
    {
      "cell_type": "code",
      "source": [
        "mnist_loss(trgts, prds)"
      ],
      "metadata": {
        "colab": {
          "base_uri": "https://localhost:8080/",
          "height": 253
        },
        "id": "8_9C41gacDl6",
        "outputId": "5839acf3-7eb7-4c9e-a91c-bd9b4a70cb1d"
      },
      "execution_count": 77,
      "outputs": [
        {
          "output_type": "error",
          "ename": "RuntimeError",
          "evalue": "ignored",
          "traceback": [
            "\u001b[0;31m---------------------------------------------------------------------------\u001b[0m",
            "\u001b[0;31mRuntimeError\u001b[0m                              Traceback (most recent call last)",
            "\u001b[0;32m<ipython-input-77-45d5aa558944>\u001b[0m in \u001b[0;36m<cell line: 1>\u001b[0;34m()\u001b[0m\n\u001b[0;32m----> 1\u001b[0;31m \u001b[0mmnist_loss\u001b[0m\u001b[0;34m(\u001b[0m\u001b[0mtrgts\u001b[0m\u001b[0;34m,\u001b[0m \u001b[0mprds\u001b[0m\u001b[0;34m)\u001b[0m\u001b[0;34m\u001b[0m\u001b[0;34m\u001b[0m\u001b[0m\n\u001b[0m",
            "\u001b[0;32m<ipython-input-76-75dc623634f9>\u001b[0m in \u001b[0;36mmnist_loss\u001b[0;34m(predictions, targets)\u001b[0m\n\u001b[1;32m      1\u001b[0m \u001b[0;32mdef\u001b[0m \u001b[0mmnist_loss\u001b[0m\u001b[0;34m(\u001b[0m\u001b[0mpredictions\u001b[0m\u001b[0;34m,\u001b[0m \u001b[0mtargets\u001b[0m\u001b[0;34m)\u001b[0m\u001b[0;34m:\u001b[0m\u001b[0;34m\u001b[0m\u001b[0;34m\u001b[0m\u001b[0m\n\u001b[0;32m----> 2\u001b[0;31m     \u001b[0;32mreturn\u001b[0m \u001b[0mtorch\u001b[0m\u001b[0;34m.\u001b[0m\u001b[0mwhere\u001b[0m\u001b[0;34m(\u001b[0m\u001b[0mtargets\u001b[0m\u001b[0;34m==\u001b[0m\u001b[0;36m1\u001b[0m\u001b[0;34m,\u001b[0m \u001b[0;36m1\u001b[0m\u001b[0;34m-\u001b[0m\u001b[0mpredictions\u001b[0m\u001b[0;34m,\u001b[0m \u001b[0mpredictions\u001b[0m\u001b[0;34m)\u001b[0m\u001b[0;34m.\u001b[0m\u001b[0mmean\u001b[0m\u001b[0;34m(\u001b[0m\u001b[0;34m)\u001b[0m\u001b[0;34m\u001b[0m\u001b[0;34m\u001b[0m\u001b[0m\n\u001b[0m",
            "\u001b[0;31mRuntimeError\u001b[0m: mean(): could not infer output dtype. Input dtype must be either a floating point or complex dtype. Got: Long"
          ]
        }
      ]
    },
    {
      "cell_type": "code",
      "source": [
        "help(torch.where)"
      ],
      "metadata": {
        "id": "nBp3MuzYcFwP"
      },
      "execution_count": null,
      "outputs": []
    },
    {
      "cell_type": "code",
      "source": [
        "torch.where(trgts==1, 1-prds, prds)"
      ],
      "metadata": {
        "colab": {
          "base_uri": "https://localhost:8080/"
        },
        "id": "fHEO_apVeAYs",
        "outputId": "a6f38586-27d8-4058-d594-ac9d94329e33"
      },
      "execution_count": 87,
      "outputs": [
        {
          "output_type": "execute_result",
          "data": {
            "text/plain": [
              "tensor([0.1000, 0.4000, 0.8000])"
            ]
          },
          "metadata": {},
          "execution_count": 87
        }
      ]
    },
    {
      "cell_type": "code",
      "source": [
        "def sigmoid(x): return 1/(1+torch.exp(-x))"
      ],
      "metadata": {
        "id": "4jGzUqmGeeeT"
      },
      "execution_count": 88,
      "outputs": []
    },
    {
      "cell_type": "code",
      "source": [
        "plot_function(sigmoid)"
      ],
      "metadata": {
        "colab": {
          "base_uri": "https://localhost:8080/",
          "height": 372
        },
        "id": "V_5rO1KRezb0",
        "outputId": "51cf1677-3eae-4bbe-c0d3-79e45d9576eb"
      },
      "execution_count": 89,
      "outputs": [
        {
          "output_type": "display_data",
          "data": {
            "text/plain": [
              "<Figure size 600x400 with 1 Axes>"
            ],
            "image/png": "[encoded data removed]"
          },
          "metadata": {}
        }
      ]
    },
    {
      "cell_type": "code",
      "source": [
        "plot_function(torch.sigmoid, title='Sigmoid', min=-4, max=4)"
      ],
      "metadata": {
        "colab": {
          "base_uri": "https://localhost:8080/",
          "height": 396
        },
        "id": "2DkxCLjyfYIZ",
        "outputId": "edf63185-1b29-47b7-cf76-4d5cab8e4e93"
      },
      "execution_count": 90,
      "outputs": [
        {
          "output_type": "display_data",
          "data": {
            "text/plain": [
              "<Figure size 600x400 with 1 Axes>"
            ],
            "image/png": "[encoded data removed]"
          },
          "metadata": {}
        }
      ]
    },
    {
      "cell_type": "code",
      "source": [
        "def mnist_loss(predictions, targets):\n",
        "    predictions = predictions.sigmoid()\n",
        "    return torch.where(targets==1, 1-predictions, predictions).mean()"
      ],
      "metadata": {
        "id": "9xEZC-v_e5CJ"
      },
      "execution_count": 91,
      "outputs": []
    },
    {
      "cell_type": "code",
      "source": [
        "coll = range(15)\n",
        "dl = DataLoader(coll, batch_size=5, shuffle=True)\n",
        "list(dl)"
      ],
      "metadata": {
        "colab": {
          "base_uri": "https://localhost:8080/"
        },
        "id": "uduYk5FKn3C_",
        "outputId": "ef403f28-309a-459e-930b-704e55ca4b82"
      },
      "execution_count": 92,
      "outputs": [
        {
          "output_type": "execute_result",
          "data": {
            "text/plain": [
              "[tensor([ 3, 12,  8, 10,  2]),\n",
              " tensor([ 9,  4,  7, 14,  5]),\n",
              " tensor([ 1, 13,  0,  6, 11])]"
            ]
          },
          "metadata": {},
          "execution_count": 92
        }
      ]
    },
    {
      "cell_type": "code",
      "source": [
        "list(range(15))"
      ],
      "metadata": {
        "colab": {
          "base_uri": "https://localhost:8080/"
        },
        "id": "kS3Nx-C3pZsg",
        "outputId": "79cdf086-a788-4203-cd55-7c68d1f942ba"
      },
      "execution_count": 93,
      "outputs": [
        {
          "output_type": "execute_result",
          "data": {
            "text/plain": [
              "[0, 1, 2, 3, 4, 5, 6, 7, 8, 9, 10, 11, 12, 13, 14]"
            ]
          },
          "metadata": {},
          "execution_count": 93
        }
      ]
    },
    {
      "cell_type": "code",
      "source": [
        "ds = L(enumerate(string.ascii_lowercase))\n",
        "ds"
      ],
      "metadata": {
        "colab": {
          "base_uri": "https://localhost:8080/"
        },
        "id": "T_mnp_-ypZ7Q",
        "outputId": "a6915b3a-23af-43fc-c378-4e721bd8bac3"
      },
      "execution_count": 94,
      "outputs": [
        {
          "output_type": "execute_result",
          "data": {
            "text/plain": [
              "(#26) [(0, 'a'),(1, 'b'),(2, 'c'),(3, 'd'),(4, 'e'),(5, 'f'),(6, 'g'),(7, 'h'),(8, 'i'),(9, 'j')...]"
            ]
          },
          "metadata": {},
          "execution_count": 94
        }
      ]
    },
    {
      "cell_type": "code",
      "source": [
        "dl = DataLoader(ds, batch_size=5)\n",
        "list(dl)"
      ],
      "metadata": {
        "colab": {
          "base_uri": "https://localhost:8080/"
        },
        "id": "yZ9s76vztUop",
        "outputId": "653f0bf8-4a26-4b35-94f1-2aa9134c1b80"
      },
      "execution_count": 95,
      "outputs": [
        {
          "output_type": "execute_result",
          "data": {
            "text/plain": [
              "[(tensor([0, 1, 2, 3, 4]), ('a', 'b', 'c', 'd', 'e')),\n",
              " (tensor([5, 6, 7, 8, 9]), ('f', 'g', 'h', 'i', 'j')),\n",
              " (tensor([10, 11, 12, 13, 14]), ('k', 'l', 'm', 'n', 'o')),\n",
              " (tensor([15, 16, 17, 18, 19]), ('p', 'q', 'r', 's', 't')),\n",
              " (tensor([20, 21, 22, 23, 24]), ('u', 'v', 'w', 'x', 'y')),\n",
              " (tensor([25]), ('z',))]"
            ]
          },
          "metadata": {},
          "execution_count": 95
        }
      ]
    },
    {
      "cell_type": "code",
      "source": [
        "weights = init_params((28*28,1))\n",
        "bias = init_params(1)"
      ],
      "metadata": {
        "id": "M8f_NxYMtW8g"
      },
      "execution_count": 96,
      "outputs": []
    },
    {
      "cell_type": "code",
      "source": [],
      "metadata": {
        "id": "HXSyJpVPudne"
      },
      "execution_count": 96,
      "outputs": []
    },
    {
      "cell_type": "code",
      "source": [
        "dl = DataLoader(dset, batch_size=256)\n",
        "xb,yb = first(dl)\n",
        "xb.shape,yb.shape"
      ],
      "metadata": {
        "colab": {
          "base_uri": "https://localhost:8080/"
        },
        "id": "BuysW47vuOnu",
        "outputId": "7ab9c236-2875-436e-ae9a-53e246f4395b"
      },
      "execution_count": 97,
      "outputs": [
        {
          "output_type": "execute_result",
          "data": {
            "text/plain": [
              "(torch.Size([256, 784]), torch.Size([256, 1]))"
            ]
          },
          "metadata": {},
          "execution_count": 97
        }
      ]
    },
    {
      "cell_type": "code",
      "source": [
        "valid_dl = DataLoader(valid_dset, batch_size=256)"
      ],
      "metadata": {
        "id": "rkaL5lhru1po"
      },
      "execution_count": 98,
      "outputs": []
    },
    {
      "cell_type": "code",
      "source": [
        "batch = train_x[:4]\n",
        "batch.shape"
      ],
      "metadata": {
        "colab": {
          "base_uri": "https://localhost:8080/"
        },
        "id": "Ow2g3ofPu4Bb",
        "outputId": "15cd58f9-c6ec-4ba2-d7ed-9fa79a3eed1f"
      },
      "execution_count": 99,
      "outputs": [
        {
          "output_type": "execute_result",
          "data": {
            "text/plain": [
              "torch.Size([4, 784])"
            ]
          },
          "metadata": {},
          "execution_count": 99
        }
      ]
    },
    {
      "cell_type": "code",
      "source": [
        "preds = linear1(batch)\n",
        "preds"
      ],
      "metadata": {
        "colab": {
          "base_uri": "https://localhost:8080/"
        },
        "id": "fljpoRApvMbx",
        "outputId": "f5794e74-d9c0-436f-ecd9-35264e1c0000"
      },
      "execution_count": 100,
      "outputs": [
        {
          "output_type": "execute_result",
          "data": {
            "text/plain": [
              "tensor([[  2.8183],\n",
              "        [ -0.1760],\n",
              "        [-10.4714],\n",
              "        [  3.3961]], grad_fn=<AddBackward0>)"
            ]
          },
          "metadata": {},
          "execution_count": 100
        }
      ]
    },
    {
      "cell_type": "code",
      "source": [
        "loss = mnist_loss(preds, train_y[:4])\n",
        "loss"
      ],
      "metadata": {
        "colab": {
          "base_uri": "https://localhost:8080/"
        },
        "id": "NBydEoQQvVvw",
        "outputId": "a57da651-a64f-41bd-d733-1c5757754813"
      },
      "execution_count": 101,
      "outputs": [
        {
          "output_type": "execute_result",
          "data": {
            "text/plain": [
              "tensor(0.4082, grad_fn=<MeanBackward0>)"
            ]
          },
          "metadata": {},
          "execution_count": 101
        }
      ]
    },
    {
      "cell_type": "code",
      "source": [
        "loss.backward()\n",
        "weights.grad.shape,weights.grad.mean(),bias.grad"
      ],
      "metadata": {
        "colab": {
          "base_uri": "https://localhost:8080/"
        },
        "id": "lhhhB1DPvmyG",
        "outputId": "ce05b58e-db32-4d86-b3e6-8abf759009f1"
      },
      "execution_count": 102,
      "outputs": [
        {
          "output_type": "execute_result",
          "data": {
            "text/plain": [
              "(torch.Size([784, 1]), tensor(-0.0121), tensor([-0.0832]))"
            ]
          },
          "metadata": {},
          "execution_count": 102
        }
      ]
    },
    {
      "cell_type": "code",
      "source": [
        "def calc_grad(xb, yb, model):\n",
        "    weights.grad.zero_()\n",
        "    bias.grad.zero_();\n",
        "    preds = model(xb)\n",
        "    loss = mnist_loss(preds, yb)\n",
        "    loss.backward()\n",
        "calc_grad(batch, train_y[:4], linear1)\n",
        "weights.grad.mean(),bias.grad"
      ],
      "metadata": {
        "colab": {
          "base_uri": "https://localhost:8080/"
        },
        "id": "QtVOSRQ7vtwd",
        "outputId": "d66204c2-2fda-4078-cf1e-a80637fafe8c"
      },
      "execution_count": 103,
      "outputs": [
        {
          "output_type": "execute_result",
          "data": {
            "text/plain": [
              "(tensor(-0.0121), tensor([-0.0832]))"
            ]
          },
          "metadata": {},
          "execution_count": 103
        }
      ]
    },
    {
      "cell_type": "code",
      "source": [
        "def train_epoch(model, lr, params):\n",
        "    for xb,yb in dl:\n",
        "        calc_grad(xb, yb, model)\n",
        "        for p in params:\n",
        "            p.data -= p.grad*lr\n",
        "            p.grad.zero_()"
      ],
      "metadata": {
        "id": "UrfSxyixwJqX"
      },
      "execution_count": 104,
      "outputs": []
    },
    {
      "cell_type": "code",
      "source": [
        "def batch_accuracy(xb, yb):\n",
        "    preds = xb.sigmoid()\n",
        "    correct = (preds>0.5) == yb\n",
        "    return correct.float().mean()"
      ],
      "metadata": {
        "id": "BD7iSuY2xbiF"
      },
      "execution_count": 105,
      "outputs": []
    },
    {
      "cell_type": "code",
      "source": [
        "batch_accuracy(linear1(batch), train_y[:4])"
      ],
      "metadata": {
        "colab": {
          "base_uri": "https://localhost:8080/"
        },
        "id": "gIi5mJz9xc7H",
        "outputId": "a5576c7d-efac-4124-8a02-612353a89b1b"
      },
      "execution_count": 106,
      "outputs": [
        {
          "output_type": "execute_result",
          "data": {
            "text/plain": [
              "tensor(0.5000)"
            ]
          },
          "metadata": {},
          "execution_count": 106
        }
      ]
    },
    {
      "cell_type": "code",
      "source": [
        "def validate_epoch(model):\n",
        "    accs = [batch_accuracy(model(xb), yb) for xb,yb in valid_dl]\n",
        "    return round(torch.stack(accs).mean().item(), 4)"
      ],
      "metadata": {
        "id": "MjcbOVVjxjR7"
      },
      "execution_count": 107,
      "outputs": []
    },
    {
      "cell_type": "code",
      "source": [
        "validate_epoch(linear1)"
      ],
      "metadata": {
        "colab": {
          "base_uri": "https://localhost:8080/"
        },
        "id": "XG3Ydfk7x17L",
        "outputId": "6180c26d-7385-47de-a049-757770153f18"
      },
      "execution_count": 108,
      "outputs": [
        {
          "output_type": "execute_result",
          "data": {
            "text/plain": [
              "0.5464"
            ]
          },
          "metadata": {},
          "execution_count": 108
        }
      ]
    },
    {
      "cell_type": "code",
      "source": [
        "lr = 1.\n",
        "params = weights,bias\n",
        "train_epoch(linear1, lr, params)\n",
        "validate_epoch(linear1)"
      ],
      "metadata": {
        "colab": {
          "base_uri": "https://localhost:8080/"
        },
        "id": "RrIZ-9iCx3tM",
        "outputId": "17e9c557-fb4d-4290-cf4a-a2ef35ea9ab0"
      },
      "execution_count": 109,
      "outputs": [
        {
          "output_type": "execute_result",
          "data": {
            "text/plain": [
              "0.6542"
            ]
          },
          "metadata": {},
          "execution_count": 109
        }
      ]
    },
    {
      "cell_type": "code",
      "source": [
        "for i in range(1):\n",
        "    train_epoch(linear1, lr, params)\n",
        "    print(validate_epoch(linear1))"
      ],
      "metadata": {
        "colab": {
          "base_uri": "https://localhost:8080/"
        },
        "id": "4DBQ-HddyAxI",
        "outputId": "0021c113-6d61-4174-e1ce-836ff8db65ec"
      },
      "execution_count": 110,
      "outputs": [
        {
          "output_type": "stream",
          "name": "stdout",
          "text": [
            "0.8812\n"
          ]
        }
      ]
    },
    {
      "cell_type": "markdown",
      "source": [
        "# Using Optimizer"
      ],
      "metadata": {
        "id": "QAxfqBNnyF-1"
      }
    },
    {
      "cell_type": "code",
      "source": [
        "linear_model = nn.Linear(28*28,1)"
      ],
      "metadata": {
        "id": "WFEPwxqs1VTZ"
      },
      "execution_count": 111,
      "outputs": []
    },
    {
      "cell_type": "code",
      "source": [
        "w,b = linear_model.parameters()\n",
        "w.shape,b.shape"
      ],
      "metadata": {
        "colab": {
          "base_uri": "https://localhost:8080/"
        },
        "id": "Aiceq3kO1Vq9",
        "outputId": "28cdeb80-ebf4-40d4-e272-46ab73fe6852"
      },
      "execution_count": 112,
      "outputs": [
        {
          "output_type": "execute_result",
          "data": {
            "text/plain": [
              "(torch.Size([1, 784]), torch.Size([1]))"
            ]
          },
          "metadata": {},
          "execution_count": 112
        }
      ]
    },
    {
      "cell_type": "code",
      "source": [
        "class BasicOptim:\n",
        "    def __init__(self,params,lr): self.params,self.lr = list(params),lr\n",
        "\n",
        "    def step(self, *args, **kwargs):\n",
        "        for p in self.params: p.data -= p.grad.data * self.lr\n",
        "\n",
        "    def zero_grad(self, *args, **kwargs):\n",
        "        for p in self.params: p.grad = None"
      ],
      "metadata": {
        "id": "QHHX0eS31XO5"
      },
      "execution_count": 113,
      "outputs": []
    },
    {
      "cell_type": "code",
      "source": [
        "opt = BasicOptim(linear_model.parameters(), lr)"
      ],
      "metadata": {
        "id": "ap_iBrAN2qf0"
      },
      "execution_count": 114,
      "outputs": []
    },
    {
      "cell_type": "code",
      "source": [
        "def train_epoch(model):\n",
        "    for xb,yb in dl:\n",
        "        calc_grad(xb, yb, model)\n",
        "        opt.step()\n",
        "        opt.zero_grad()"
      ],
      "metadata": {
        "id": "Mm2GWM8J2te-"
      },
      "execution_count": 115,
      "outputs": []
    },
    {
      "cell_type": "code",
      "source": [
        "def train_model(model, epochs):\n",
        "    for i in range(epochs):\n",
        "        train_epoch(model)\n",
        "        print(validate_epoch(model), end=' ')"
      ],
      "metadata": {
        "id": "_TAnM_342txu"
      },
      "execution_count": 116,
      "outputs": []
    },
    {
      "cell_type": "code",
      "source": [
        "train_model(linear_model, 10)"
      ],
      "metadata": {
        "colab": {
          "base_uri": "https://localhost:8080/"
        },
        "id": "0VUXeds73jJd",
        "outputId": "ed521649-9d8d-4e89-cd0e-2944e4db1b69"
      },
      "execution_count": 117,
      "outputs": [
        {
          "output_type": "stream",
          "name": "stdout",
          "text": [
            "0.4932 0.8471 0.8374 0.9106 0.9326 0.9468 0.956 0.9629 0.9658 0.9673 "
          ]
        }
      ]
    },
    {
      "cell_type": "code",
      "source": [
        "linear_model = nn.Linear(28*28,1)\n",
        "w,b = linear_model.parameters()\n",
        "w.shape,b.shape\n",
        "class BasicOptim:\n",
        "    def __init__(self,params,lr): self.params,self.lr = list(params),lr\n",
        "\n",
        "    def step(self, *args, **kwargs):\n",
        "        for p in self.params: p.data -= p.grad.data * self.lr\n",
        "\n",
        "    def zero_grad(self, *args, **kwargs):\n",
        "        for p in self.params: p.grad = None\n",
        "opt = BasicOptim(linear_model.parameters(), lr)\n",
        "def train_epoch(model):\n",
        "    for xb,yb in dl:\n",
        "        calc_grad(xb, yb, model)\n",
        "        opt.step()\n",
        "        opt.zero_grad()\n",
        "validate_epoch(linear_model)\n",
        "def train_model(model, epochs):\n",
        "    for i in range(epochs):\n",
        "        train_epoch(model)\n",
        "        print(validate_epoch(model), end=' ')\n",
        "train_model(linear_model, 20)"
      ],
      "metadata": {
        "colab": {
          "base_uri": "https://localhost:8080/"
        },
        "id": "48mWX8yz3tE5",
        "outputId": "b2461109-d9a5-4b65-8135-bfbb6de61bec"
      },
      "execution_count": 118,
      "outputs": [
        {
          "output_type": "stream",
          "name": "stdout",
          "text": [
            "0.4932 0.8701 0.8296 0.9111 0.9341 0.9468 0.9555 0.9619 0.9653 0.9678 0.9697 0.9717 0.9741 0.9751 0.9761 0.9765 0.977 0.9775 0.978 0.9785 "
          ]
        }
      ]
    },
    {
      "cell_type": "markdown",
      "source": [
        "# fastai SGD and FIT\n"
      ],
      "metadata": {
        "id": "LBL2vGzY6Oe-"
      }
    },
    {
      "cell_type": "code",
      "source": [
        "linear_model = nn.Linear(28*28,1)\n",
        "opt = SGD(linear_model.parameters(), lr)\n",
        "train_model(linear_model, 20)"
      ],
      "metadata": {
        "colab": {
          "base_uri": "https://localhost:8080/"
        },
        "id": "Y6mZ9P3w5p7u",
        "outputId": "96a50db4-73a0-4040-e51c-a3d6f137a4ca"
      },
      "execution_count": 119,
      "outputs": [
        {
          "output_type": "stream",
          "name": "stdout",
          "text": [
            "0.4932 0.8603 0.8291 0.9101 0.9321 0.9458 0.956 0.9619 0.9658 0.9673 0.9687 0.9712 0.9741 0.9746 0.9761 0.9761 0.9775 0.978 0.978 0.979 "
          ]
        }
      ]
    },
    {
      "cell_type": "code",
      "source": [
        "dls = DataLoaders(dl, valid_dl)"
      ],
      "metadata": {
        "id": "8hdtYD_h6fwY"
      },
      "execution_count": 120,
      "outputs": []
    },
    {
      "cell_type": "code",
      "source": [
        "learn = Learner(dls, nn.Linear(28*28,1), opt_func=SGD,\n",
        "                loss_func=mnist_loss, metrics=batch_accuracy)"
      ],
      "metadata": {
        "id": "MjQkX7iO6pbO"
      },
      "execution_count": 121,
      "outputs": []
    },
    {
      "cell_type": "code",
      "source": [
        "learn.fit(10, lr=lr)"
      ],
      "metadata": {
        "colab": {
          "base_uri": "https://localhost:8080/",
          "height": 363
        },
        "id": "9675PiOT68n7",
        "outputId": "e0198cf1-901c-4192-a789-7072e5a5e2ab"
      },
      "execution_count": 122,
      "outputs": [
        {
          "output_type": "display_data",
          "data": {
            "text/plain": [
              "<IPython.core.display.HTML object>"
            ],
            "text/html": [
              "\n",
              "<style>\n",
              "    /* Turns off some styling */\n",
              "    progress {\n",
              "        /* gets rid of default border in Firefox and Opera. */\n",
              "        border: none;\n",
              "        /* Needs to be in here for Safari polyfill so background images work as expected. */\n",
              "        background-size: auto;\n",
              "    }\n",
              "    progress:not([value]), progress:not([value])::-webkit-progress-bar {\n",
              "        background: repeating-linear-gradient(45deg, #7e7e7e, #7e7e7e 10px, #5c5c5c 10px, #5c5c5c 20px);\n",
              "    }\n",
              "    .progress-bar-interrupted, .progress-bar-interrupted::-webkit-progress-bar {\n",
              "        background: #F44336;\n",
              "    }\n",
              "</style>\n"
            ]
          },
          "metadata": {}
        },
        {
          "output_type": "display_data",
          "data": {
            "text/plain": [
              "<IPython.core.display.HTML object>"
            ],
            "text/html": [
              "<table border=\"1\" class=\"dataframe\">\n",
              "  <thead>\n",
              "    <tr style=\"text-align: left;\">\n",
              "      <th>epoch</th>\n",
              "      <th>train_loss</th>\n",
              "      <th>valid_loss</th>\n",
              "      <th>batch_accuracy</th>\n",
              "      <th>time</th>\n",
              "    </tr>\n",
              "  </thead>\n",
              "  <tbody>\n",
              "    <tr>\n",
              "      <td>0</td>\n",
              "      <td>0.636910</td>\n",
              "      <td>0.503699</td>\n",
              "      <td>0.495584</td>\n",
              "      <td>00:00</td>\n",
              "    </tr>\n",
              "    <tr>\n",
              "      <td>1</td>\n",
              "      <td>0.625418</td>\n",
              "      <td>0.088840</td>\n",
              "      <td>0.942591</td>\n",
              "      <td>00:00</td>\n",
              "    </tr>\n",
              "    <tr>\n",
              "      <td>2</td>\n",
              "      <td>0.225163</td>\n",
              "      <td>0.274912</td>\n",
              "      <td>0.735034</td>\n",
              "      <td>00:00</td>\n",
              "    </tr>\n",
              "    <tr>\n",
              "      <td>3</td>\n",
              "      <td>0.097372</td>\n",
              "      <td>0.131012</td>\n",
              "      <td>0.888126</td>\n",
              "      <td>00:00</td>\n",
              "    </tr>\n",
              "    <tr>\n",
              "      <td>4</td>\n",
              "      <td>0.049841</td>\n",
              "      <td>0.088842</td>\n",
              "      <td>0.921001</td>\n",
              "      <td>00:00</td>\n",
              "    </tr>\n",
              "    <tr>\n",
              "      <td>5</td>\n",
              "      <td>0.031315</td>\n",
              "      <td>0.068755</td>\n",
              "      <td>0.940628</td>\n",
              "      <td>00:00</td>\n",
              "    </tr>\n",
              "    <tr>\n",
              "      <td>6</td>\n",
              "      <td>0.023686</td>\n",
              "      <td>0.056863</td>\n",
              "      <td>0.953386</td>\n",
              "      <td>00:00</td>\n",
              "    </tr>\n",
              "    <tr>\n",
              "      <td>7</td>\n",
              "      <td>0.020326</td>\n",
              "      <td>0.049142</td>\n",
              "      <td>0.959274</td>\n",
              "      <td>00:00</td>\n",
              "    </tr>\n",
              "    <tr>\n",
              "      <td>8</td>\n",
              "      <td>0.018663</td>\n",
              "      <td>0.043854</td>\n",
              "      <td>0.964671</td>\n",
              "      <td>00:00</td>\n",
              "    </tr>\n",
              "    <tr>\n",
              "      <td>9</td>\n",
              "      <td>0.017694</td>\n",
              "      <td>0.040051</td>\n",
              "      <td>0.966143</td>\n",
              "      <td>00:00</td>\n",
              "    </tr>\n",
              "  </tbody>\n",
              "</table>"
            ]
          },
          "metadata": {}
        }
      ]
    },
    {
      "cell_type": "code",
      "source": [
        "1+1"
      ],
      "metadata": {
        "colab": {
          "base_uri": "https://localhost:8080/"
        },
        "id": "vD1Y4DZ37xh1",
        "outputId": "7124e796-881d-4f37-fe93-6d971ddcc716"
      },
      "execution_count": 123,
      "outputs": [
        {
          "output_type": "execute_result",
          "data": {
            "text/plain": [
              "2"
            ]
          },
          "metadata": {},
          "execution_count": 123
        }
      ]
    },
    {
      "cell_type": "markdown",
      "source": [
        "# Adding non linearity"
      ],
      "metadata": {
        "id": "fngtMLEgSbPX"
      }
    },
    {
      "cell_type": "code",
      "source": [
        "def simple_net(xb):\n",
        "    res = xb@w1 + b1\n",
        "    res = res.max(tensor(0.0))\n",
        "    res = res@w2 + b2\n",
        "    return res"
      ],
      "metadata": {
        "id": "-W06jWIzR7wV"
      },
      "execution_count": 78,
      "outputs": []
    },
    {
      "cell_type": "code",
      "source": [
        "w1 = init_params((28*28,30))\n",
        "b1 = init_params(30)\n",
        "w2 = init_params((30,1))\n",
        "b2 = init_params(1)"
      ],
      "metadata": {
        "id": "b5PQiQafSajs"
      },
      "execution_count": 79,
      "outputs": []
    },
    {
      "cell_type": "code",
      "source": [
        "simple_net = nn.Sequential(\n",
        "    nn.Linear(28*28,30),\n",
        "    nn.ReLU(),\n",
        "    nn.Linear(30,1)\n",
        ")"
      ],
      "metadata": {
        "id": "xg3QN_OdSgAe"
      },
      "execution_count": 131,
      "outputs": []
    },
    {
      "cell_type": "code",
      "source": [
        "list(nn.Linear(4,2).parameters())"
      ],
      "metadata": {
        "colab": {
          "base_uri": "https://localhost:8080/"
        },
        "id": "lOTRxovBTA7B",
        "outputId": "c6ad57be-e9be-47bb-8bd9-69a5ad1ed09d"
      },
      "execution_count": 85,
      "outputs": [
        {
          "output_type": "execute_result",
          "data": {
            "text/plain": [
              "[Parameter containing:\n",
              " tensor([[ 0.2652, -0.0247, -0.0195,  0.0182],\n",
              "         [ 0.2699, -0.0601, -0.1785, -0.4613]], requires_grad=True),\n",
              " Parameter containing:\n",
              " tensor([ 0.4261, -0.1795], requires_grad=True)]"
            ]
          },
          "metadata": {},
          "execution_count": 85
        }
      ]
    },
    {
      "cell_type": "code",
      "source": [
        "learn = Learner(dls, simple_net, opt_func=SGD,\n",
        "                loss_func=mnist_loss, metrics=batch_accuracy)"
      ],
      "metadata": {
        "id": "Xq1QxjYvUT96"
      },
      "execution_count": 133,
      "outputs": []
    },
    {
      "cell_type": "code",
      "source": [
        "learn.fit(n_epoch=30, lr=0.3)"
      ],
      "metadata": {
        "colab": {
          "base_uri": "https://localhost:8080/",
          "height": 990
        },
        "id": "cKSIc_c_U4me",
        "outputId": "2cd730e0-726a-46e5-e118-9bdaeb366f96"
      },
      "execution_count": 134,
      "outputs": [
        {
          "output_type": "display_data",
          "data": {
            "text/plain": [
              "<IPython.core.display.HTML object>"
            ],
            "text/html": [
              "\n",
              "<style>\n",
              "    /* Turns off some styling */\n",
              "    progress {\n",
              "        /* gets rid of default border in Firefox and Opera. */\n",
              "        border: none;\n",
              "        /* Needs to be in here for Safari polyfill so background images work as expected. */\n",
              "        background-size: auto;\n",
              "    }\n",
              "    progress:not([value]), progress:not([value])::-webkit-progress-bar {\n",
              "        background: repeating-linear-gradient(45deg, #7e7e7e, #7e7e7e 10px, #5c5c5c 10px, #5c5c5c 20px);\n",
              "    }\n",
              "    .progress-bar-interrupted, .progress-bar-interrupted::-webkit-progress-bar {\n",
              "        background: #F44336;\n",
              "    }\n",
              "</style>\n"
            ]
          },
          "metadata": {}
        },
        {
          "output_type": "display_data",
          "data": {
            "text/plain": [
              "<IPython.core.display.HTML object>"
            ],
            "text/html": [
              "<table border=\"1\" class=\"dataframe\">\n",
              "  <thead>\n",
              "    <tr style=\"text-align: left;\">\n",
              "      <th>epoch</th>\n",
              "      <th>train_loss</th>\n",
              "      <th>valid_loss</th>\n",
              "      <th>batch_accuracy</th>\n",
              "      <th>time</th>\n",
              "    </tr>\n",
              "  </thead>\n",
              "  <tbody>\n",
              "    <tr>\n",
              "      <td>0</td>\n",
              "      <td>0.240444</td>\n",
              "      <td>0.470776</td>\n",
              "      <td>0.504416</td>\n",
              "      <td>00:01</td>\n",
              "    </tr>\n",
              "    <tr>\n",
              "      <td>1</td>\n",
              "      <td>0.106907</td>\n",
              "      <td>0.245825</td>\n",
              "      <td>0.769872</td>\n",
              "      <td>00:01</td>\n",
              "    </tr>\n",
              "    <tr>\n",
              "      <td>2</td>\n",
              "      <td>0.054241</td>\n",
              "      <td>0.119740</td>\n",
              "      <td>0.899902</td>\n",
              "      <td>00:00</td>\n",
              "    </tr>\n",
              "    <tr>\n",
              "      <td>3</td>\n",
              "      <td>0.034079</td>\n",
              "      <td>0.080514</td>\n",
              "      <td>0.929343</td>\n",
              "      <td>00:00</td>\n",
              "    </tr>\n",
              "    <tr>\n",
              "      <td>4</td>\n",
              "      <td>0.025307</td>\n",
              "      <td>0.062247</td>\n",
              "      <td>0.947007</td>\n",
              "      <td>00:00</td>\n",
              "    </tr>\n",
              "    <tr>\n",
              "      <td>5</td>\n",
              "      <td>0.021040</td>\n",
              "      <td>0.051516</td>\n",
              "      <td>0.956820</td>\n",
              "      <td>00:00</td>\n",
              "    </tr>\n",
              "    <tr>\n",
              "      <td>6</td>\n",
              "      <td>0.018699</td>\n",
              "      <td>0.044700</td>\n",
              "      <td>0.962709</td>\n",
              "      <td>00:00</td>\n",
              "    </tr>\n",
              "    <tr>\n",
              "      <td>7</td>\n",
              "      <td>0.017215</td>\n",
              "      <td>0.040111</td>\n",
              "      <td>0.966634</td>\n",
              "      <td>00:00</td>\n",
              "    </tr>\n",
              "    <tr>\n",
              "      <td>8</td>\n",
              "      <td>0.016153</td>\n",
              "      <td>0.036832</td>\n",
              "      <td>0.968106</td>\n",
              "      <td>00:00</td>\n",
              "    </tr>\n",
              "    <tr>\n",
              "      <td>9</td>\n",
              "      <td>0.015327</td>\n",
              "      <td>0.034384</td>\n",
              "      <td>0.970069</td>\n",
              "      <td>00:00</td>\n",
              "    </tr>\n",
              "    <tr>\n",
              "      <td>10</td>\n",
              "      <td>0.014641</td>\n",
              "      <td>0.032490</td>\n",
              "      <td>0.971050</td>\n",
              "      <td>00:00</td>\n",
              "    </tr>\n",
              "    <tr>\n",
              "      <td>11</td>\n",
              "      <td>0.014047</td>\n",
              "      <td>0.030969</td>\n",
              "      <td>0.972522</td>\n",
              "      <td>00:00</td>\n",
              "    </tr>\n",
              "    <tr>\n",
              "      <td>12</td>\n",
              "      <td>0.013528</td>\n",
              "      <td>0.029706</td>\n",
              "      <td>0.973994</td>\n",
              "      <td>00:00</td>\n",
              "    </tr>\n",
              "    <tr>\n",
              "      <td>13</td>\n",
              "      <td>0.013079</td>\n",
              "      <td>0.028627</td>\n",
              "      <td>0.974975</td>\n",
              "      <td>00:00</td>\n",
              "    </tr>\n",
              "    <tr>\n",
              "      <td>14</td>\n",
              "      <td>0.012695</td>\n",
              "      <td>0.027686</td>\n",
              "      <td>0.975957</td>\n",
              "      <td>00:00</td>\n",
              "    </tr>\n",
              "    <tr>\n",
              "      <td>15</td>\n",
              "      <td>0.012368</td>\n",
              "      <td>0.026857</td>\n",
              "      <td>0.976448</td>\n",
              "      <td>00:00</td>\n",
              "    </tr>\n",
              "    <tr>\n",
              "      <td>16</td>\n",
              "      <td>0.012090</td>\n",
              "      <td>0.026122</td>\n",
              "      <td>0.976938</td>\n",
              "      <td>00:00</td>\n",
              "    </tr>\n",
              "    <tr>\n",
              "      <td>17</td>\n",
              "      <td>0.011851</td>\n",
              "      <td>0.025469</td>\n",
              "      <td>0.977429</td>\n",
              "      <td>00:00</td>\n",
              "    </tr>\n",
              "    <tr>\n",
              "      <td>18</td>\n",
              "      <td>0.011642</td>\n",
              "      <td>0.024888</td>\n",
              "      <td>0.977920</td>\n",
              "      <td>00:00</td>\n",
              "    </tr>\n",
              "    <tr>\n",
              "      <td>19</td>\n",
              "      <td>0.011456</td>\n",
              "      <td>0.024369</td>\n",
              "      <td>0.977920</td>\n",
              "      <td>00:00</td>\n",
              "    </tr>\n",
              "    <tr>\n",
              "      <td>20</td>\n",
              "      <td>0.011288</td>\n",
              "      <td>0.023903</td>\n",
              "      <td>0.978410</td>\n",
              "      <td>00:00</td>\n",
              "    </tr>\n",
              "    <tr>\n",
              "      <td>21</td>\n",
              "      <td>0.011135</td>\n",
              "      <td>0.023485</td>\n",
              "      <td>0.978410</td>\n",
              "      <td>00:00</td>\n",
              "    </tr>\n",
              "    <tr>\n",
              "      <td>22</td>\n",
              "      <td>0.010993</td>\n",
              "      <td>0.023106</td>\n",
              "      <td>0.978410</td>\n",
              "      <td>00:00</td>\n",
              "    </tr>\n",
              "    <tr>\n",
              "      <td>23</td>\n",
              "      <td>0.010859</td>\n",
              "      <td>0.022761</td>\n",
              "      <td>0.978901</td>\n",
              "      <td>00:00</td>\n",
              "    </tr>\n",
              "    <tr>\n",
              "      <td>24</td>\n",
              "      <td>0.010733</td>\n",
              "      <td>0.022447</td>\n",
              "      <td>0.979392</td>\n",
              "      <td>00:00</td>\n",
              "    </tr>\n",
              "    <tr>\n",
              "      <td>25</td>\n",
              "      <td>0.010613</td>\n",
              "      <td>0.022161</td>\n",
              "      <td>0.979392</td>\n",
              "      <td>00:00</td>\n",
              "    </tr>\n",
              "    <tr>\n",
              "      <td>26</td>\n",
              "      <td>0.010497</td>\n",
              "      <td>0.021899</td>\n",
              "      <td>0.979882</td>\n",
              "      <td>00:00</td>\n",
              "    </tr>\n",
              "    <tr>\n",
              "      <td>27</td>\n",
              "      <td>0.010387</td>\n",
              "      <td>0.021659</td>\n",
              "      <td>0.980373</td>\n",
              "      <td>00:00</td>\n",
              "    </tr>\n",
              "    <tr>\n",
              "      <td>28</td>\n",
              "      <td>0.010281</td>\n",
              "      <td>0.021438</td>\n",
              "      <td>0.980864</td>\n",
              "      <td>00:00</td>\n",
              "    </tr>\n",
              "    <tr>\n",
              "      <td>29</td>\n",
              "      <td>0.010179</td>\n",
              "      <td>0.021235</td>\n",
              "      <td>0.980373</td>\n",
              "      <td>00:00</td>\n",
              "    </tr>\n",
              "  </tbody>\n",
              "</table>"
            ]
          },
          "metadata": {}
        }
      ]
    },
    {
      "cell_type": "code",
      "source": [
        "plt.plot(L(learn.recorder.values).itemgot(2));"
      ],
      "metadata": {
        "colab": {
          "base_uri": "https://localhost:8080/",
          "height": 438
        },
        "id": "0VQgxgVMVfdO",
        "outputId": "871cb73b-4671-4eba-9e34-66d3dc6a597c"
      },
      "execution_count": 135,
      "outputs": [
        {
          "output_type": "display_data",
          "data": {
            "text/plain": [
              "<Figure size 640x480 with 1 Axes>"
            ],
            "image/png": "[encoded data removed]"
          },
          "metadata": {}
        }
      ]
    },
    {
      "cell_type": "code",
      "source": [
        "plt.plot(L(learn.recorder.values).itemgot(1))"
      ],
      "metadata": {
        "colab": {
          "base_uri": "https://localhost:8080/",
          "height": 451
        },
        "id": "CqeMQob-V8uG",
        "outputId": "257154c0-30db-4f8b-f1c0-0eaa15b7cf44"
      },
      "execution_count": 142,
      "outputs": [
        {
          "output_type": "execute_result",
          "data": {
            "text/plain": [
              "[<matplotlib.lines.Line2D at 0x7f689eebe590>]"
            ]
          },
          "metadata": {},
          "execution_count": 142
        },
        {
          "output_type": "display_data",
          "data": {
            "text/plain": [
              "<Figure size 640x480 with 1 Axes>"
            ],
            "image/png": "[encoded data removed]"
          },
          "metadata": {}
        }
      ]
    },
    {
      "cell_type": "code",
      "source": [
        "print(\"Final Accuracy: \", learn.recorder.values[-1][2])"
      ],
      "metadata": {
        "colab": {
          "base_uri": "https://localhost:8080/"
        },
        "id": "ZclInTKQWRW2",
        "outputId": "25a1418a-7c4b-4159-83f9-9138342e389c"
      },
      "execution_count": 143,
      "outputs": [
        {
          "output_type": "stream",
          "name": "stdout",
          "text": [
            "Final Accuracy:  0.9803729057312012\n"
          ]
        }
      ]
    },
    {
      "cell_type": "code",
      "source": [
        "L([1,2,3])"
      ],
      "metadata": {
        "colab": {
          "base_uri": "https://localhost:8080/"
        },
        "id": "vMcDdakLWvEd",
        "outputId": "cb2ac0c9-5371-4fd8-d270-f608d5e0258d"
      },
      "execution_count": 144,
      "outputs": [
        {
          "output_type": "execute_result",
          "data": {
            "text/plain": [
              "(#3) [1,2,3]"
            ]
          },
          "metadata": {},
          "execution_count": 144
        }
      ]
    },
    {
      "cell_type": "code",
      "source": [
        "[x*2 if not x%2==0 else x  for x in  list(range(15)) ]"
      ],
      "metadata": {
        "colab": {
          "base_uri": "https://localhost:8080/"
        },
        "id": "KD73y0qmcyHa",
        "outputId": "8816679f-4691-49e0-efc6-a56dc1ae5819"
      },
      "execution_count": 153,
      "outputs": [
        {
          "output_type": "execute_result",
          "data": {
            "text/plain": [
              "[0, 2, 2, 6, 4, 10, 6, 14, 8, 18, 10, 22, 12, 26, 14]"
            ]
          },
          "metadata": {},
          "execution_count": 153
        }
      ]
    },
    {
      "cell_type": "code",
      "source": [
        "def func(a , b):\n",
        "  return list(zip(a,b))\n",
        "\n",
        "func([1,2,3], \"abc\")"
      ],
      "metadata": {
        "colab": {
          "base_uri": "https://localhost:8080/"
        },
        "id": "Ot-VdfDBc1Dz",
        "outputId": "97667d5f-52da-4352-f439-ffecae3cc146"
      },
      "execution_count": 154,
      "outputs": [
        {
          "output_type": "execute_result",
          "data": {
            "text/plain": [
              "[(1, 'a'), (2, 'b'), (3, 'c')]"
            ]
          },
          "metadata": {},
          "execution_count": 154
        }
      ]
    },
    {
      "cell_type": "markdown",
      "source": [
        "# implementation with all numbers - this implementation will be made on another notebook\n"
      ],
      "metadata": {
        "id": "YMSj_Fc6iuH8"
      }
    },
    {
      "cell_type": "code",
      "source": [
        "path = untar_data(URLs.MNIST)"
      ],
      "metadata": {
        "colab": {
          "base_uri": "https://localhost:8080/",
          "height": 37
        },
        "id": "_NuwreCIjYA8",
        "outputId": "9fb5fcaa-01b7-44dd-ca18-87cf2384548f"
      },
      "execution_count": 155,
      "outputs": [
        {
          "output_type": "display_data",
          "data": {
            "text/plain": [
              "<IPython.core.display.HTML object>"
            ],
            "text/html": [
              "\n",
              "<style>\n",
              "    /* Turns off some styling */\n",
              "    progress {\n",
              "        /* gets rid of default border in Firefox and Opera. */\n",
              "        border: none;\n",
              "        /* Needs to be in here for Safari polyfill so background images work as expected. */\n",
              "        background-size: auto;\n",
              "    }\n",
              "    progress:not([value]), progress:not([value])::-webkit-progress-bar {\n",
              "        background: repeating-linear-gradient(45deg, #7e7e7e, #7e7e7e 10px, #5c5c5c 10px, #5c5c5c 20px);\n",
              "    }\n",
              "    .progress-bar-interrupted, .progress-bar-interrupted::-webkit-progress-bar {\n",
              "        background: #F44336;\n",
              "    }\n",
              "</style>\n"
            ]
          },
          "metadata": {}
        },
        {
          "output_type": "display_data",
          "data": {
            "text/plain": [
              "<IPython.core.display.HTML object>"
            ],
            "text/html": [
              "\n",
              "    <div>\n",
              "      <progress value='15687680' class='' max='15683414' style='width:300px; height:20px; vertical-align: middle;'></progress>\n",
              "      100.03% [15687680/15683414 00:00&lt;00:00]\n",
              "    </div>\n",
              "    "
            ]
          },
          "metadata": {}
        }
      ]
    },
    {
      "cell_type": "code",
      "source": [
        "Tensor(Image.open((path/\"training\"/\"6\").ls()[0]))"
      ],
      "metadata": {
        "colab": {
          "base_uri": "https://localhost:8080/",
          "height": 166
        },
        "id": "IHKGnrcOjgIh",
        "outputId": "c742f7a7-a887-458e-8224-23a262370e97"
      },
      "execution_count": 162,
      "outputs": [
        {
          "output_type": "error",
          "ename": "TypeError",
          "evalue": "ignored",
          "traceback": [
            "\u001b[0;31m---------------------------------------------------------------------------\u001b[0m",
            "\u001b[0;31mTypeError\u001b[0m                                 Traceback (most recent call last)",
            "\u001b[0;32m<ipython-input-162-7fb2b8dd4c51>\u001b[0m in \u001b[0;36m<cell line: 1>\u001b[0;34m()\u001b[0m\n\u001b[0;32m----> 1\u001b[0;31m \u001b[0mTensor\u001b[0m\u001b[0;34m(\u001b[0m\u001b[0mImage\u001b[0m\u001b[0;34m.\u001b[0m\u001b[0mopen\u001b[0m\u001b[0;34m(\u001b[0m\u001b[0;34m(\u001b[0m\u001b[0mpath\u001b[0m\u001b[0;34m/\u001b[0m\u001b[0;34m\"training\"\u001b[0m\u001b[0;34m/\u001b[0m\u001b[0;34m\"6\"\u001b[0m\u001b[0;34m)\u001b[0m\u001b[0;34m.\u001b[0m\u001b[0mls\u001b[0m\u001b[0;34m(\u001b[0m\u001b[0;34m)\u001b[0m\u001b[0;34m[\u001b[0m\u001b[0;36m0\u001b[0m\u001b[0;34m]\u001b[0m\u001b[0;34m)\u001b[0m\u001b[0;34m)\u001b[0m\u001b[0;34m\u001b[0m\u001b[0;34m\u001b[0m\u001b[0m\n\u001b[0m",
            "\u001b[0;31mTypeError\u001b[0m: new(): data must be a sequence (got PngImageFile)"
          ]
        }
      ]
    },
    {
      "cell_type": "code",
      "source": [
        "[]"
      ],
      "metadata": {
        "id": "2uGOxal7jjJy"
      },
      "execution_count": null,
      "outputs": []
    }
  ]
}